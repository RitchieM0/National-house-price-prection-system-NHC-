{
 "cells": [
  {
   "cell_type": "code",
   "execution_count": 61,
   "metadata": {},
   "outputs": [],
   "source": [
    "#importing useful libraries\n",
    "import numpy as np\n",
    "import pandas as pd\n",
    "import matplotlib.pyplot as plt\n",
    "import seaborn as sns\n",
    "import sklearn\n",
    "%matplotlib inline"
   ]
  },
  {
   "cell_type": "code",
   "execution_count": 62,
   "metadata": {},
   "outputs": [],
   "source": [
    "df = pd.read_excel('ALL PRICES - NHC PROJECTS.xlsx',sheet_name=1)"
   ]
  },
  {
   "cell_type": "code",
   "execution_count": 63,
   "metadata": {},
   "outputs": [
    {
     "data": {
      "text/html": [
       "<div>\n",
       "<style scoped>\n",
       "    .dataframe tbody tr th:only-of-type {\n",
       "        vertical-align: middle;\n",
       "    }\n",
       "\n",
       "    .dataframe tbody tr th {\n",
       "        vertical-align: top;\n",
       "    }\n",
       "\n",
       "    .dataframe thead th {\n",
       "        text-align: right;\n",
       "    }\n",
       "</style>\n",
       "<table border=\"1\" class=\"dataframe\">\n",
       "  <thead>\n",
       "    <tr style=\"text-align: right;\">\n",
       "      <th></th>\n",
       "      <th>PROJECT_NAME</th>\n",
       "      <th>NUMBER_OF_ROOMS</th>\n",
       "      <th>FLOOR_AREA</th>\n",
       "      <th>HOUSE_TYPE</th>\n",
       "      <th>PRICE_1</th>\n",
       "      <th>PRICE_2</th>\n",
       "      <th>LATITUDE</th>\n",
       "      <th>LONGITUDE</th>\n",
       "    </tr>\n",
       "  </thead>\n",
       "  <tbody>\n",
       "    <tr>\n",
       "      <th>0</th>\n",
       "      <td>KONGWA</td>\n",
       "      <td>2</td>\n",
       "      <td>56.0</td>\n",
       "      <td>normal</td>\n",
       "      <td>35492580.0</td>\n",
       "      <td>41881244.4</td>\n",
       "      <td>-6.2000</td>\n",
       "      <td>36.4170</td>\n",
       "    </tr>\n",
       "    <tr>\n",
       "      <th>1</th>\n",
       "      <td>KONGWA</td>\n",
       "      <td>3</td>\n",
       "      <td>70.0</td>\n",
       "      <td>normal</td>\n",
       "      <td>39835800.0</td>\n",
       "      <td>47006244.0</td>\n",
       "      <td>-6.2000</td>\n",
       "      <td>36.4170</td>\n",
       "    </tr>\n",
       "    <tr>\n",
       "      <th>2</th>\n",
       "      <td>KONGWA</td>\n",
       "      <td>3</td>\n",
       "      <td>56.0</td>\n",
       "      <td>normal</td>\n",
       "      <td>40166280.0</td>\n",
       "      <td>47396210.4</td>\n",
       "      <td>-6.2000</td>\n",
       "      <td>36.4170</td>\n",
       "    </tr>\n",
       "    <tr>\n",
       "      <th>3</th>\n",
       "      <td>MKUZO</td>\n",
       "      <td>2</td>\n",
       "      <td>56.0</td>\n",
       "      <td>normal</td>\n",
       "      <td>36310680.0</td>\n",
       "      <td>42846602.4</td>\n",
       "      <td>-10.6425</td>\n",
       "      <td>35.6317</td>\n",
       "    </tr>\n",
       "    <tr>\n",
       "      <th>4</th>\n",
       "      <td>MKUZO</td>\n",
       "      <td>3</td>\n",
       "      <td>70.0</td>\n",
       "      <td>normal</td>\n",
       "      <td>41727960.0</td>\n",
       "      <td>49238992.8</td>\n",
       "      <td>-10.6425</td>\n",
       "      <td>35.6317</td>\n",
       "    </tr>\n",
       "  </tbody>\n",
       "</table>\n",
       "</div>"
      ],
      "text/plain": [
       "  PROJECT_NAME  NUMBER_OF_ROOMS  FLOOR_AREA HOUSE_TYPE     PRICE_1  \\\n",
       "0       KONGWA                2        56.0     normal  35492580.0   \n",
       "1       KONGWA                3        70.0     normal  39835800.0   \n",
       "2       KONGWA                3        56.0     normal  40166280.0   \n",
       "3        MKUZO                2        56.0     normal  36310680.0   \n",
       "4        MKUZO                3        70.0     normal  41727960.0   \n",
       "\n",
       "      PRICE_2  LATITUDE  LONGITUDE  \n",
       "0  41881244.4   -6.2000    36.4170  \n",
       "1  47006244.0   -6.2000    36.4170  \n",
       "2  47396210.4   -6.2000    36.4170  \n",
       "3  42846602.4  -10.6425    35.6317  \n",
       "4  49238992.8  -10.6425    35.6317  "
      ]
     },
     "execution_count": 63,
     "metadata": {},
     "output_type": "execute_result"
    }
   ],
   "source": [
    "df.head()"
   ]
  },
  {
   "cell_type": "code",
   "execution_count": 64,
   "metadata": {},
   "outputs": [],
   "source": [
    "#reshuffling the data\n",
    "df_shuf=df.sample(frac=1).reset_index(drop=True)"
   ]
  },
  {
   "cell_type": "code",
   "execution_count": 31,
   "metadata": {},
   "outputs": [
    {
     "data": {
      "text/html": [
       "<div>\n",
       "<style scoped>\n",
       "    .dataframe tbody tr th:only-of-type {\n",
       "        vertical-align: middle;\n",
       "    }\n",
       "\n",
       "    .dataframe tbody tr th {\n",
       "        vertical-align: top;\n",
       "    }\n",
       "\n",
       "    .dataframe thead th {\n",
       "        text-align: right;\n",
       "    }\n",
       "</style>\n",
       "<table border=\"1\" class=\"dataframe\">\n",
       "  <thead>\n",
       "    <tr style=\"text-align: right;\">\n",
       "      <th></th>\n",
       "      <th>PROJECT_NAME</th>\n",
       "      <th>NUMBER_OF_ROOMS</th>\n",
       "      <th>FLOOR_AREA</th>\n",
       "      <th>HOUSE_TYPE</th>\n",
       "      <th>PRICE_1</th>\n",
       "      <th>PRICE_2</th>\n",
       "      <th>LATITUDE</th>\n",
       "      <th>LONGITUDE</th>\n",
       "    </tr>\n",
       "  </thead>\n",
       "  <tbody>\n",
       "    <tr>\n",
       "      <th>0</th>\n",
       "      <td>Napupa - Masasi</td>\n",
       "      <td>3</td>\n",
       "      <td>85.0</td>\n",
       "      <td>normal</td>\n",
       "      <td>49895000.0</td>\n",
       "      <td>58876100.00</td>\n",
       "      <td>-10.7272</td>\n",
       "      <td>38.8006</td>\n",
       "    </tr>\n",
       "    <tr>\n",
       "      <th>1</th>\n",
       "      <td>MVOMERO</td>\n",
       "      <td>2</td>\n",
       "      <td>56.0</td>\n",
       "      <td>normal</td>\n",
       "      <td>34454160.0</td>\n",
       "      <td>40655908.80</td>\n",
       "      <td>-6.3029</td>\n",
       "      <td>37.4446</td>\n",
       "    </tr>\n",
       "    <tr>\n",
       "      <th>2</th>\n",
       "      <td>Leverosi - Arusha</td>\n",
       "      <td>2</td>\n",
       "      <td>60.0</td>\n",
       "      <td>normal</td>\n",
       "      <td>82108882.0</td>\n",
       "      <td>96888480.76</td>\n",
       "      <td>-3.4470</td>\n",
       "      <td>36.6741</td>\n",
       "    </tr>\n",
       "    <tr>\n",
       "      <th>3</th>\n",
       "      <td>IYUMBU - DODOMA</td>\n",
       "      <td>3</td>\n",
       "      <td>79.0</td>\n",
       "      <td>Apartment</td>\n",
       "      <td>57670000.0</td>\n",
       "      <td>68050600.00</td>\n",
       "      <td>-6.2008</td>\n",
       "      <td>35.8369</td>\n",
       "    </tr>\n",
       "    <tr>\n",
       "      <th>4</th>\n",
       "      <td>IYUMBU - DODOMA</td>\n",
       "      <td>3</td>\n",
       "      <td>115.0</td>\n",
       "      <td>Apartment</td>\n",
       "      <td>83950000.0</td>\n",
       "      <td>99061000.00</td>\n",
       "      <td>-6.2008</td>\n",
       "      <td>35.8369</td>\n",
       "    </tr>\n",
       "  </tbody>\n",
       "</table>\n",
       "</div>"
      ],
      "text/plain": [
       "        PROJECT_NAME  NUMBER_OF_ROOMS  FLOOR_AREA HOUSE_TYPE     PRICE_1  \\\n",
       "0    Napupa - Masasi                3        85.0     normal  49895000.0   \n",
       "1            MVOMERO                2        56.0     normal  34454160.0   \n",
       "2  Leverosi - Arusha                2        60.0     normal  82108882.0   \n",
       "3    IYUMBU - DODOMA                3        79.0  Apartment  57670000.0   \n",
       "4    IYUMBU - DODOMA                3       115.0  Apartment  83950000.0   \n",
       "\n",
       "       PRICE_2  LATITUDE  LONGITUDE  \n",
       "0  58876100.00  -10.7272    38.8006  \n",
       "1  40655908.80   -6.3029    37.4446  \n",
       "2  96888480.76   -3.4470    36.6741  \n",
       "3  68050600.00   -6.2008    35.8369  \n",
       "4  99061000.00   -6.2008    35.8369  "
      ]
     },
     "execution_count": 31,
     "metadata": {},
     "output_type": "execute_result"
    }
   ],
   "source": [
    "df_shuf.head()"
   ]
  },
  {
   "cell_type": "code",
   "execution_count": 32,
   "metadata": {},
   "outputs": [
    {
     "data": {
      "text/plain": [
       "<AxesSubplot:>"
      ]
     },
     "execution_count": 32,
     "metadata": {},
     "output_type": "execute_result"
    },
    {
     "data": {
      "image/png": "[encoded data removed]",
      "text/plain": [
       "<Figure size 432x288 with 1 Axes>"
      ]
     },
     "metadata": {
      "needs_background": "light"
     },
     "output_type": "display_data"
    }
   ],
   "source": [
    "#visualizing the missing values present in the dataframe\n",
    "sns.heatmap(df_shuf.isnull(), yticklabels=False, cbar=False, cmap='viridis')"
   ]
  },
  {
   "cell_type": "code",
   "execution_count": 65,
   "metadata": {},
   "outputs": [],
   "source": [
    "#conversion of categorical data to numerical values via direct mapping\n",
    "\n",
    "scale_mapper= {'normal':1, 'Apartment':2}\n",
    "df_shuf['HOUSE_TYPE'].replace(scale_mapper, inplace=True)"
   ]
  },
  {
   "cell_type": "code",
   "execution_count": 66,
   "metadata": {},
   "outputs": [
    {
     "data": {
      "text/plain": [
       "1    60\n",
       "2    25\n",
       "Name: HOUSE_TYPE, dtype: int64"
      ]
     },
     "execution_count": 66,
     "metadata": {},
     "output_type": "execute_result"
    }
   ],
   "source": [
    "df_shuf['HOUSE_TYPE'].value_counts()"
   ]
  },
  {
   "cell_type": "code",
   "execution_count": 67,
   "metadata": {},
   "outputs": [
    {
     "data": {
      "text/html": [
       "<div>\n",
       "<style scoped>\n",
       "    .dataframe tbody tr th:only-of-type {\n",
       "        vertical-align: middle;\n",
       "    }\n",
       "\n",
       "    .dataframe tbody tr th {\n",
       "        vertical-align: top;\n",
       "    }\n",
       "\n",
       "    .dataframe thead th {\n",
       "        text-align: right;\n",
       "    }\n",
       "</style>\n",
       "<table border=\"1\" class=\"dataframe\">\n",
       "  <thead>\n",
       "    <tr style=\"text-align: right;\">\n",
       "      <th></th>\n",
       "      <th>PROJECT_NAME</th>\n",
       "      <th>NUMBER_OF_ROOMS</th>\n",
       "      <th>FLOOR_AREA</th>\n",
       "      <th>HOUSE_TYPE</th>\n",
       "      <th>PRICE_1</th>\n",
       "      <th>PRICE_2</th>\n",
       "      <th>LATITUDE</th>\n",
       "      <th>LONGITUDE</th>\n",
       "    </tr>\n",
       "  </thead>\n",
       "  <tbody>\n",
       "    <tr>\n",
       "      <th>0</th>\n",
       "      <td>Kibada - Dar es salaam</td>\n",
       "      <td>3</td>\n",
       "      <td>144.0</td>\n",
       "      <td>1</td>\n",
       "      <td>74304416.0</td>\n",
       "      <td>8.767921e+07</td>\n",
       "      <td>-6.8640</td>\n",
       "      <td>39.3880</td>\n",
       "    </tr>\n",
       "    <tr>\n",
       "      <th>1</th>\n",
       "      <td>Mwongozo</td>\n",
       "      <td>3</td>\n",
       "      <td>130.0</td>\n",
       "      <td>1</td>\n",
       "      <td>116356500.0</td>\n",
       "      <td>1.373007e+08</td>\n",
       "      <td>-6.7978</td>\n",
       "      <td>39.2621</td>\n",
       "    </tr>\n",
       "    <tr>\n",
       "      <th>2</th>\n",
       "      <td>BOMBAMBILI</td>\n",
       "      <td>2</td>\n",
       "      <td>56.0</td>\n",
       "      <td>1</td>\n",
       "      <td>36783720.0</td>\n",
       "      <td>4.340479e+07</td>\n",
       "      <td>-10.6589</td>\n",
       "      <td>35.6460</td>\n",
       "    </tr>\n",
       "    <tr>\n",
       "      <th>3</th>\n",
       "      <td>Buhare - Musoma</td>\n",
       "      <td>3</td>\n",
       "      <td>85.0</td>\n",
       "      <td>1</td>\n",
       "      <td>49850000.0</td>\n",
       "      <td>5.882300e+07</td>\n",
       "      <td>-1.5000</td>\n",
       "      <td>33.8000</td>\n",
       "    </tr>\n",
       "    <tr>\n",
       "      <th>4</th>\n",
       "      <td>MKUZO</td>\n",
       "      <td>3</td>\n",
       "      <td>70.0</td>\n",
       "      <td>1</td>\n",
       "      <td>41727960.0</td>\n",
       "      <td>4.923899e+07</td>\n",
       "      <td>-10.6425</td>\n",
       "      <td>35.6317</td>\n",
       "    </tr>\n",
       "  </tbody>\n",
       "</table>\n",
       "</div>"
      ],
      "text/plain": [
       "             PROJECT_NAME  NUMBER_OF_ROOMS  FLOOR_AREA  HOUSE_TYPE  \\\n",
       "0  Kibada - Dar es salaam                3       144.0           1   \n",
       "1                Mwongozo                3       130.0           1   \n",
       "2              BOMBAMBILI                2        56.0           1   \n",
       "3         Buhare - Musoma                3        85.0           1   \n",
       "4                   MKUZO                3        70.0           1   \n",
       "\n",
       "       PRICE_1       PRICE_2  LATITUDE  LONGITUDE  \n",
       "0   74304416.0  8.767921e+07   -6.8640    39.3880  \n",
       "1  116356500.0  1.373007e+08   -6.7978    39.2621  \n",
       "2   36783720.0  4.340479e+07  -10.6589    35.6460  \n",
       "3   49850000.0  5.882300e+07   -1.5000    33.8000  \n",
       "4   41727960.0  4.923899e+07  -10.6425    35.6317  "
      ]
     },
     "execution_count": 67,
     "metadata": {},
     "output_type": "execute_result"
    }
   ],
   "source": [
    "df_shuf.head()"
   ]
  },
  {
   "cell_type": "code",
   "execution_count": 68,
   "metadata": {},
   "outputs": [],
   "source": [
    "#dropping string columns and additional price column\n",
    "new_df = df_shuf.drop(columns=['PROJECT_NAME','PRICE_1'], axis=1)"
   ]
  },
  {
   "cell_type": "code",
   "execution_count": 69,
   "metadata": {},
   "outputs": [
    {
     "data": {
      "text/html": [
       "<div>\n",
       "<style scoped>\n",
       "    .dataframe tbody tr th:only-of-type {\n",
       "        vertical-align: middle;\n",
       "    }\n",
       "\n",
       "    .dataframe tbody tr th {\n",
       "        vertical-align: top;\n",
       "    }\n",
       "\n",
       "    .dataframe thead th {\n",
       "        text-align: right;\n",
       "    }\n",
       "</style>\n",
       "<table border=\"1\" class=\"dataframe\">\n",
       "  <thead>\n",
       "    <tr style=\"text-align: right;\">\n",
       "      <th></th>\n",
       "      <th>NUMBER_OF_ROOMS</th>\n",
       "      <th>FLOOR_AREA</th>\n",
       "      <th>HOUSE_TYPE</th>\n",
       "      <th>PRICE_2</th>\n",
       "      <th>LATITUDE</th>\n",
       "      <th>LONGITUDE</th>\n",
       "    </tr>\n",
       "  </thead>\n",
       "  <tbody>\n",
       "    <tr>\n",
       "      <th>0</th>\n",
       "      <td>3</td>\n",
       "      <td>144.0</td>\n",
       "      <td>1</td>\n",
       "      <td>8.767921e+07</td>\n",
       "      <td>-6.8640</td>\n",
       "      <td>39.3880</td>\n",
       "    </tr>\n",
       "    <tr>\n",
       "      <th>1</th>\n",
       "      <td>3</td>\n",
       "      <td>130.0</td>\n",
       "      <td>1</td>\n",
       "      <td>1.373007e+08</td>\n",
       "      <td>-6.7978</td>\n",
       "      <td>39.2621</td>\n",
       "    </tr>\n",
       "  </tbody>\n",
       "</table>\n",
       "</div>"
      ],
      "text/plain": [
       "   NUMBER_OF_ROOMS  FLOOR_AREA  HOUSE_TYPE       PRICE_2  LATITUDE  LONGITUDE\n",
       "0                3       144.0           1  8.767921e+07   -6.8640    39.3880\n",
       "1                3       130.0           1  1.373007e+08   -6.7978    39.2621"
      ]
     },
     "execution_count": 69,
     "metadata": {},
     "output_type": "execute_result"
    }
   ],
   "source": [
    "new_df.head(2)"
   ]
  },
  {
   "cell_type": "code",
   "execution_count": 70,
   "metadata": {},
   "outputs": [],
   "source": [
    "#filling the missing numerical values using the NN imputation method\n",
    "from sklearn.impute import KNNImputer\n",
    "imputer = KNNImputer(n_neighbors=20)"
   ]
  },
  {
   "cell_type": "code",
   "execution_count": 71,
   "metadata": {},
   "outputs": [],
   "source": [
    "imput_df = imputer.fit_transform(new_df.values)\n",
    "house_df = pd.DataFrame(imput_df, columns=new_df.columns)"
   ]
  },
  {
   "cell_type": "code",
   "execution_count": 72,
   "metadata": {},
   "outputs": [
    {
     "data": {
      "text/plain": [
       "<AxesSubplot:>"
      ]
     },
     "execution_count": 72,
     "metadata": {},
     "output_type": "execute_result"
    },
    {
     "data": {
      "image/png": "[encoded data removed]",
      "text/plain": [
       "<Figure size 432x288 with 1 Axes>"
      ]
     },
     "metadata": {
      "needs_background": "light"
     },
     "output_type": "display_data"
    }
   ],
   "source": [
    "#visualizing the missing values present in the dataframe\n",
    "sns.heatmap(house_df.isnull(), yticklabels=False, cbar=False, cmap='viridis')"
   ]
  },
  {
   "cell_type": "code",
   "execution_count": 73,
   "metadata": {},
   "outputs": [],
   "source": [
    "#Standardizing the features using standard scaler for machine learning algorithms to understand\n",
    "from sklearn import preprocessing\n",
    "scaler = preprocessing.StandardScaler()\n",
    "standardized_df = scaler.fit_transform(house_df)"
   ]
  },
  {
   "cell_type": "code",
   "execution_count": 74,
   "metadata": {},
   "outputs": [],
   "source": [
    "#creating dataframe conducive for the ML algorithms\n",
    "best_df = pd.DataFrame(standardized_df, columns=new_df.columns)"
   ]
  },
  {
   "cell_type": "code",
   "execution_count": 75,
   "metadata": {},
   "outputs": [
    {
     "data": {
      "text/html": [
       "<div>\n",
       "<style scoped>\n",
       "    .dataframe tbody tr th:only-of-type {\n",
       "        vertical-align: middle;\n",
       "    }\n",
       "\n",
       "    .dataframe tbody tr th {\n",
       "        vertical-align: top;\n",
       "    }\n",
       "\n",
       "    .dataframe thead th {\n",
       "        text-align: right;\n",
       "    }\n",
       "</style>\n",
       "<table border=\"1\" class=\"dataframe\">\n",
       "  <thead>\n",
       "    <tr style=\"text-align: right;\">\n",
       "      <th></th>\n",
       "      <th>NUMBER_OF_ROOMS</th>\n",
       "      <th>FLOOR_AREA</th>\n",
       "      <th>HOUSE_TYPE</th>\n",
       "      <th>PRICE_2</th>\n",
       "      <th>LATITUDE</th>\n",
       "      <th>LONGITUDE</th>\n",
       "    </tr>\n",
       "  </thead>\n",
       "  <tbody>\n",
       "    <tr>\n",
       "      <th>0</th>\n",
       "      <td>0.245722</td>\n",
       "      <td>0.760423</td>\n",
       "      <td>-0.645497</td>\n",
       "      <td>-0.440136</td>\n",
       "      <td>-0.081641</td>\n",
       "      <td>0.913118</td>\n",
       "    </tr>\n",
       "    <tr>\n",
       "      <th>1</th>\n",
       "      <td>0.245722</td>\n",
       "      <td>0.464303</td>\n",
       "      <td>-0.645497</td>\n",
       "      <td>-0.197162</td>\n",
       "      <td>-0.050758</td>\n",
       "      <td>0.868230</td>\n",
       "    </tr>\n",
       "    <tr>\n",
       "      <th>2</th>\n",
       "      <td>-1.653038</td>\n",
       "      <td>-1.100901</td>\n",
       "      <td>-0.645497</td>\n",
       "      <td>-0.656928</td>\n",
       "      <td>-1.852001</td>\n",
       "      <td>-0.421025</td>\n",
       "    </tr>\n",
       "    <tr>\n",
       "      <th>3</th>\n",
       "      <td>0.245722</td>\n",
       "      <td>-0.487510</td>\n",
       "      <td>-0.645497</td>\n",
       "      <td>-0.581432</td>\n",
       "      <td>2.420719</td>\n",
       "      <td>-1.079183</td>\n",
       "    </tr>\n",
       "    <tr>\n",
       "      <th>4</th>\n",
       "      <td>0.245722</td>\n",
       "      <td>-0.804781</td>\n",
       "      <td>-0.645497</td>\n",
       "      <td>-0.628361</td>\n",
       "      <td>-1.844350</td>\n",
       "      <td>-0.426124</td>\n",
       "    </tr>\n",
       "  </tbody>\n",
       "</table>\n",
       "</div>"
      ],
      "text/plain": [
       "   NUMBER_OF_ROOMS  FLOOR_AREA  HOUSE_TYPE   PRICE_2  LATITUDE  LONGITUDE\n",
       "0         0.245722    0.760423   -0.645497 -0.440136 -0.081641   0.913118\n",
       "1         0.245722    0.464303   -0.645497 -0.197162 -0.050758   0.868230\n",
       "2        -1.653038   -1.100901   -0.645497 -0.656928 -1.852001  -0.421025\n",
       "3         0.245722   -0.487510   -0.645497 -0.581432  2.420719  -1.079183\n",
       "4         0.245722   -0.804781   -0.645497 -0.628361 -1.844350  -0.426124"
      ]
     },
     "execution_count": 75,
     "metadata": {},
     "output_type": "execute_result"
    }
   ],
   "source": [
    "best_df.head()"
   ]
  },
  {
   "cell_type": "code",
   "execution_count": 76,
   "metadata": {},
   "outputs": [
    {
     "data": {
      "text/plain": [
       "PRICE_2            1.000000\n",
       "FLOOR_AREA         0.864313\n",
       "HOUSE_TYPE         0.746561\n",
       "NUMBER_OF_ROOMS    0.533343\n",
       "LONGITUDE          0.452649\n",
       "LATITUDE          -0.011895\n",
       "Name: PRICE_2, dtype: float64"
      ]
     },
     "execution_count": 76,
     "metadata": {},
     "output_type": "execute_result"
    }
   ],
   "source": [
    "#checking correlation of each feature in relation to the price\n",
    "corr_matrix = best_df.corr()\n",
    "corr_matrix['PRICE_2'].sort_values(ascending=False)"
   ]
  },
  {
   "cell_type": "code",
   "execution_count": 77,
   "metadata": {},
   "outputs": [
    {
     "data": {
      "text/plain": [
       "<AxesSubplot:xlabel='FLOOR_AREA', ylabel='PRICE_2'>"
      ]
     },
     "execution_count": 77,
     "metadata": {},
     "output_type": "execute_result"
    },
    {
     "data": {
      "text/plain": [
       "<Figure size 1080x576 with 0 Axes>"
      ]
     },
     "metadata": {},
     "output_type": "display_data"
    },
    {
     "data": {
      "image/png": "[encoded data removed]",
      "text/plain": [
       "<Figure size 432x288 with 1 Axes>"
      ]
     },
     "metadata": {
      "needs_background": "light"
     },
     "output_type": "display_data"
    }
   ],
   "source": [
    "#plotting the most correlated feature against the price\n",
    "plt.figure(figsize=(15,8))\n",
    "house_df.plot(kind='scatter', x='FLOOR_AREA', y='PRICE_2', alpha=1)"
   ]
  },
  {
   "cell_type": "code",
   "execution_count": 78,
   "metadata": {},
   "outputs": [
    {
     "name": "stderr",
     "output_type": "stream",
     "text": [
      "/home/kb/anaconda3/lib/python3.9/site-packages/seaborn/distributions.py:2619: FutureWarning: `distplot` is a deprecated function and will be removed in a future version. Please adapt your code to use either `displot` (a figure-level function with similar flexibility) or `histplot` (an axes-level function for histograms).\n",
      "  warnings.warn(msg, FutureWarning)\n"
     ]
    },
    {
     "data": {
      "text/plain": [
       "<Figure size 864x576 with 0 Axes>"
      ]
     },
     "execution_count": 78,
     "metadata": {},
     "output_type": "execute_result"
    },
    {
     "data": {
      "image/png": "[encoded data removed]",
      "text/plain": [
       "<Figure size 432x288 with 1 Axes>"
      ]
     },
     "metadata": {
      "needs_background": "light"
     },
     "output_type": "display_data"
    },
    {
     "data": {
      "text/plain": [
       "<Figure size 864x576 with 0 Axes>"
      ]
     },
     "metadata": {},
     "output_type": "display_data"
    }
   ],
   "source": [
    "#plotting the price distribution\n",
    "sns.distplot(best_df.PRICE_2)\n",
    "plt.figure(figsize=(12,8))"
   ]
  },
  {
   "cell_type": "code",
   "execution_count": 79,
   "metadata": {},
   "outputs": [
    {
     "data": {
      "text/plain": [
       "<AxesSubplot:>"
      ]
     },
     "execution_count": 79,
     "metadata": {},
     "output_type": "execute_result"
    },
    {
     "data": {
      "image/png": "[encoded data removed]",
      "text/plain": [
       "<Figure size 432x288 with 1 Axes>"
      ]
     },
     "metadata": {
      "needs_background": "light"
     },
     "output_type": "display_data"
    }
   ],
   "source": [
    "best_df['PRICE_2'].hist(bins=15)"
   ]
  },
  {
   "cell_type": "code",
   "execution_count": 80,
   "metadata": {},
   "outputs": [
    {
     "data": {
      "text/plain": [
       "<AxesSubplot:>"
      ]
     },
     "execution_count": 80,
     "metadata": {},
     "output_type": "execute_result"
    },
    {
     "data": {
      "image/png": "[encoded data removed]",
      "text/plain": [
       "<Figure size 432x288 with 2 Axes>"
      ]
     },
     "metadata": {
      "needs_background": "light"
     },
     "output_type": "display_data"
    }
   ],
   "source": [
    "#heat map showing the correlation of features with respect to the price\n",
    "sns.heatmap(best_df.corr(), annot=True)"
   ]
  },
  {
   "cell_type": "code",
   "execution_count": 81,
   "metadata": {},
   "outputs": [],
   "source": [
    "#Assigning the features into X and Y \n",
    "X = best_df[['NUMBER_OF_ROOMS', 'FLOOR_AREA', 'HOUSE_TYPE', 'LATITUDE','LONGITUDE']]\n",
    "y = best_df['PRICE_2']"
   ]
  },
  {
   "cell_type": "code",
   "execution_count": 82,
   "metadata": {},
   "outputs": [
    {
     "data": {
      "image/png": "[encoded data removed]",
      "text/plain": [
       "<Figure size 864x720 with 6 Axes>"
      ]
     },
     "metadata": {
      "needs_background": "light"
     },
     "output_type": "display_data"
    }
   ],
   "source": [
    "df.hist(figsize=(12,10))\n",
    "plt.show()"
   ]
  },
  {
   "cell_type": "code",
   "execution_count": 83,
   "metadata": {},
   "outputs": [],
   "source": [
    "# sns.boxplot(data=df, x='House type', y='Price')\n"
   ]
  },
  {
   "cell_type": "code",
   "execution_count": 84,
   "metadata": {},
   "outputs": [],
   "source": [
    "#Splitting the features into training and test sets using scikit-learn library\n",
    "from sklearn.model_selection import train_test_split\n",
    "X_train, X_test, y_train, y_test = train_test_split(X, y, test_size=0.3, random_state=20)"
   ]
  },
  {
   "cell_type": "code",
   "execution_count": 85,
   "metadata": {},
   "outputs": [],
   "source": [
    "#importing evaluation metrics of linear regression models\n",
    "from sklearn import metrics"
   ]
  },
  {
   "cell_type": "code",
   "execution_count": 86,
   "metadata": {},
   "outputs": [],
   "source": [
    "#Training using the linear regression Model\n",
    "from sklearn.linear_model import LinearRegression\n",
    "linear_regression=LinearRegression()"
   ]
  },
  {
   "cell_type": "code",
   "execution_count": 87,
   "metadata": {},
   "outputs": [
    {
     "data": {
      "text/plain": [
       "LinearRegression()"
      ]
     },
     "execution_count": 87,
     "metadata": {},
     "output_type": "execute_result"
    }
   ],
   "source": [
    "linear_regression.fit(X_train,y_train)"
   ]
  },
  {
   "cell_type": "code",
   "execution_count": 88,
   "metadata": {},
   "outputs": [],
   "source": [
    "lr_pred = linear_regression.predict(X_test)"
   ]
  },
  {
   "cell_type": "code",
   "execution_count": 89,
   "metadata": {},
   "outputs": [
    {
     "name": "stdout",
     "output_type": "stream",
     "text": [
      "0.5865849506974046\n",
      "\n",
      "\n",
      "0.7670609073215386\n"
     ]
    }
   ],
   "source": [
    "print(np.sqrt(metrics.mean_squared_error(y_test, lr_pred))) #RMSE\n",
    "print('\\n')\n",
    "print(metrics.r2_score(y_test,lr_pred)) #R2"
   ]
  },
  {
   "cell_type": "code",
   "execution_count": 90,
   "metadata": {},
   "outputs": [],
   "source": [
    "#checking other model performance\n",
    "from sklearn.linear_model import Lasso, ElasticNet, LogisticRegression, Ridge"
   ]
  },
  {
   "cell_type": "code",
   "execution_count": 91,
   "metadata": {},
   "outputs": [
    {
     "data": {
      "text/plain": [
       "Lasso()"
      ]
     },
     "execution_count": 91,
     "metadata": {},
     "output_type": "execute_result"
    }
   ],
   "source": [
    "#Lasso regression\n",
    "lasso_regres = Lasso()\n",
    "lasso_regres.fit(X_train,y_train)"
   ]
  },
  {
   "cell_type": "code",
   "execution_count": 92,
   "metadata": {},
   "outputs": [],
   "source": [
    "lasso_pred = lasso_regres.predict(X_test)"
   ]
  },
  {
   "cell_type": "code",
   "execution_count": 93,
   "metadata": {},
   "outputs": [
    {
     "name": "stdout",
     "output_type": "stream",
     "text": [
      "1.2477696337688966\n",
      "\n",
      "\n",
      "-0.05402125986965478\n"
     ]
    }
   ],
   "source": [
    "print(np.sqrt(metrics.mean_squared_error(y_test, lasso_pred)))\n",
    "print('\\n')\n",
    "print(metrics.r2_score(y_test,lasso_pred))"
   ]
  },
  {
   "cell_type": "code",
   "execution_count": 94,
   "metadata": {},
   "outputs": [
    {
     "name": "stdout",
     "output_type": "stream",
     "text": [
      "1.1027782503420946\n",
      "\n",
      "\n",
      "0.17670224628841835\n"
     ]
    }
   ],
   "source": [
    "#ElasticNetRegression\n",
    "elastic = ElasticNet()\n",
    "elastic.fit(X_train,y_train)\n",
    "elastic_pred = elastic.predict(X_test)\n",
    "print(np.sqrt(metrics.mean_squared_error(y_test, elastic_pred)))\n",
    "print('\\n')\n",
    "print(metrics.r2_score(y_test,elastic_pred))"
   ]
  },
  {
   "cell_type": "code",
   "execution_count": 95,
   "metadata": {},
   "outputs": [
    {
     "name": "stdout",
     "output_type": "stream",
     "text": [
      "0.5852485024010685\n",
      "\n",
      "\n",
      "0.7681211336869255\n"
     ]
    }
   ],
   "source": [
    "# Ridge regression\n",
    "ridge = Ridge()\n",
    "ridge.fit(X_train,y_train)\n",
    "ridge_pred = ridge.predict(X_test)\n",
    "print(np.sqrt(metrics.mean_squared_error(y_test, ridge_pred)))\n",
    "print('\\n')\n",
    "print(metrics.r2_score(y_test,ridge_pred))"
   ]
  },
  {
   "cell_type": "code",
   "execution_count": 96,
   "metadata": {},
   "outputs": [
    {
     "name": "stdout",
     "output_type": "stream",
     "text": [
      "0.5800728083483709\n",
      "\n",
      "\n",
      "0.7722042789540708\n"
     ]
    }
   ],
   "source": [
    "#Training using the decision trees \n",
    "from sklearn.tree import DecisionTreeRegressor\n",
    "dtree = DecisionTreeRegressor()\n",
    "dtree.fit(X_train,y_train)\n",
    "dt_pred = dtree.predict(X_test)\n",
    "print(np.sqrt(metrics.mean_squared_error(y_test, dt_pred)))\n",
    "print('\\n')\n",
    "print(metrics.r2_score(y_test,dt_pred))"
   ]
  },
  {
   "cell_type": "code",
   "execution_count": 97,
   "metadata": {},
   "outputs": [
    {
     "name": "stdout",
     "output_type": "stream",
     "text": [
      "0.5538154967850446\n",
      "\n",
      "\n",
      "0.7923601271937827\n"
     ]
    }
   ],
   "source": [
    "#for random forests\n",
    "from sklearn.ensemble import RandomForestRegressor\n",
    "regressor = RandomForestRegressor(n_estimators=30, random_state=20)\n",
    "regressor.fit(X_train, y_train)\n",
    "rfr_pred = regressor.predict(X_test)\n",
    "print(np.sqrt(metrics.mean_squared_error(y_test, rfr_pred)))\n",
    "print('\\n')\n",
    "print(metrics.r2_score(y_test,rfr_pred))"
   ]
  },
  {
   "cell_type": "code",
   "execution_count": 98,
   "metadata": {},
   "outputs": [
    {
     "name": "stderr",
     "output_type": "stream",
     "text": [
      "/home/kb/anaconda3/lib/python3.9/site-packages/seaborn/distributions.py:2619: FutureWarning: `distplot` is a deprecated function and will be removed in a future version. Please adapt your code to use either `displot` (a figure-level function with similar flexibility) or `histplot` (an axes-level function for histograms).\n",
      "  warnings.warn(msg, FutureWarning)\n"
     ]
    },
    {
     "data": {
      "text/plain": [
       "<AxesSubplot:xlabel='PRICE_2', ylabel='Density'>"
      ]
     },
     "execution_count": 98,
     "metadata": {},
     "output_type": "execute_result"
    },
    {
     "data": {
      "image/png": "[encoded data removed]",
      "text/plain": [
       "<Figure size 432x288 with 1 Axes>"
      ]
     },
     "metadata": {
      "needs_background": "light"
     },
     "output_type": "display_data"
    }
   ],
   "source": [
    "sns.distplot((y_test-rfr_pred))"
   ]
  },
  {
   "cell_type": "code",
   "execution_count": 99,
   "metadata": {},
   "outputs": [
    {
     "name": "stdout",
     "output_type": "stream",
     "text": [
      "0.9073288811890937\n",
      "\n",
      "\n",
      "0.4426730855388934\n"
     ]
    }
   ],
   "source": [
    "#checking using the support vector regressor\n",
    "from sklearn.svm import SVR\n",
    "svr_regressor = SVR(kernel='rbf')\n",
    "svr_regressor.fit(X_train,y_train)\n",
    "svr_pred = svr_regressor.predict(X_test)\n",
    "print(np.sqrt(metrics.mean_squared_error(y_test, svr_pred)))\n",
    "print('\\n')\n",
    "print(metrics.r2_score(y_test,svr_pred))"
   ]
  },
  {
   "cell_type": "code",
   "execution_count": 100,
   "metadata": {},
   "outputs": [],
   "source": [
    "#Inversing the standardized features\n",
    "inv_df=scaler.inverse_transform(standardized_df, copy=None)\n",
    "nhc = pd.DataFrame(inv_df,columns=new_df.columns)"
   ]
  },
  {
   "cell_type": "code",
   "execution_count": 101,
   "metadata": {},
   "outputs": [
    {
     "data": {
      "text/html": [
       "<div>\n",
       "<style scoped>\n",
       "    .dataframe tbody tr th:only-of-type {\n",
       "        vertical-align: middle;\n",
       "    }\n",
       "\n",
       "    .dataframe tbody tr th {\n",
       "        vertical-align: top;\n",
       "    }\n",
       "\n",
       "    .dataframe thead th {\n",
       "        text-align: right;\n",
       "    }\n",
       "</style>\n",
       "<table border=\"1\" class=\"dataframe\">\n",
       "  <thead>\n",
       "    <tr style=\"text-align: right;\">\n",
       "      <th></th>\n",
       "      <th>NUMBER_OF_ROOMS</th>\n",
       "      <th>FLOOR_AREA</th>\n",
       "      <th>HOUSE_TYPE</th>\n",
       "      <th>PRICE_2</th>\n",
       "      <th>LATITUDE</th>\n",
       "      <th>LONGITUDE</th>\n",
       "    </tr>\n",
       "  </thead>\n",
       "  <tbody>\n",
       "    <tr>\n",
       "      <th>0</th>\n",
       "      <td>3.0</td>\n",
       "      <td>144.0</td>\n",
       "      <td>1.0</td>\n",
       "      <td>8.767921e+07</td>\n",
       "      <td>-6.8640</td>\n",
       "      <td>39.3880</td>\n",
       "    </tr>\n",
       "    <tr>\n",
       "      <th>1</th>\n",
       "      <td>3.0</td>\n",
       "      <td>130.0</td>\n",
       "      <td>1.0</td>\n",
       "      <td>1.373007e+08</td>\n",
       "      <td>-6.7978</td>\n",
       "      <td>39.2621</td>\n",
       "    </tr>\n",
       "    <tr>\n",
       "      <th>2</th>\n",
       "      <td>2.0</td>\n",
       "      <td>56.0</td>\n",
       "      <td>1.0</td>\n",
       "      <td>4.340479e+07</td>\n",
       "      <td>-10.6589</td>\n",
       "      <td>35.6460</td>\n",
       "    </tr>\n",
       "    <tr>\n",
       "      <th>3</th>\n",
       "      <td>3.0</td>\n",
       "      <td>85.0</td>\n",
       "      <td>1.0</td>\n",
       "      <td>5.882300e+07</td>\n",
       "      <td>-1.5000</td>\n",
       "      <td>33.8000</td>\n",
       "    </tr>\n",
       "    <tr>\n",
       "      <th>4</th>\n",
       "      <td>3.0</td>\n",
       "      <td>70.0</td>\n",
       "      <td>1.0</td>\n",
       "      <td>4.923899e+07</td>\n",
       "      <td>-10.6425</td>\n",
       "      <td>35.6317</td>\n",
       "    </tr>\n",
       "  </tbody>\n",
       "</table>\n",
       "</div>"
      ],
      "text/plain": [
       "   NUMBER_OF_ROOMS  FLOOR_AREA  HOUSE_TYPE       PRICE_2  LATITUDE  LONGITUDE\n",
       "0              3.0       144.0         1.0  8.767921e+07   -6.8640    39.3880\n",
       "1              3.0       130.0         1.0  1.373007e+08   -6.7978    39.2621\n",
       "2              2.0        56.0         1.0  4.340479e+07  -10.6589    35.6460\n",
       "3              3.0        85.0         1.0  5.882300e+07   -1.5000    33.8000\n",
       "4              3.0        70.0         1.0  4.923899e+07  -10.6425    35.6317"
      ]
     },
     "execution_count": 101,
     "metadata": {},
     "output_type": "execute_result"
    }
   ],
   "source": [
    "nhc.head()"
   ]
  },
  {
   "cell_type": "code",
   "execution_count": 102,
   "metadata": {},
   "outputs": [],
   "source": [
    "#Assigning the features into X and Y \n",
    "X_column= nhc[['NUMBER_OF_ROOMS', 'FLOOR_AREA', 'HOUSE_TYPE', 'LATITUDE','LONGITUDE']]\n",
    "y_column = nhc['PRICE_2']"
   ]
  },
  {
   "cell_type": "code",
   "execution_count": 103,
   "metadata": {},
   "outputs": [],
   "source": [
    "#Splitting the features into training and test sets\n",
    "from sklearn.model_selection import train_test_split\n",
    "X_train, X_test, y_train, y_test = train_test_split(X_column, y_column, test_size=0.3, random_state=20)"
   ]
  },
  {
   "cell_type": "code",
   "execution_count": 104,
   "metadata": {},
   "outputs": [
    {
     "name": "stdout",
     "output_type": "stream",
     "text": [
      "112042192.81967814\n",
      "\n",
      "\n",
      "0.7962375189417294\n"
     ]
    }
   ],
   "source": [
    "#for random forests\n",
    "from sklearn.ensemble import RandomForestRegressor\n",
    "regressor = RandomForestRegressor(n_estimators=30, random_state=20)\n",
    "regressor.fit(X_train, y_train)\n",
    "rfr_pred = regressor.predict(X_test)\n",
    "print(np.sqrt(metrics.mean_squared_error(y_test, rfr_pred)))\n",
    "print('\\n')\n",
    "print(metrics.r2_score(y_test,rfr_pred))"
   ]
  },
  {
   "cell_type": "code",
   "execution_count": 105,
   "metadata": {},
   "outputs": [
    {
     "data": {
      "text/plain": [
       "66     79436420.0\n",
       "51    381060000.0\n",
       "12     52807950.0\n",
       "Name: PRICE_2, dtype: float64"
      ]
     },
     "execution_count": 105,
     "metadata": {},
     "output_type": "execute_result"
    }
   ],
   "source": [
    "y_test[:3]"
   ]
  },
  {
   "cell_type": "code",
   "execution_count": 106,
   "metadata": {},
   "outputs": [
    {
     "data": {
      "text/plain": [
       "array([5.11725573e+07, 4.87958326e+08, 4.53789254e+07])"
      ]
     },
     "execution_count": 106,
     "metadata": {},
     "output_type": "execute_result"
    }
   ],
   "source": [
    "rfr_pred[:3]"
   ]
  },
  {
   "cell_type": "code",
   "execution_count": 107,
   "metadata": {},
   "outputs": [],
   "source": [
    "#Saving every other model\n",
    "from json5 import dump, load"
   ]
  },
  {
   "cell_type": "code",
   "execution_count": 108,
   "metadata": {},
   "outputs": [],
   "source": [
    "import pickle\n",
    "with open('regressor_pkl', 'wb') as f:\n",
    "    pickle.dump(regressor, f)"
   ]
  },
  {
   "cell_type": "code",
   "execution_count": 109,
   "metadata": {},
   "outputs": [],
   "source": [
    "# pred = loaded_regressor.predict(X_test)"
   ]
  },
  {
   "cell_type": "code",
   "execution_count": 110,
   "metadata": {},
   "outputs": [],
   "source": [
    "# pred[:5]"
   ]
  },
  {
   "cell_type": "code",
   "execution_count": 111,
   "metadata": {},
   "outputs": [
    {
     "data": {
      "text/html": [
       "<div>\n",
       "<style scoped>\n",
       "    .dataframe tbody tr th:only-of-type {\n",
       "        vertical-align: middle;\n",
       "    }\n",
       "\n",
       "    .dataframe tbody tr th {\n",
       "        vertical-align: top;\n",
       "    }\n",
       "\n",
       "    .dataframe thead th {\n",
       "        text-align: right;\n",
       "    }\n",
       "</style>\n",
       "<table border=\"1\" class=\"dataframe\">\n",
       "  <thead>\n",
       "    <tr style=\"text-align: right;\">\n",
       "      <th></th>\n",
       "      <th>NUMBER_OF_ROOMS</th>\n",
       "      <th>FLOOR_AREA</th>\n",
       "      <th>HOUSE_TYPE</th>\n",
       "      <th>LATITUDE</th>\n",
       "      <th>LONGITUDE</th>\n",
       "    </tr>\n",
       "  </thead>\n",
       "  <tbody>\n",
       "    <tr>\n",
       "      <th>66</th>\n",
       "      <td>3.0</td>\n",
       "      <td>85.00</td>\n",
       "      <td>1.0</td>\n",
       "      <td>-5.088800</td>\n",
       "      <td>39.102300</td>\n",
       "    </tr>\n",
       "    <tr>\n",
       "      <th>51</th>\n",
       "      <td>3.0</td>\n",
       "      <td>190.53</td>\n",
       "      <td>2.0</td>\n",
       "      <td>-6.779000</td>\n",
       "      <td>39.253400</td>\n",
       "    </tr>\n",
       "    <tr>\n",
       "      <th>12</th>\n",
       "      <td>2.0</td>\n",
       "      <td>65.00</td>\n",
       "      <td>1.0</td>\n",
       "      <td>-6.797800</td>\n",
       "      <td>39.262100</td>\n",
       "    </tr>\n",
       "    <tr>\n",
       "      <th>83</th>\n",
       "      <td>3.0</td>\n",
       "      <td>70.00</td>\n",
       "      <td>1.0</td>\n",
       "      <td>-5.900000</td>\n",
       "      <td>37.400000</td>\n",
       "    </tr>\n",
       "    <tr>\n",
       "      <th>36</th>\n",
       "      <td>3.0</td>\n",
       "      <td>188.00</td>\n",
       "      <td>2.0</td>\n",
       "      <td>-6.779000</td>\n",
       "      <td>39.253400</td>\n",
       "    </tr>\n",
       "    <tr>\n",
       "      <th>44</th>\n",
       "      <td>3.0</td>\n",
       "      <td>177.00</td>\n",
       "      <td>2.0</td>\n",
       "      <td>-6.796200</td>\n",
       "      <td>39.269300</td>\n",
       "    </tr>\n",
       "    <tr>\n",
       "      <th>23</th>\n",
       "      <td>3.0</td>\n",
       "      <td>184.00</td>\n",
       "      <td>2.0</td>\n",
       "      <td>-6.723100</td>\n",
       "      <td>39.229900</td>\n",
       "    </tr>\n",
       "    <tr>\n",
       "      <th>0</th>\n",
       "      <td>3.0</td>\n",
       "      <td>144.00</td>\n",
       "      <td>1.0</td>\n",
       "      <td>-6.864000</td>\n",
       "      <td>39.388000</td>\n",
       "    </tr>\n",
       "    <tr>\n",
       "      <th>77</th>\n",
       "      <td>3.0</td>\n",
       "      <td>85.00</td>\n",
       "      <td>1.0</td>\n",
       "      <td>-10.658900</td>\n",
       "      <td>35.646000</td>\n",
       "    </tr>\n",
       "    <tr>\n",
       "      <th>45</th>\n",
       "      <td>3.0</td>\n",
       "      <td>70.00</td>\n",
       "      <td>1.0</td>\n",
       "      <td>-9.981900</td>\n",
       "      <td>39.699600</td>\n",
       "    </tr>\n",
       "    <tr>\n",
       "      <th>50</th>\n",
       "      <td>3.0</td>\n",
       "      <td>85.00</td>\n",
       "      <td>1.0</td>\n",
       "      <td>-4.283330</td>\n",
       "      <td>33.883330</td>\n",
       "    </tr>\n",
       "    <tr>\n",
       "      <th>37</th>\n",
       "      <td>2.0</td>\n",
       "      <td>60.00</td>\n",
       "      <td>1.0</td>\n",
       "      <td>-3.447000</td>\n",
       "      <td>36.674100</td>\n",
       "    </tr>\n",
       "    <tr>\n",
       "      <th>39</th>\n",
       "      <td>3.0</td>\n",
       "      <td>85.00</td>\n",
       "      <td>1.0</td>\n",
       "      <td>-6.797800</td>\n",
       "      <td>39.262100</td>\n",
       "    </tr>\n",
       "    <tr>\n",
       "      <th>48</th>\n",
       "      <td>3.0</td>\n",
       "      <td>85.00</td>\n",
       "      <td>1.0</td>\n",
       "      <td>-6.864000</td>\n",
       "      <td>39.388000</td>\n",
       "    </tr>\n",
       "    <tr>\n",
       "      <th>2</th>\n",
       "      <td>2.0</td>\n",
       "      <td>56.00</td>\n",
       "      <td>1.0</td>\n",
       "      <td>-10.658900</td>\n",
       "      <td>35.646000</td>\n",
       "    </tr>\n",
       "    <tr>\n",
       "      <th>5</th>\n",
       "      <td>3.0</td>\n",
       "      <td>85.00</td>\n",
       "      <td>1.0</td>\n",
       "      <td>-6.302900</td>\n",
       "      <td>37.444600</td>\n",
       "    </tr>\n",
       "    <tr>\n",
       "      <th>1</th>\n",
       "      <td>3.0</td>\n",
       "      <td>130.00</td>\n",
       "      <td>1.0</td>\n",
       "      <td>-6.797800</td>\n",
       "      <td>39.262100</td>\n",
       "    </tr>\n",
       "    <tr>\n",
       "      <th>21</th>\n",
       "      <td>3.0</td>\n",
       "      <td>144.00</td>\n",
       "      <td>1.0</td>\n",
       "      <td>-7.948900</td>\n",
       "      <td>31.616900</td>\n",
       "    </tr>\n",
       "    <tr>\n",
       "      <th>64</th>\n",
       "      <td>3.0</td>\n",
       "      <td>98.00</td>\n",
       "      <td>1.0</td>\n",
       "      <td>-8.148100</td>\n",
       "      <td>33.259400</td>\n",
       "    </tr>\n",
       "    <tr>\n",
       "      <th>73</th>\n",
       "      <td>3.0</td>\n",
       "      <td>177.00</td>\n",
       "      <td>2.0</td>\n",
       "      <td>-6.796200</td>\n",
       "      <td>39.269300</td>\n",
       "    </tr>\n",
       "    <tr>\n",
       "      <th>27</th>\n",
       "      <td>5.0</td>\n",
       "      <td>231.50</td>\n",
       "      <td>2.0</td>\n",
       "      <td>-6.776012</td>\n",
       "      <td>39.178326</td>\n",
       "    </tr>\n",
       "    <tr>\n",
       "      <th>67</th>\n",
       "      <td>2.0</td>\n",
       "      <td>60.00</td>\n",
       "      <td>1.0</td>\n",
       "      <td>-6.792500</td>\n",
       "      <td>39.208700</td>\n",
       "    </tr>\n",
       "    <tr>\n",
       "      <th>59</th>\n",
       "      <td>3.0</td>\n",
       "      <td>125.00</td>\n",
       "      <td>2.0</td>\n",
       "      <td>-10.281000</td>\n",
       "      <td>40.180200</td>\n",
       "    </tr>\n",
       "    <tr>\n",
       "      <th>31</th>\n",
       "      <td>4.0</td>\n",
       "      <td>244.00</td>\n",
       "      <td>2.0</td>\n",
       "      <td>-6.723100</td>\n",
       "      <td>39.229900</td>\n",
       "    </tr>\n",
       "    <tr>\n",
       "      <th>8</th>\n",
       "      <td>3.0</td>\n",
       "      <td>70.00</td>\n",
       "      <td>1.0</td>\n",
       "      <td>-6.380387</td>\n",
       "      <td>34.453902</td>\n",
       "    </tr>\n",
       "    <tr>\n",
       "      <th>49</th>\n",
       "      <td>2.0</td>\n",
       "      <td>140.00</td>\n",
       "      <td>2.0</td>\n",
       "      <td>-6.723100</td>\n",
       "      <td>39.229900</td>\n",
       "    </tr>\n",
       "  </tbody>\n",
       "</table>\n",
       "</div>"
      ],
      "text/plain": [
       "    NUMBER_OF_ROOMS  FLOOR_AREA  HOUSE_TYPE   LATITUDE  LONGITUDE\n",
       "66              3.0       85.00         1.0  -5.088800  39.102300\n",
       "51              3.0      190.53         2.0  -6.779000  39.253400\n",
       "12              2.0       65.00         1.0  -6.797800  39.262100\n",
       "83              3.0       70.00         1.0  -5.900000  37.400000\n",
       "36              3.0      188.00         2.0  -6.779000  39.253400\n",
       "44              3.0      177.00         2.0  -6.796200  39.269300\n",
       "23              3.0      184.00         2.0  -6.723100  39.229900\n",
       "0               3.0      144.00         1.0  -6.864000  39.388000\n",
       "77              3.0       85.00         1.0 -10.658900  35.646000\n",
       "45              3.0       70.00         1.0  -9.981900  39.699600\n",
       "50              3.0       85.00         1.0  -4.283330  33.883330\n",
       "37              2.0       60.00         1.0  -3.447000  36.674100\n",
       "39              3.0       85.00         1.0  -6.797800  39.262100\n",
       "48              3.0       85.00         1.0  -6.864000  39.388000\n",
       "2               2.0       56.00         1.0 -10.658900  35.646000\n",
       "5               3.0       85.00         1.0  -6.302900  37.444600\n",
       "1               3.0      130.00         1.0  -6.797800  39.262100\n",
       "21              3.0      144.00         1.0  -7.948900  31.616900\n",
       "64              3.0       98.00         1.0  -8.148100  33.259400\n",
       "73              3.0      177.00         2.0  -6.796200  39.269300\n",
       "27              5.0      231.50         2.0  -6.776012  39.178326\n",
       "67              2.0       60.00         1.0  -6.792500  39.208700\n",
       "59              3.0      125.00         2.0 -10.281000  40.180200\n",
       "31              4.0      244.00         2.0  -6.723100  39.229900\n",
       "8               3.0       70.00         1.0  -6.380387  34.453902\n",
       "49              2.0      140.00         2.0  -6.723100  39.229900"
      ]
     },
     "execution_count": 111,
     "metadata": {},
     "output_type": "execute_result"
    }
   ],
   "source": [
    "X_test"
   ]
  },
  {
   "cell_type": "code",
   "execution_count": null,
   "metadata": {},
   "outputs": [],
   "source": []
  },
  {
   "cell_type": "code",
   "execution_count": null,
   "metadata": {},
   "outputs": [],
   "source": []
  }
 ],
 "metadata": {
  "kernelspec": {
   "display_name": "Python 3",
   "language": "python",
   "name": "python3"
  },
  "language_info": {
   "codemirror_mode": {
    "name": "ipython",
    "version": 3
   },
   "file_extension": ".py",
   "mimetype": "text/x-python",
   "name": "python",
   "nbconvert_exporter": "python",
   "pygments_lexer": "ipython3",
   "version": "3.9.7"
  }
 },
 "nbformat": 4,
 "nbformat_minor": 2
}
