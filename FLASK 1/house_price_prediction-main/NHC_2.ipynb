{
 "cells": [
  {
   "cell_type": "code",
   "execution_count": 27,
   "metadata": {},
   "outputs": [],
   "source": [
    "#importing useful libraries\n",
    "import numpy as np\n",
    "import pandas as pd\n",
    "import matplotlib.pyplot as plt\n",
    "import seaborn as sns\n",
    "import sklearn\n",
    "%matplotlib inline"
   ]
  },
  {
   "cell_type": "code",
   "execution_count": 28,
   "metadata": {},
   "outputs": [],
   "source": [
    "df = pd.read_excel('ALL PRICES - NHC PROJECTS.xlsx',sheet_name=1)"
   ]
  },
  {
   "cell_type": "code",
   "execution_count": 29,
   "metadata": {},
   "outputs": [
    {
     "data": {
      "text/html": [
       "<div>\n",
       "<style scoped>\n",
       "    .dataframe tbody tr th:only-of-type {\n",
       "        vertical-align: middle;\n",
       "    }\n",
       "\n",
       "    .dataframe tbody tr th {\n",
       "        vertical-align: top;\n",
       "    }\n",
       "\n",
       "    .dataframe thead th {\n",
       "        text-align: right;\n",
       "    }\n",
       "</style>\n",
       "<table border=\"1\" class=\"dataframe\">\n",
       "  <thead>\n",
       "    <tr style=\"text-align: right;\">\n",
       "      <th></th>\n",
       "      <th>PROJECT_NAME</th>\n",
       "      <th>NUMBER_OF_ROOMS</th>\n",
       "      <th>FLOOR_AREA</th>\n",
       "      <th>HOUSE_TYPE</th>\n",
       "      <th>PRICE_1</th>\n",
       "      <th>PRICE_2</th>\n",
       "      <th>LATITUDE</th>\n",
       "      <th>LONGITUDE</th>\n",
       "    </tr>\n",
       "  </thead>\n",
       "  <tbody>\n",
       "    <tr>\n",
       "      <th>0</th>\n",
       "      <td>KONGWA</td>\n",
       "      <td>2</td>\n",
       "      <td>56.0</td>\n",
       "      <td>normal</td>\n",
       "      <td>35492580.0</td>\n",
       "      <td>41881244.4</td>\n",
       "      <td>-6.2000</td>\n",
       "      <td>36.4170</td>\n",
       "    </tr>\n",
       "    <tr>\n",
       "      <th>1</th>\n",
       "      <td>KONGWA</td>\n",
       "      <td>3</td>\n",
       "      <td>70.0</td>\n",
       "      <td>normal</td>\n",
       "      <td>39835800.0</td>\n",
       "      <td>47006244.0</td>\n",
       "      <td>-6.2000</td>\n",
       "      <td>36.4170</td>\n",
       "    </tr>\n",
       "    <tr>\n",
       "      <th>2</th>\n",
       "      <td>KONGWA</td>\n",
       "      <td>3</td>\n",
       "      <td>56.0</td>\n",
       "      <td>normal</td>\n",
       "      <td>40166280.0</td>\n",
       "      <td>47396210.4</td>\n",
       "      <td>-6.2000</td>\n",
       "      <td>36.4170</td>\n",
       "    </tr>\n",
       "    <tr>\n",
       "      <th>3</th>\n",
       "      <td>MKUZO</td>\n",
       "      <td>2</td>\n",
       "      <td>56.0</td>\n",
       "      <td>normal</td>\n",
       "      <td>36310680.0</td>\n",
       "      <td>42846602.4</td>\n",
       "      <td>-10.6425</td>\n",
       "      <td>35.6317</td>\n",
       "    </tr>\n",
       "    <tr>\n",
       "      <th>4</th>\n",
       "      <td>MKUZO</td>\n",
       "      <td>3</td>\n",
       "      <td>70.0</td>\n",
       "      <td>normal</td>\n",
       "      <td>41727960.0</td>\n",
       "      <td>49238992.8</td>\n",
       "      <td>-10.6425</td>\n",
       "      <td>35.6317</td>\n",
       "    </tr>\n",
       "  </tbody>\n",
       "</table>\n",
       "</div>"
      ],
      "text/plain": [
       "  PROJECT_NAME  NUMBER_OF_ROOMS  FLOOR_AREA HOUSE_TYPE     PRICE_1  \\\n",
       "0       KONGWA                2        56.0     normal  35492580.0   \n",
       "1       KONGWA                3        70.0     normal  39835800.0   \n",
       "2       KONGWA                3        56.0     normal  40166280.0   \n",
       "3        MKUZO                2        56.0     normal  36310680.0   \n",
       "4        MKUZO                3        70.0     normal  41727960.0   \n",
       "\n",
       "      PRICE_2  LATITUDE  LONGITUDE  \n",
       "0  41881244.4   -6.2000    36.4170  \n",
       "1  47006244.0   -6.2000    36.4170  \n",
       "2  47396210.4   -6.2000    36.4170  \n",
       "3  42846602.4  -10.6425    35.6317  \n",
       "4  49238992.8  -10.6425    35.6317  "
      ]
     },
     "execution_count": 29,
     "metadata": {},
     "output_type": "execute_result"
    }
   ],
   "source": [
    "df.head()"
   ]
  },
  {
   "cell_type": "code",
   "execution_count": 30,
   "metadata": {},
   "outputs": [],
   "source": [
    "#reshuffling the data\n",
    "df_shuf=df.sample(frac=1).reset_index(drop=True)"
   ]
  },
  {
   "cell_type": "code",
   "execution_count": 31,
   "metadata": {},
   "outputs": [
    {
     "data": {
      "text/html": [
       "<div>\n",
       "<style scoped>\n",
       "    .dataframe tbody tr th:only-of-type {\n",
       "        vertical-align: middle;\n",
       "    }\n",
       "\n",
       "    .dataframe tbody tr th {\n",
       "        vertical-align: top;\n",
       "    }\n",
       "\n",
       "    .dataframe thead th {\n",
       "        text-align: right;\n",
       "    }\n",
       "</style>\n",
       "<table border=\"1\" class=\"dataframe\">\n",
       "  <thead>\n",
       "    <tr style=\"text-align: right;\">\n",
       "      <th></th>\n",
       "      <th>PROJECT_NAME</th>\n",
       "      <th>NUMBER_OF_ROOMS</th>\n",
       "      <th>FLOOR_AREA</th>\n",
       "      <th>HOUSE_TYPE</th>\n",
       "      <th>PRICE_1</th>\n",
       "      <th>PRICE_2</th>\n",
       "      <th>LATITUDE</th>\n",
       "      <th>LONGITUDE</th>\n",
       "    </tr>\n",
       "  </thead>\n",
       "  <tbody>\n",
       "    <tr>\n",
       "      <th>0</th>\n",
       "      <td>Jangwani - Sumbawanga</td>\n",
       "      <td>3</td>\n",
       "      <td>144.0</td>\n",
       "      <td>normal</td>\n",
       "      <td>139680000.0</td>\n",
       "      <td>1.648224e+08</td>\n",
       "      <td>-7.948900</td>\n",
       "      <td>31.616900</td>\n",
       "    </tr>\n",
       "    <tr>\n",
       "      <th>1</th>\n",
       "      <td>BOMBAMBILI</td>\n",
       "      <td>2</td>\n",
       "      <td>56.0</td>\n",
       "      <td>normal</td>\n",
       "      <td>36783720.0</td>\n",
       "      <td>4.340479e+07</td>\n",
       "      <td>-10.658900</td>\n",
       "      <td>35.646000</td>\n",
       "    </tr>\n",
       "    <tr>\n",
       "      <th>2</th>\n",
       "      <td>Mwongozo</td>\n",
       "      <td>3</td>\n",
       "      <td>100.0</td>\n",
       "      <td>normal</td>\n",
       "      <td>89505000.0</td>\n",
       "      <td>1.056159e+08</td>\n",
       "      <td>-6.797800</td>\n",
       "      <td>39.262100</td>\n",
       "    </tr>\n",
       "    <tr>\n",
       "      <th>3</th>\n",
       "      <td>Mchikichini - Dar es Salaam</td>\n",
       "      <td>3</td>\n",
       "      <td>115.8</td>\n",
       "      <td>normal</td>\n",
       "      <td>168239749.0</td>\n",
       "      <td>1.985229e+08</td>\n",
       "      <td>-6.820800</td>\n",
       "      <td>39.263300</td>\n",
       "    </tr>\n",
       "    <tr>\n",
       "      <th>4</th>\n",
       "      <td>Morocco Square - Dar es Salaam</td>\n",
       "      <td>3</td>\n",
       "      <td>154.0</td>\n",
       "      <td>Apartment</td>\n",
       "      <td>502425000.0</td>\n",
       "      <td>5.928615e+08</td>\n",
       "      <td>-6.776012</td>\n",
       "      <td>39.178326</td>\n",
       "    </tr>\n",
       "  </tbody>\n",
       "</table>\n",
       "</div>"
      ],
      "text/plain": [
       "                     PROJECT_NAME  NUMBER_OF_ROOMS  FLOOR_AREA HOUSE_TYPE  \\\n",
       "0           Jangwani - Sumbawanga                3       144.0     normal   \n",
       "1                      BOMBAMBILI                2        56.0     normal   \n",
       "2                        Mwongozo                3       100.0     normal   \n",
       "3     Mchikichini - Dar es Salaam                3       115.8     normal   \n",
       "4  Morocco Square - Dar es Salaam                3       154.0  Apartment   \n",
       "\n",
       "       PRICE_1       PRICE_2   LATITUDE  LONGITUDE  \n",
       "0  139680000.0  1.648224e+08  -7.948900  31.616900  \n",
       "1   36783720.0  4.340479e+07 -10.658900  35.646000  \n",
       "2   89505000.0  1.056159e+08  -6.797800  39.262100  \n",
       "3  168239749.0  1.985229e+08  -6.820800  39.263300  \n",
       "4  502425000.0  5.928615e+08  -6.776012  39.178326  "
      ]
     },
     "execution_count": 31,
     "metadata": {},
     "output_type": "execute_result"
    }
   ],
   "source": [
    "df_shuf.head()"
   ]
  },
  {
   "cell_type": "code",
   "execution_count": 32,
   "metadata": {},
   "outputs": [
    {
     "data": {
      "text/plain": [
       "<AxesSubplot:>"
      ]
     },
     "execution_count": 32,
     "metadata": {},
     "output_type": "execute_result"
    },
    {
     "data": {
      "image/png": "[encoded data removed]",
      "text/plain": [
       "<Figure size 432x288 with 1 Axes>"
      ]
     },
     "metadata": {
      "needs_background": "light"
     },
     "output_type": "display_data"
    }
   ],
   "source": [
    "#visualizing the missing values present in the dataframe\n",
    "sns.heatmap(df_shuf.isnull(), yticklabels=False, cbar=False, cmap='viridis')"
   ]
  },
  {
   "cell_type": "code",
   "execution_count": 33,
   "metadata": {},
   "outputs": [],
   "source": [
    "#conversion of categorical data to numerical values via direct mapping\n",
    "\n",
    "scale_mapper= {'normal':1, 'Apartment':2}\n",
    "df_shuf['HOUSE_TYPE'].replace(scale_mapper, inplace=True)"
   ]
  },
  {
   "cell_type": "code",
   "execution_count": 34,
   "metadata": {},
   "outputs": [
    {
     "data": {
      "text/plain": [
       "1    60\n",
       "2    25\n",
       "Name: HOUSE_TYPE, dtype: int64"
      ]
     },
     "execution_count": 34,
     "metadata": {},
     "output_type": "execute_result"
    }
   ],
   "source": [
    "df_shuf['HOUSE_TYPE'].value_counts()"
   ]
  },
  {
   "cell_type": "code",
   "execution_count": 35,
   "metadata": {},
   "outputs": [
    {
     "data": {
      "text/html": [
       "<div>\n",
       "<style scoped>\n",
       "    .dataframe tbody tr th:only-of-type {\n",
       "        vertical-align: middle;\n",
       "    }\n",
       "\n",
       "    .dataframe tbody tr th {\n",
       "        vertical-align: top;\n",
       "    }\n",
       "\n",
       "    .dataframe thead th {\n",
       "        text-align: right;\n",
       "    }\n",
       "</style>\n",
       "<table border=\"1\" class=\"dataframe\">\n",
       "  <thead>\n",
       "    <tr style=\"text-align: right;\">\n",
       "      <th></th>\n",
       "      <th>PROJECT_NAME</th>\n",
       "      <th>NUMBER_OF_ROOMS</th>\n",
       "      <th>FLOOR_AREA</th>\n",
       "      <th>HOUSE_TYPE</th>\n",
       "      <th>PRICE_1</th>\n",
       "      <th>PRICE_2</th>\n",
       "      <th>LATITUDE</th>\n",
       "      <th>LONGITUDE</th>\n",
       "    </tr>\n",
       "  </thead>\n",
       "  <tbody>\n",
       "    <tr>\n",
       "      <th>0</th>\n",
       "      <td>Jangwani - Sumbawanga</td>\n",
       "      <td>3</td>\n",
       "      <td>144.0</td>\n",
       "      <td>1</td>\n",
       "      <td>139680000.0</td>\n",
       "      <td>1.648224e+08</td>\n",
       "      <td>-7.948900</td>\n",
       "      <td>31.616900</td>\n",
       "    </tr>\n",
       "    <tr>\n",
       "      <th>1</th>\n",
       "      <td>BOMBAMBILI</td>\n",
       "      <td>2</td>\n",
       "      <td>56.0</td>\n",
       "      <td>1</td>\n",
       "      <td>36783720.0</td>\n",
       "      <td>4.340479e+07</td>\n",
       "      <td>-10.658900</td>\n",
       "      <td>35.646000</td>\n",
       "    </tr>\n",
       "    <tr>\n",
       "      <th>2</th>\n",
       "      <td>Mwongozo</td>\n",
       "      <td>3</td>\n",
       "      <td>100.0</td>\n",
       "      <td>1</td>\n",
       "      <td>89505000.0</td>\n",
       "      <td>1.056159e+08</td>\n",
       "      <td>-6.797800</td>\n",
       "      <td>39.262100</td>\n",
       "    </tr>\n",
       "    <tr>\n",
       "      <th>3</th>\n",
       "      <td>Mchikichini - Dar es Salaam</td>\n",
       "      <td>3</td>\n",
       "      <td>115.8</td>\n",
       "      <td>1</td>\n",
       "      <td>168239749.0</td>\n",
       "      <td>1.985229e+08</td>\n",
       "      <td>-6.820800</td>\n",
       "      <td>39.263300</td>\n",
       "    </tr>\n",
       "    <tr>\n",
       "      <th>4</th>\n",
       "      <td>Morocco Square - Dar es Salaam</td>\n",
       "      <td>3</td>\n",
       "      <td>154.0</td>\n",
       "      <td>2</td>\n",
       "      <td>502425000.0</td>\n",
       "      <td>5.928615e+08</td>\n",
       "      <td>-6.776012</td>\n",
       "      <td>39.178326</td>\n",
       "    </tr>\n",
       "  </tbody>\n",
       "</table>\n",
       "</div>"
      ],
      "text/plain": [
       "                     PROJECT_NAME  NUMBER_OF_ROOMS  FLOOR_AREA  HOUSE_TYPE  \\\n",
       "0           Jangwani - Sumbawanga                3       144.0           1   \n",
       "1                      BOMBAMBILI                2        56.0           1   \n",
       "2                        Mwongozo                3       100.0           1   \n",
       "3     Mchikichini - Dar es Salaam                3       115.8           1   \n",
       "4  Morocco Square - Dar es Salaam                3       154.0           2   \n",
       "\n",
       "       PRICE_1       PRICE_2   LATITUDE  LONGITUDE  \n",
       "0  139680000.0  1.648224e+08  -7.948900  31.616900  \n",
       "1   36783720.0  4.340479e+07 -10.658900  35.646000  \n",
       "2   89505000.0  1.056159e+08  -6.797800  39.262100  \n",
       "3  168239749.0  1.985229e+08  -6.820800  39.263300  \n",
       "4  502425000.0  5.928615e+08  -6.776012  39.178326  "
      ]
     },
     "execution_count": 35,
     "metadata": {},
     "output_type": "execute_result"
    }
   ],
   "source": [
    "df_shuf.head()"
   ]
  },
  {
   "cell_type": "code",
   "execution_count": 36,
   "metadata": {},
   "outputs": [],
   "source": [
    "#dropping string columns and additional price column\n",
    "new_df = df_shuf.drop(columns=['PROJECT_NAME','PRICE_1'], axis=1)"
   ]
  },
  {
   "cell_type": "code",
   "execution_count": 37,
   "metadata": {},
   "outputs": [
    {
     "data": {
      "text/html": [
       "<div>\n",
       "<style scoped>\n",
       "    .dataframe tbody tr th:only-of-type {\n",
       "        vertical-align: middle;\n",
       "    }\n",
       "\n",
       "    .dataframe tbody tr th {\n",
       "        vertical-align: top;\n",
       "    }\n",
       "\n",
       "    .dataframe thead th {\n",
       "        text-align: right;\n",
       "    }\n",
       "</style>\n",
       "<table border=\"1\" class=\"dataframe\">\n",
       "  <thead>\n",
       "    <tr style=\"text-align: right;\">\n",
       "      <th></th>\n",
       "      <th>NUMBER_OF_ROOMS</th>\n",
       "      <th>FLOOR_AREA</th>\n",
       "      <th>HOUSE_TYPE</th>\n",
       "      <th>PRICE_2</th>\n",
       "      <th>LATITUDE</th>\n",
       "      <th>LONGITUDE</th>\n",
       "    </tr>\n",
       "  </thead>\n",
       "  <tbody>\n",
       "    <tr>\n",
       "      <th>0</th>\n",
       "      <td>3</td>\n",
       "      <td>144.0</td>\n",
       "      <td>1</td>\n",
       "      <td>164822400.0</td>\n",
       "      <td>-7.9489</td>\n",
       "      <td>31.6169</td>\n",
       "    </tr>\n",
       "    <tr>\n",
       "      <th>1</th>\n",
       "      <td>2</td>\n",
       "      <td>56.0</td>\n",
       "      <td>1</td>\n",
       "      <td>43404789.6</td>\n",
       "      <td>-10.6589</td>\n",
       "      <td>35.6460</td>\n",
       "    </tr>\n",
       "  </tbody>\n",
       "</table>\n",
       "</div>"
      ],
      "text/plain": [
       "   NUMBER_OF_ROOMS  FLOOR_AREA  HOUSE_TYPE      PRICE_2  LATITUDE  LONGITUDE\n",
       "0                3       144.0           1  164822400.0   -7.9489    31.6169\n",
       "1                2        56.0           1   43404789.6  -10.6589    35.6460"
      ]
     },
     "execution_count": 37,
     "metadata": {},
     "output_type": "execute_result"
    }
   ],
   "source": [
    "new_df.head(2)"
   ]
  },
  {
   "cell_type": "code",
   "execution_count": 38,
   "metadata": {},
   "outputs": [],
   "source": [
    "#filling the missing numerical values using the NN imputation method\n",
    "from sklearn.impute import KNNImputer\n",
    "imputer = KNNImputer(n_neighbors=20)"
   ]
  },
  {
   "cell_type": "code",
   "execution_count": 39,
   "metadata": {},
   "outputs": [],
   "source": [
    "imput_df = imputer.fit_transform(new_df.values)\n",
    "house_df = pd.DataFrame(imput_df, columns=new_df.columns)"
   ]
  },
  {
   "cell_type": "code",
   "execution_count": 40,
   "metadata": {},
   "outputs": [
    {
     "data": {
      "text/plain": [
       "<AxesSubplot:>"
      ]
     },
     "execution_count": 40,
     "metadata": {},
     "output_type": "execute_result"
    },
    {
     "data": {
      "image/png": "[encoded data removed]",
      "text/plain": [
       "<Figure size 432x288 with 1 Axes>"
      ]
     },
     "metadata": {
      "needs_background": "light"
     },
     "output_type": "display_data"
    }
   ],
   "source": [
    "#visualizing the missing values present in the dataframe\n",
    "sns.heatmap(house_df.isnull(), yticklabels=False, cbar=False, cmap='viridis')"
   ]
  },
  {
   "cell_type": "code",
   "execution_count": 41,
   "metadata": {},
   "outputs": [],
   "source": [
    "#Standardizing the features using standard scaler for machine learning algorithms to understand\n",
    "from sklearn import preprocessing\n",
    "scaler = preprocessing.StandardScaler()\n",
    "standardized_df = scaler.fit_transform(house_df)"
   ]
  },
  {
   "cell_type": "code",
   "execution_count": 42,
   "metadata": {},
   "outputs": [],
   "source": [
    "#creating dataframe conducive for the ML algorithms\n",
    "best_df = pd.DataFrame(standardized_df, columns=new_df.columns)"
   ]
  },
  {
   "cell_type": "code",
   "execution_count": 43,
   "metadata": {},
   "outputs": [
    {
     "data": {
      "text/html": [
       "<div>\n",
       "<style scoped>\n",
       "    .dataframe tbody tr th:only-of-type {\n",
       "        vertical-align: middle;\n",
       "    }\n",
       "\n",
       "    .dataframe tbody tr th {\n",
       "        vertical-align: top;\n",
       "    }\n",
       "\n",
       "    .dataframe thead th {\n",
       "        text-align: right;\n",
       "    }\n",
       "</style>\n",
       "<table border=\"1\" class=\"dataframe\">\n",
       "  <thead>\n",
       "    <tr style=\"text-align: right;\">\n",
       "      <th></th>\n",
       "      <th>NUMBER_OF_ROOMS</th>\n",
       "      <th>FLOOR_AREA</th>\n",
       "      <th>HOUSE_TYPE</th>\n",
       "      <th>PRICE_2</th>\n",
       "      <th>LATITUDE</th>\n",
       "      <th>LONGITUDE</th>\n",
       "    </tr>\n",
       "  </thead>\n",
       "  <tbody>\n",
       "    <tr>\n",
       "      <th>0</th>\n",
       "      <td>0.245722</td>\n",
       "      <td>0.760423</td>\n",
       "      <td>-0.645497</td>\n",
       "      <td>-0.062401</td>\n",
       "      <td>-0.587758</td>\n",
       "      <td>-1.857528</td>\n",
       "    </tr>\n",
       "    <tr>\n",
       "      <th>1</th>\n",
       "      <td>-1.653038</td>\n",
       "      <td>-1.100901</td>\n",
       "      <td>-0.645497</td>\n",
       "      <td>-0.656928</td>\n",
       "      <td>-1.852001</td>\n",
       "      <td>-0.421025</td>\n",
       "    </tr>\n",
       "    <tr>\n",
       "      <th>2</th>\n",
       "      <td>0.245722</td>\n",
       "      <td>-0.170239</td>\n",
       "      <td>-0.645497</td>\n",
       "      <td>-0.352308</td>\n",
       "      <td>-0.050758</td>\n",
       "      <td>0.868230</td>\n",
       "    </tr>\n",
       "    <tr>\n",
       "      <th>3</th>\n",
       "      <td>0.245722</td>\n",
       "      <td>0.163953</td>\n",
       "      <td>-0.645497</td>\n",
       "      <td>0.102615</td>\n",
       "      <td>-0.061488</td>\n",
       "      <td>0.868658</td>\n",
       "    </tr>\n",
       "    <tr>\n",
       "      <th>4</th>\n",
       "      <td>0.245722</td>\n",
       "      <td>0.971937</td>\n",
       "      <td>1.549193</td>\n",
       "      <td>2.033514</td>\n",
       "      <td>-0.040594</td>\n",
       "      <td>0.838362</td>\n",
       "    </tr>\n",
       "  </tbody>\n",
       "</table>\n",
       "</div>"
      ],
      "text/plain": [
       "   NUMBER_OF_ROOMS  FLOOR_AREA  HOUSE_TYPE   PRICE_2  LATITUDE  LONGITUDE\n",
       "0         0.245722    0.760423   -0.645497 -0.062401 -0.587758  -1.857528\n",
       "1        -1.653038   -1.100901   -0.645497 -0.656928 -1.852001  -0.421025\n",
       "2         0.245722   -0.170239   -0.645497 -0.352308 -0.050758   0.868230\n",
       "3         0.245722    0.163953   -0.645497  0.102615 -0.061488   0.868658\n",
       "4         0.245722    0.971937    1.549193  2.033514 -0.040594   0.838362"
      ]
     },
     "execution_count": 43,
     "metadata": {},
     "output_type": "execute_result"
    }
   ],
   "source": [
    "best_df.head()"
   ]
  },
  {
   "cell_type": "code",
   "execution_count": 44,
   "metadata": {},
   "outputs": [
    {
     "data": {
      "text/plain": [
       "PRICE_2            1.000000\n",
       "FLOOR_AREA         0.864313\n",
       "HOUSE_TYPE         0.746561\n",
       "NUMBER_OF_ROOMS    0.533343\n",
       "LONGITUDE          0.452649\n",
       "LATITUDE          -0.011895\n",
       "Name: PRICE_2, dtype: float64"
      ]
     },
     "execution_count": 44,
     "metadata": {},
     "output_type": "execute_result"
    }
   ],
   "source": [
    "#checking correlation of each feature in relation to the price\n",
    "corr_matrix = best_df.corr()\n",
    "corr_matrix['PRICE_2'].sort_values(ascending=False)"
   ]
  },
  {
   "cell_type": "code",
   "execution_count": 45,
   "metadata": {},
   "outputs": [
    {
     "data": {
      "text/plain": [
       "<AxesSubplot:xlabel='FLOOR_AREA', ylabel='PRICE_2'>"
      ]
     },
     "execution_count": 45,
     "metadata": {},
     "output_type": "execute_result"
    },
    {
     "data": {
      "text/plain": [
       "<Figure size 1080x576 with 0 Axes>"
      ]
     },
     "metadata": {},
     "output_type": "display_data"
    },
    {
     "data": {
      "image/png": "[encoded data removed]",
      "text/plain": [
       "<Figure size 432x288 with 1 Axes>"
      ]
     },
     "metadata": {
      "needs_background": "light"
     },
     "output_type": "display_data"
    }
   ],
   "source": [
    "#plotting the most correlated feature against the price\n",
    "plt.figure(figsize=(15,8))\n",
    "house_df.plot(kind='scatter', x='FLOOR_AREA', y='PRICE_2', alpha=1)"
   ]
  },
  {
   "cell_type": "code",
   "execution_count": 46,
   "metadata": {},
   "outputs": [
    {
     "name": "stderr",
     "output_type": "stream",
     "text": [
      "/home/kb/anaconda3/lib/python3.9/site-packages/seaborn/distributions.py:2619: FutureWarning: `distplot` is a deprecated function and will be removed in a future version. Please adapt your code to use either `displot` (a figure-level function with similar flexibility) or `histplot` (an axes-level function for histograms).\n",
      "  warnings.warn(msg, FutureWarning)\n"
     ]
    },
    {
     "data": {
      "text/plain": [
       "<Figure size 864x576 with 0 Axes>"
      ]
     },
     "execution_count": 46,
     "metadata": {},
     "output_type": "execute_result"
    },
    {
     "data": {
      "image/png": "[encoded data removed]",
      "text/plain": [
       "<Figure size 432x288 with 1 Axes>"
      ]
     },
     "metadata": {
      "needs_background": "light"
     },
     "output_type": "display_data"
    },
    {
     "data": {
      "text/plain": [
       "<Figure size 864x576 with 0 Axes>"
      ]
     },
     "metadata": {},
     "output_type": "display_data"
    }
   ],
   "source": [
    "#plotting the price distribution\n",
    "sns.distplot(best_df.PRICE_2)\n",
    "plt.figure(figsize=(12,8))"
   ]
  },
  {
   "cell_type": "code",
   "execution_count": 47,
   "metadata": {},
   "outputs": [
    {
     "data": {
      "text/plain": [
       "<AxesSubplot:>"
      ]
     },
     "execution_count": 47,
     "metadata": {},
     "output_type": "execute_result"
    },
    {
     "data": {
      "image/png": "[encoded data removed]",
      "text/plain": [
       "<Figure size 432x288 with 1 Axes>"
      ]
     },
     "metadata": {
      "needs_background": "light"
     },
     "output_type": "display_data"
    }
   ],
   "source": [
    "best_df['PRICE_2'].hist(bins=15)"
   ]
  },
  {
   "cell_type": "code",
   "execution_count": 48,
   "metadata": {},
   "outputs": [
    {
     "data": {
      "text/plain": [
       "<AxesSubplot:>"
      ]
     },
     "execution_count": 48,
     "metadata": {},
     "output_type": "execute_result"
    },
    {
     "data": {
      "image/png": "[encoded data removed]",
      "text/plain": [
       "<Figure size 432x288 with 2 Axes>"
      ]
     },
     "metadata": {
      "needs_background": "light"
     },
     "output_type": "display_data"
    }
   ],
   "source": [
    "#heat map showing the correlation of features with respect to the price\n",
    "sns.heatmap(best_df.corr(), annot=True)"
   ]
  },
  {
   "cell_type": "code",
   "execution_count": 49,
   "metadata": {},
   "outputs": [],
   "source": [
    "#Assigning the features into X and Y \n",
    "X = best_df[['NUMBER_OF_ROOMS', 'FLOOR_AREA', 'HOUSE_TYPE', 'LATITUDE','LONGITUDE']]\n",
    "y = best_df['PRICE_2']"
   ]
  },
  {
   "cell_type": "code",
   "execution_count": 50,
   "metadata": {},
   "outputs": [
    {
     "data": {
      "image/png": "[encoded data removed]",
      "text/plain": [
       "<Figure size 864x720 with 6 Axes>"
      ]
     },
     "metadata": {
      "needs_background": "light"
     },
     "output_type": "display_data"
    }
   ],
   "source": [
    "df.hist(figsize=(12,10))\n",
    "plt.show()"
   ]
  },
  {
   "cell_type": "code",
   "execution_count": 51,
   "metadata": {},
   "outputs": [
    {
     "ename": "KeyError",
     "evalue": "\"None of [Index(['Col1', 'Col2'], dtype='object')] are in the [columns]\"",
     "output_type": "error",
     "traceback": [
      "\u001b[0;31m---------------------------------------------------------------------------\u001b[0m",
      "\u001b[0;31mKeyError\u001b[0m                                  Traceback (most recent call last)",
      "\u001b[0;32m/tmp/ipykernel_53404/4121053684.py\u001b[0m in \u001b[0;36m<module>\u001b[0;34m\u001b[0m\n\u001b[1;32m      1\u001b[0m \u001b[0mnp\u001b[0m\u001b[0;34m.\u001b[0m\u001b[0mrandom\u001b[0m\u001b[0;34m.\u001b[0m\u001b[0mseed\u001b[0m\u001b[0;34m(\u001b[0m\u001b[0;36m1234\u001b[0m\u001b[0;34m)\u001b[0m\u001b[0;34m\u001b[0m\u001b[0;34m\u001b[0m\u001b[0m\n\u001b[1;32m      2\u001b[0m \u001b[0mdf\u001b[0m \u001b[0;34m=\u001b[0m \u001b[0mpd\u001b[0m\u001b[0;34m.\u001b[0m\u001b[0mDataFrame\u001b[0m\u001b[0;34m(\u001b[0m\u001b[0mnp\u001b[0m\u001b[0;34m.\u001b[0m\u001b[0mrandom\u001b[0m\u001b[0;34m.\u001b[0m\u001b[0mrandn\u001b[0m\u001b[0;34m(\u001b[0m\u001b[0;36m10\u001b[0m\u001b[0;34m,\u001b[0m\u001b[0;36m4\u001b[0m\u001b[0;34m)\u001b[0m\u001b[0;34m,\u001b[0m\u001b[0;34m)\u001b[0m\u001b[0;34m\u001b[0m\u001b[0;34m\u001b[0m\u001b[0m\n\u001b[0;32m----> 3\u001b[0;31m \u001b[0mboxplot\u001b[0m \u001b[0;34m=\u001b[0m \u001b[0mdf\u001b[0m\u001b[0;34m.\u001b[0m\u001b[0mboxplot\u001b[0m\u001b[0;34m(\u001b[0m\u001b[0mcolumn\u001b[0m\u001b[0;34m=\u001b[0m\u001b[0;34m[\u001b[0m\u001b[0;34m'Col1'\u001b[0m\u001b[0;34m,\u001b[0m \u001b[0;34m'Col2'\u001b[0m\u001b[0;34m,\u001b[0m\u001b[0;34m]\u001b[0m\u001b[0;34m)\u001b[0m\u001b[0;34m\u001b[0m\u001b[0;34m\u001b[0m\u001b[0m\n\u001b[0m",
      "\u001b[0;32m~/anaconda3/lib/python3.9/site-packages/pandas/plotting/_core.py\u001b[0m in \u001b[0;36mboxplot_frame\u001b[0;34m(self, column, by, ax, fontsize, rot, grid, figsize, layout, return_type, backend, **kwargs)\u001b[0m\n\u001b[1;32m    509\u001b[0m ):\n\u001b[1;32m    510\u001b[0m     \u001b[0mplot_backend\u001b[0m \u001b[0;34m=\u001b[0m \u001b[0m_get_plot_backend\u001b[0m\u001b[0;34m(\u001b[0m\u001b[0mbackend\u001b[0m\u001b[0;34m)\u001b[0m\u001b[0;34m\u001b[0m\u001b[0;34m\u001b[0m\u001b[0m\n\u001b[0;32m--> 511\u001b[0;31m     return plot_backend.boxplot_frame(\n\u001b[0m\u001b[1;32m    512\u001b[0m         \u001b[0mself\u001b[0m\u001b[0;34m,\u001b[0m\u001b[0;34m\u001b[0m\u001b[0;34m\u001b[0m\u001b[0m\n\u001b[1;32m    513\u001b[0m         \u001b[0mcolumn\u001b[0m\u001b[0;34m=\u001b[0m\u001b[0mcolumn\u001b[0m\u001b[0;34m,\u001b[0m\u001b[0;34m\u001b[0m\u001b[0;34m\u001b[0m\u001b[0m\n",
      "\u001b[0;32m~/anaconda3/lib/python3.9/site-packages/pandas/plotting/_matplotlib/boxplot.py\u001b[0m in \u001b[0;36mboxplot_frame\u001b[0;34m(self, column, by, ax, fontsize, rot, grid, figsize, layout, return_type, **kwds)\u001b[0m\n\u001b[1;32m    392\u001b[0m     \u001b[0;32mimport\u001b[0m \u001b[0mmatplotlib\u001b[0m\u001b[0;34m.\u001b[0m\u001b[0mpyplot\u001b[0m \u001b[0;32mas\u001b[0m \u001b[0mplt\u001b[0m\u001b[0;34m\u001b[0m\u001b[0;34m\u001b[0m\u001b[0m\n\u001b[1;32m    393\u001b[0m \u001b[0;34m\u001b[0m\u001b[0m\n\u001b[0;32m--> 394\u001b[0;31m     ax = boxplot(\n\u001b[0m\u001b[1;32m    395\u001b[0m         \u001b[0mself\u001b[0m\u001b[0;34m,\u001b[0m\u001b[0;34m\u001b[0m\u001b[0;34m\u001b[0m\u001b[0m\n\u001b[1;32m    396\u001b[0m         \u001b[0mcolumn\u001b[0m\u001b[0;34m=\u001b[0m\u001b[0mcolumn\u001b[0m\u001b[0;34m,\u001b[0m\u001b[0;34m\u001b[0m\u001b[0;34m\u001b[0m\u001b[0m\n",
      "\u001b[0;32m~/anaconda3/lib/python3.9/site-packages/pandas/plotting/_matplotlib/boxplot.py\u001b[0m in \u001b[0;36mboxplot\u001b[0;34m(data, column, by, ax, fontsize, rot, grid, figsize, layout, return_type, **kwds)\u001b[0m\n\u001b[1;32m    369\u001b[0m             \u001b[0mcolumns\u001b[0m \u001b[0;34m=\u001b[0m \u001b[0mdata\u001b[0m\u001b[0;34m.\u001b[0m\u001b[0mcolumns\u001b[0m\u001b[0;34m\u001b[0m\u001b[0;34m\u001b[0m\u001b[0m\n\u001b[1;32m    370\u001b[0m         \u001b[0;32melse\u001b[0m\u001b[0;34m:\u001b[0m\u001b[0;34m\u001b[0m\u001b[0;34m\u001b[0m\u001b[0m\n\u001b[0;32m--> 371\u001b[0;31m             \u001b[0mdata\u001b[0m \u001b[0;34m=\u001b[0m \u001b[0mdata\u001b[0m\u001b[0;34m[\u001b[0m\u001b[0mcolumns\u001b[0m\u001b[0;34m]\u001b[0m\u001b[0;34m\u001b[0m\u001b[0;34m\u001b[0m\u001b[0m\n\u001b[0m\u001b[1;32m    372\u001b[0m \u001b[0;34m\u001b[0m\u001b[0m\n\u001b[1;32m    373\u001b[0m         \u001b[0mresult\u001b[0m \u001b[0;34m=\u001b[0m \u001b[0mplot_group\u001b[0m\u001b[0;34m(\u001b[0m\u001b[0mcolumns\u001b[0m\u001b[0;34m,\u001b[0m \u001b[0mdata\u001b[0m\u001b[0;34m.\u001b[0m\u001b[0mvalues\u001b[0m\u001b[0;34m.\u001b[0m\u001b[0mT\u001b[0m\u001b[0;34m,\u001b[0m \u001b[0max\u001b[0m\u001b[0;34m)\u001b[0m\u001b[0;34m\u001b[0m\u001b[0;34m\u001b[0m\u001b[0m\n",
      "\u001b[0;32m~/anaconda3/lib/python3.9/site-packages/pandas/core/frame.py\u001b[0m in \u001b[0;36m__getitem__\u001b[0;34m(self, key)\u001b[0m\n\u001b[1;32m   3462\u001b[0m             \u001b[0;32mif\u001b[0m \u001b[0mis_iterator\u001b[0m\u001b[0;34m(\u001b[0m\u001b[0mkey\u001b[0m\u001b[0;34m)\u001b[0m\u001b[0;34m:\u001b[0m\u001b[0;34m\u001b[0m\u001b[0;34m\u001b[0m\u001b[0m\n\u001b[1;32m   3463\u001b[0m                 \u001b[0mkey\u001b[0m \u001b[0;34m=\u001b[0m \u001b[0mlist\u001b[0m\u001b[0;34m(\u001b[0m\u001b[0mkey\u001b[0m\u001b[0;34m)\u001b[0m\u001b[0;34m\u001b[0m\u001b[0;34m\u001b[0m\u001b[0m\n\u001b[0;32m-> 3464\u001b[0;31m             \u001b[0mindexer\u001b[0m \u001b[0;34m=\u001b[0m \u001b[0mself\u001b[0m\u001b[0;34m.\u001b[0m\u001b[0mloc\u001b[0m\u001b[0;34m.\u001b[0m\u001b[0m_get_listlike_indexer\u001b[0m\u001b[0;34m(\u001b[0m\u001b[0mkey\u001b[0m\u001b[0;34m,\u001b[0m \u001b[0maxis\u001b[0m\u001b[0;34m=\u001b[0m\u001b[0;36m1\u001b[0m\u001b[0;34m)\u001b[0m\u001b[0;34m[\u001b[0m\u001b[0;36m1\u001b[0m\u001b[0;34m]\u001b[0m\u001b[0;34m\u001b[0m\u001b[0;34m\u001b[0m\u001b[0m\n\u001b[0m\u001b[1;32m   3465\u001b[0m \u001b[0;34m\u001b[0m\u001b[0m\n\u001b[1;32m   3466\u001b[0m         \u001b[0;31m# take() does not accept boolean indexers\u001b[0m\u001b[0;34m\u001b[0m\u001b[0;34m\u001b[0m\u001b[0m\n",
      "\u001b[0;32m~/anaconda3/lib/python3.9/site-packages/pandas/core/indexing.py\u001b[0m in \u001b[0;36m_get_listlike_indexer\u001b[0;34m(self, key, axis)\u001b[0m\n\u001b[1;32m   1312\u001b[0m             \u001b[0mkeyarr\u001b[0m\u001b[0;34m,\u001b[0m \u001b[0mindexer\u001b[0m\u001b[0;34m,\u001b[0m \u001b[0mnew_indexer\u001b[0m \u001b[0;34m=\u001b[0m \u001b[0max\u001b[0m\u001b[0;34m.\u001b[0m\u001b[0m_reindex_non_unique\u001b[0m\u001b[0;34m(\u001b[0m\u001b[0mkeyarr\u001b[0m\u001b[0;34m)\u001b[0m\u001b[0;34m\u001b[0m\u001b[0;34m\u001b[0m\u001b[0m\n\u001b[1;32m   1313\u001b[0m \u001b[0;34m\u001b[0m\u001b[0m\n\u001b[0;32m-> 1314\u001b[0;31m         \u001b[0mself\u001b[0m\u001b[0;34m.\u001b[0m\u001b[0m_validate_read_indexer\u001b[0m\u001b[0;34m(\u001b[0m\u001b[0mkeyarr\u001b[0m\u001b[0;34m,\u001b[0m \u001b[0mindexer\u001b[0m\u001b[0;34m,\u001b[0m \u001b[0maxis\u001b[0m\u001b[0;34m)\u001b[0m\u001b[0;34m\u001b[0m\u001b[0;34m\u001b[0m\u001b[0m\n\u001b[0m\u001b[1;32m   1315\u001b[0m \u001b[0;34m\u001b[0m\u001b[0m\n\u001b[1;32m   1316\u001b[0m         if needs_i8_conversion(ax.dtype) or isinstance(\n",
      "\u001b[0;32m~/anaconda3/lib/python3.9/site-packages/pandas/core/indexing.py\u001b[0m in \u001b[0;36m_validate_read_indexer\u001b[0;34m(self, key, indexer, axis)\u001b[0m\n\u001b[1;32m   1372\u001b[0m                 \u001b[0;32mif\u001b[0m \u001b[0muse_interval_msg\u001b[0m\u001b[0;34m:\u001b[0m\u001b[0;34m\u001b[0m\u001b[0;34m\u001b[0m\u001b[0m\n\u001b[1;32m   1373\u001b[0m                     \u001b[0mkey\u001b[0m \u001b[0;34m=\u001b[0m \u001b[0mlist\u001b[0m\u001b[0;34m(\u001b[0m\u001b[0mkey\u001b[0m\u001b[0;34m)\u001b[0m\u001b[0;34m\u001b[0m\u001b[0;34m\u001b[0m\u001b[0m\n\u001b[0;32m-> 1374\u001b[0;31m                 \u001b[0;32mraise\u001b[0m \u001b[0mKeyError\u001b[0m\u001b[0;34m(\u001b[0m\u001b[0;34mf\"None of [{key}] are in the [{axis_name}]\"\u001b[0m\u001b[0;34m)\u001b[0m\u001b[0;34m\u001b[0m\u001b[0;34m\u001b[0m\u001b[0m\n\u001b[0m\u001b[1;32m   1375\u001b[0m \u001b[0;34m\u001b[0m\u001b[0m\n\u001b[1;32m   1376\u001b[0m             \u001b[0mnot_found\u001b[0m \u001b[0;34m=\u001b[0m \u001b[0mlist\u001b[0m\u001b[0;34m(\u001b[0m\u001b[0mensure_index\u001b[0m\u001b[0;34m(\u001b[0m\u001b[0mkey\u001b[0m\u001b[0;34m)\u001b[0m\u001b[0;34m[\u001b[0m\u001b[0mmissing_mask\u001b[0m\u001b[0;34m.\u001b[0m\u001b[0mnonzero\u001b[0m\u001b[0;34m(\u001b[0m\u001b[0;34m)\u001b[0m\u001b[0;34m[\u001b[0m\u001b[0;36m0\u001b[0m\u001b[0;34m]\u001b[0m\u001b[0;34m]\u001b[0m\u001b[0;34m.\u001b[0m\u001b[0munique\u001b[0m\u001b[0;34m(\u001b[0m\u001b[0;34m)\u001b[0m\u001b[0;34m)\u001b[0m\u001b[0;34m\u001b[0m\u001b[0;34m\u001b[0m\u001b[0m\n",
      "\u001b[0;31mKeyError\u001b[0m: \"None of [Index(['Col1', 'Col2'], dtype='object')] are in the [columns]\""
     ]
    },
    {
     "data": {
      "image/png": "[encoded data removed]",
      "text/plain": [
       "<Figure size 432x288 with 1 Axes>"
      ]
     },
     "metadata": {
      "needs_background": "light"
     },
     "output_type": "display_data"
    }
   ],
   "source": [
    "np.random.seed(1234)\n",
    "df = pd.DataFrame(np.random.randn(10,4),)\n",
    "boxplot = df.boxplot(column=['Col1', 'Col2',])\n"
   ]
  },
  {
   "cell_type": "code",
   "execution_count": null,
   "metadata": {},
   "outputs": [],
   "source": [
    "#Splitting the features into training and test sets using scikit-learn library\n",
    "from sklearn.model_selection import train_test_split\n",
    "X_train, X_test, y_train, y_test = train_test_split(X, y, test_size=0.3, random_state=20)"
   ]
  },
  {
   "cell_type": "code",
   "execution_count": null,
   "metadata": {},
   "outputs": [],
   "source": [
    "#importing evaluation metrics of linear regression models\n",
    "from sklearn import metrics"
   ]
  },
  {
   "cell_type": "code",
   "execution_count": null,
   "metadata": {},
   "outputs": [],
   "source": [
    "#Training using the linear regression Model\n",
    "from sklearn.linear_model import LinearRegression\n",
    "linear_regression=LinearRegression()"
   ]
  },
  {
   "cell_type": "code",
   "execution_count": null,
   "metadata": {},
   "outputs": [
    {
     "data": {
      "text/plain": [
       "LinearRegression()"
      ]
     },
     "execution_count": 28,
     "metadata": {},
     "output_type": "execute_result"
    }
   ],
   "source": [
    "linear_regression.fit(X_train,y_train)"
   ]
  },
  {
   "cell_type": "code",
   "execution_count": null,
   "metadata": {},
   "outputs": [],
   "source": [
    "lr_pred = linear_regression.predict(X_test)"
   ]
  },
  {
   "cell_type": "code",
   "execution_count": null,
   "metadata": {},
   "outputs": [
    {
     "name": "stdout",
     "output_type": "stream",
     "text": [
      "0.4901833518904207\n",
      "\n",
      "\n",
      "0.28428038244453446\n"
     ]
    }
   ],
   "source": [
    "print(np.sqrt(metrics.mean_squared_error(y_test, lr_pred))) #RMSE\n",
    "print('\\n')\n",
    "print(metrics.r2_score(y_test,lr_pred)) #R2"
   ]
  },
  {
   "cell_type": "code",
   "execution_count": null,
   "metadata": {},
   "outputs": [],
   "source": [
    "#checking other model performance\n",
    "from sklearn.linear_model import Lasso, ElasticNet, LogisticRegression, Ridge"
   ]
  },
  {
   "cell_type": "code",
   "execution_count": null,
   "metadata": {},
   "outputs": [
    {
     "data": {
      "text/plain": [
       "Lasso()"
      ]
     },
     "execution_count": 32,
     "metadata": {},
     "output_type": "execute_result"
    }
   ],
   "source": [
    "#Lasso regression\n",
    "lasso_regres = Lasso()\n",
    "lasso_regres.fit(X_train,y_train)"
   ]
  },
  {
   "cell_type": "code",
   "execution_count": null,
   "metadata": {},
   "outputs": [],
   "source": [
    "lasso_pred = lasso_regres.predict(X_test)"
   ]
  },
  {
   "cell_type": "code",
   "execution_count": null,
   "metadata": {},
   "outputs": [
    {
     "name": "stdout",
     "output_type": "stream",
     "text": [
      "0.7012211288297737\n",
      "\n",
      "\n",
      "-0.464656535700569\n"
     ]
    }
   ],
   "source": [
    "print(np.sqrt(metrics.mean_squared_error(y_test, lasso_pred)))\n",
    "print('\\n')\n",
    "print(metrics.r2_score(y_test,lasso_pred))"
   ]
  },
  {
   "cell_type": "code",
   "execution_count": null,
   "metadata": {},
   "outputs": [
    {
     "name": "stdout",
     "output_type": "stream",
     "text": [
      "0.4653617532775205\n",
      "\n",
      "\n",
      "0.35492950092200093\n"
     ]
    }
   ],
   "source": [
    "#ElasticNetRegression\n",
    "elastic = ElasticNet()\n",
    "elastic.fit(X_train,y_train)\n",
    "elastic_pred = elastic.predict(X_test)\n",
    "print(np.sqrt(metrics.mean_squared_error(y_test, elastic_pred)))\n",
    "print('\\n')\n",
    "print(metrics.r2_score(y_test,elastic_pred))"
   ]
  },
  {
   "cell_type": "code",
   "execution_count": null,
   "metadata": {},
   "outputs": [
    {
     "name": "stdout",
     "output_type": "stream",
     "text": [
      "0.4898454764650759\n",
      "\n",
      "\n",
      "0.28526671021994476\n"
     ]
    }
   ],
   "source": [
    "# Ridge regression\n",
    "ridge = Ridge()\n",
    "ridge.fit(X_train,y_train)\n",
    "ridge_pred = ridge.predict(X_test)\n",
    "print(np.sqrt(metrics.mean_squared_error(y_test, ridge_pred)))\n",
    "print('\\n')\n",
    "print(metrics.r2_score(y_test,ridge_pred))"
   ]
  },
  {
   "cell_type": "code",
   "execution_count": null,
   "metadata": {},
   "outputs": [
    {
     "name": "stdout",
     "output_type": "stream",
     "text": [
      "0.39435428315015747\n",
      "\n",
      "\n",
      "0.5367675965088541\n"
     ]
    }
   ],
   "source": [
    "#Training using the decision trees \n",
    "from sklearn.tree import DecisionTreeRegressor\n",
    "dtree = DecisionTreeRegressor()\n",
    "dtree.fit(X_train,y_train)\n",
    "dt_pred = dtree.predict(X_test)\n",
    "print(np.sqrt(metrics.mean_squared_error(y_test, dt_pred)))\n",
    "print('\\n')\n",
    "print(metrics.r2_score(y_test,dt_pred))"
   ]
  },
  {
   "cell_type": "code",
   "execution_count": null,
   "metadata": {},
   "outputs": [
    {
     "name": "stdout",
     "output_type": "stream",
     "text": [
      "0.24451095253614655\n",
      "\n",
      "\n",
      "0.8219170087692144\n"
     ]
    }
   ],
   "source": [
    "#for random forests\n",
    "from sklearn.ensemble import RandomForestRegressor\n",
    "regressor = RandomForestRegressor(n_estimators=30, random_state=20)\n",
    "regressor.fit(X_train, y_train)\n",
    "rfr_pred = regressor.predict(X_test)\n",
    "print(np.sqrt(metrics.mean_squared_error(y_test, rfr_pred)))\n",
    "print('\\n')\n",
    "print(metrics.r2_score(y_test,rfr_pred))"
   ]
  },
  {
   "cell_type": "code",
   "execution_count": null,
   "metadata": {},
   "outputs": [
    {
     "name": "stderr",
     "output_type": "stream",
     "text": [
      "/home/kb/anaconda3/lib/python3.9/site-packages/seaborn/distributions.py:2619: FutureWarning: `distplot` is a deprecated function and will be removed in a future version. Please adapt your code to use either `displot` (a figure-level function with similar flexibility) or `histplot` (an axes-level function for histograms).\n",
      "  warnings.warn(msg, FutureWarning)\n"
     ]
    },
    {
     "data": {
      "text/plain": [
       "<AxesSubplot:xlabel='PRICE_2', ylabel='Density'>"
      ]
     },
     "execution_count": 39,
     "metadata": {},
     "output_type": "execute_result"
    },
    {
     "data": {
      "image/png": "[encoded data removed]",
      "text/plain": [
       "<Figure size 432x288 with 1 Axes>"
      ]
     },
     "metadata": {
      "needs_background": "light"
     },
     "output_type": "display_data"
    }
   ],
   "source": [
    "sns.distplot((y_test-rfr_pred))"
   ]
  },
  {
   "cell_type": "code",
   "execution_count": null,
   "metadata": {},
   "outputs": [
    {
     "name": "stdout",
     "output_type": "stream",
     "text": [
      "0.3349205661029577\n",
      "\n",
      "\n",
      "0.6658746397728907\n"
     ]
    }
   ],
   "source": [
    "#checking using the support vector regressor\n",
    "from sklearn.svm import SVR\n",
    "svr_regressor = SVR(kernel='rbf')\n",
    "svr_regressor.fit(X_train,y_train)\n",
    "svr_pred = svr_regressor.predict(X_test)\n",
    "print(np.sqrt(metrics.mean_squared_error(y_test, svr_pred)))\n",
    "print('\\n')\n",
    "print(metrics.r2_score(y_test,svr_pred))"
   ]
  },
  {
   "cell_type": "code",
   "execution_count": null,
   "metadata": {},
   "outputs": [],
   "source": [
    "#Inversing the standardized features\n",
    "inv_df=scaler.inverse_transform(standardized_df, copy=None)\n",
    "nhc = pd.DataFrame(inv_df,columns=new_df.columns)"
   ]
  },
  {
   "cell_type": "code",
   "execution_count": null,
   "metadata": {},
   "outputs": [
    {
     "data": {
      "text/html": [
       "<div>\n",
       "<style scoped>\n",
       "    .dataframe tbody tr th:only-of-type {\n",
       "        vertical-align: middle;\n",
       "    }\n",
       "\n",
       "    .dataframe tbody tr th {\n",
       "        vertical-align: top;\n",
       "    }\n",
       "\n",
       "    .dataframe thead th {\n",
       "        text-align: right;\n",
       "    }\n",
       "</style>\n",
       "<table border=\"1\" class=\"dataframe\">\n",
       "  <thead>\n",
       "    <tr style=\"text-align: right;\">\n",
       "      <th></th>\n",
       "      <th>NUMBER_OF_ROOMS</th>\n",
       "      <th>FLOOR_AREA</th>\n",
       "      <th>HOUSE_TYPE</th>\n",
       "      <th>PRICE_2</th>\n",
       "      <th>LATITUDE</th>\n",
       "      <th>LONGITUDE</th>\n",
       "    </tr>\n",
       "  </thead>\n",
       "  <tbody>\n",
       "    <tr>\n",
       "      <th>0</th>\n",
       "      <td>3.0</td>\n",
       "      <td>85.0</td>\n",
       "      <td>1.0</td>\n",
       "      <td>47111382.0</td>\n",
       "      <td>-9.98190</td>\n",
       "      <td>39.69960</td>\n",
       "    </tr>\n",
       "    <tr>\n",
       "      <th>1</th>\n",
       "      <td>3.0</td>\n",
       "      <td>85.0</td>\n",
       "      <td>2.0</td>\n",
       "      <td>73219000.0</td>\n",
       "      <td>-6.20080</td>\n",
       "      <td>35.83690</td>\n",
       "    </tr>\n",
       "    <tr>\n",
       "      <th>2</th>\n",
       "      <td>3.0</td>\n",
       "      <td>188.0</td>\n",
       "      <td>2.0</td>\n",
       "      <td>376140000.0</td>\n",
       "      <td>-6.77900</td>\n",
       "      <td>39.25340</td>\n",
       "    </tr>\n",
       "    <tr>\n",
       "      <th>3</th>\n",
       "      <td>3.0</td>\n",
       "      <td>152.0</td>\n",
       "      <td>2.0</td>\n",
       "      <td>430464000.0</td>\n",
       "      <td>-6.78333</td>\n",
       "      <td>39.28333</td>\n",
       "    </tr>\n",
       "    <tr>\n",
       "      <th>4</th>\n",
       "      <td>2.0</td>\n",
       "      <td>140.0</td>\n",
       "      <td>2.0</td>\n",
       "      <td>408870000.0</td>\n",
       "      <td>-6.72310</td>\n",
       "      <td>39.22990</td>\n",
       "    </tr>\n",
       "  </tbody>\n",
       "</table>\n",
       "</div>"
      ],
      "text/plain": [
       "   NUMBER_OF_ROOMS  FLOOR_AREA  HOUSE_TYPE      PRICE_2  LATITUDE  LONGITUDE\n",
       "0              3.0        85.0         1.0   47111382.0  -9.98190   39.69960\n",
       "1              3.0        85.0         2.0   73219000.0  -6.20080   35.83690\n",
       "2              3.0       188.0         2.0  376140000.0  -6.77900   39.25340\n",
       "3              3.0       152.0         2.0  430464000.0  -6.78333   39.28333\n",
       "4              2.0       140.0         2.0  408870000.0  -6.72310   39.22990"
      ]
     },
     "execution_count": 42,
     "metadata": {},
     "output_type": "execute_result"
    }
   ],
   "source": [
    "nhc.head()"
   ]
  },
  {
   "cell_type": "code",
   "execution_count": null,
   "metadata": {},
   "outputs": [],
   "source": [
    "#Assigning the features into X and Y \n",
    "X_column= nhc[['NUMBER_OF_ROOMS', 'FLOOR_AREA', 'HOUSE_TYPE', 'LATITUDE','LONGITUDE']]\n",
    "y_column = nhc['PRICE_2']"
   ]
  },
  {
   "cell_type": "code",
   "execution_count": null,
   "metadata": {},
   "outputs": [],
   "source": [
    "#Splitting the features into training and test sets\n",
    "from sklearn.model_selection import train_test_split\n",
    "X_train, X_test, y_train, y_test = train_test_split(X_column, y_column, test_size=0.3, random_state=20)"
   ]
  },
  {
   "cell_type": "code",
   "execution_count": null,
   "metadata": {},
   "outputs": [
    {
     "name": "stdout",
     "output_type": "stream",
     "text": [
      "49992817.976166785\n",
      "\n",
      "\n",
      "0.8215068656801037\n"
     ]
    }
   ],
   "source": [
    "#for random forests\n",
    "from sklearn.ensemble import RandomForestRegressor\n",
    "regressor = RandomForestRegressor(n_estimators=30, random_state=20)\n",
    "regressor.fit(X_train, y_train)\n",
    "rfr_pred = regressor.predict(X_test)\n",
    "print(np.sqrt(metrics.mean_squared_error(y_test, rfr_pred)))\n",
    "print('\\n')\n",
    "print(metrics.r2_score(y_test,rfr_pred))"
   ]
  },
  {
   "cell_type": "code",
   "execution_count": null,
   "metadata": {},
   "outputs": [
    {
     "data": {
      "text/plain": [
       "66     42846602.4\n",
       "51     57672500.0\n",
       "12    152104100.4\n",
       "Name: PRICE_2, dtype: float64"
      ]
     },
     "execution_count": 46,
     "metadata": {},
     "output_type": "execute_result"
    }
   ],
   "source": [
    "y_test[:3]"
   ]
  },
  {
   "cell_type": "code",
   "execution_count": null,
   "metadata": {},
   "outputs": [
    {
     "data": {
      "text/plain": [
       "array([4.51758233e+07, 5.29860938e+07, 1.57941890e+08])"
      ]
     },
     "execution_count": 47,
     "metadata": {},
     "output_type": "execute_result"
    }
   ],
   "source": [
    "rfr_pred[:3]"
   ]
  },
  {
   "cell_type": "code",
   "execution_count": null,
   "metadata": {},
   "outputs": [],
   "source": [
    "#Saving every other model\n",
    "from json5 import dump, load"
   ]
  },
  {
   "cell_type": "code",
   "execution_count": null,
   "metadata": {},
   "outputs": [],
   "source": [
    "import pickle\n",
    "with open('regressor_pkl', 'wb') as f:\n",
    "    pickle.dump(regressor, f)"
   ]
  },
  {
   "cell_type": "code",
   "execution_count": null,
   "metadata": {},
   "outputs": [],
   "source": [
    "# pred = loaded_regressor.predict(X_test)"
   ]
  },
  {
   "cell_type": "code",
   "execution_count": null,
   "metadata": {},
   "outputs": [],
   "source": [
    "# pred[:5]"
   ]
  },
  {
   "cell_type": "code",
   "execution_count": null,
   "metadata": {},
   "outputs": [
    {
     "data": {
      "text/html": [
       "<div>\n",
       "<style scoped>\n",
       "    .dataframe tbody tr th:only-of-type {\n",
       "        vertical-align: middle;\n",
       "    }\n",
       "\n",
       "    .dataframe tbody tr th {\n",
       "        vertical-align: top;\n",
       "    }\n",
       "\n",
       "    .dataframe thead th {\n",
       "        text-align: right;\n",
       "    }\n",
       "</style>\n",
       "<table border=\"1\" class=\"dataframe\">\n",
       "  <thead>\n",
       "    <tr style=\"text-align: right;\">\n",
       "      <th></th>\n",
       "      <th>NUMBER_OF_ROOMS</th>\n",
       "      <th>FLOOR_AREA</th>\n",
       "      <th>HOUSE_TYPE</th>\n",
       "      <th>LATITUDE</th>\n",
       "      <th>LONGITUDE</th>\n",
       "    </tr>\n",
       "  </thead>\n",
       "  <tbody>\n",
       "    <tr>\n",
       "      <th>66</th>\n",
       "      <td>2.0</td>\n",
       "      <td>56.0</td>\n",
       "      <td>1.0</td>\n",
       "      <td>-10.642500</td>\n",
       "      <td>35.631700</td>\n",
       "    </tr>\n",
       "    <tr>\n",
       "      <th>51</th>\n",
       "      <td>3.0</td>\n",
       "      <td>85.0</td>\n",
       "      <td>1.0</td>\n",
       "      <td>-9.207300</td>\n",
       "      <td>34.064100</td>\n",
       "    </tr>\n",
       "    <tr>\n",
       "      <th>12</th>\n",
       "      <td>3.0</td>\n",
       "      <td>144.0</td>\n",
       "      <td>1.0</td>\n",
       "      <td>-6.797800</td>\n",
       "      <td>39.262100</td>\n",
       "    </tr>\n",
       "    <tr>\n",
       "      <th>83</th>\n",
       "      <td>2.0</td>\n",
       "      <td>56.0</td>\n",
       "      <td>1.0</td>\n",
       "      <td>-4.210000</td>\n",
       "      <td>35.770000</td>\n",
       "    </tr>\n",
       "    <tr>\n",
       "      <th>36</th>\n",
       "      <td>3.0</td>\n",
       "      <td>150.0</td>\n",
       "      <td>2.0</td>\n",
       "      <td>-6.723100</td>\n",
       "      <td>39.229900</td>\n",
       "    </tr>\n",
       "    <tr>\n",
       "      <th>44</th>\n",
       "      <td>3.0</td>\n",
       "      <td>177.0</td>\n",
       "      <td>2.0</td>\n",
       "      <td>-6.796200</td>\n",
       "      <td>39.269300</td>\n",
       "    </tr>\n",
       "    <tr>\n",
       "      <th>23</th>\n",
       "      <td>3.0</td>\n",
       "      <td>79.0</td>\n",
       "      <td>2.0</td>\n",
       "      <td>-6.200800</td>\n",
       "      <td>35.836900</td>\n",
       "    </tr>\n",
       "    <tr>\n",
       "      <th>0</th>\n",
       "      <td>3.0</td>\n",
       "      <td>85.0</td>\n",
       "      <td>1.0</td>\n",
       "      <td>-9.981900</td>\n",
       "      <td>39.699600</td>\n",
       "    </tr>\n",
       "    <tr>\n",
       "      <th>77</th>\n",
       "      <td>2.0</td>\n",
       "      <td>56.0</td>\n",
       "      <td>1.0</td>\n",
       "      <td>-9.239100</td>\n",
       "      <td>33.379500</td>\n",
       "    </tr>\n",
       "    <tr>\n",
       "      <th>45</th>\n",
       "      <td>3.0</td>\n",
       "      <td>85.0</td>\n",
       "      <td>1.0</td>\n",
       "      <td>-5.900000</td>\n",
       "      <td>37.400000</td>\n",
       "    </tr>\n",
       "    <tr>\n",
       "      <th>50</th>\n",
       "      <td>2.0</td>\n",
       "      <td>56.0</td>\n",
       "      <td>1.0</td>\n",
       "      <td>-6.200000</td>\n",
       "      <td>36.417000</td>\n",
       "    </tr>\n",
       "    <tr>\n",
       "      <th>37</th>\n",
       "      <td>3.0</td>\n",
       "      <td>85.0</td>\n",
       "      <td>1.0</td>\n",
       "      <td>-4.210000</td>\n",
       "      <td>35.770000</td>\n",
       "    </tr>\n",
       "    <tr>\n",
       "      <th>39</th>\n",
       "      <td>2.0</td>\n",
       "      <td>56.0</td>\n",
       "      <td>1.0</td>\n",
       "      <td>-4.871900</td>\n",
       "      <td>29.643100</td>\n",
       "    </tr>\n",
       "    <tr>\n",
       "      <th>48</th>\n",
       "      <td>3.0</td>\n",
       "      <td>85.0</td>\n",
       "      <td>1.0</td>\n",
       "      <td>-10.727200</td>\n",
       "      <td>38.800600</td>\n",
       "    </tr>\n",
       "    <tr>\n",
       "      <th>2</th>\n",
       "      <td>3.0</td>\n",
       "      <td>188.0</td>\n",
       "      <td>2.0</td>\n",
       "      <td>-6.779000</td>\n",
       "      <td>39.253400</td>\n",
       "    </tr>\n",
       "    <tr>\n",
       "      <th>5</th>\n",
       "      <td>2.0</td>\n",
       "      <td>60.0</td>\n",
       "      <td>1.0</td>\n",
       "      <td>-3.447000</td>\n",
       "      <td>36.674100</td>\n",
       "    </tr>\n",
       "    <tr>\n",
       "      <th>1</th>\n",
       "      <td>3.0</td>\n",
       "      <td>85.0</td>\n",
       "      <td>2.0</td>\n",
       "      <td>-6.200800</td>\n",
       "      <td>35.836900</td>\n",
       "    </tr>\n",
       "    <tr>\n",
       "      <th>21</th>\n",
       "      <td>3.0</td>\n",
       "      <td>85.0</td>\n",
       "      <td>1.0</td>\n",
       "      <td>-5.145600</td>\n",
       "      <td>33.348600</td>\n",
       "    </tr>\n",
       "    <tr>\n",
       "      <th>64</th>\n",
       "      <td>3.0</td>\n",
       "      <td>115.8</td>\n",
       "      <td>1.0</td>\n",
       "      <td>-6.181100</td>\n",
       "      <td>35.763800</td>\n",
       "    </tr>\n",
       "    <tr>\n",
       "      <th>73</th>\n",
       "      <td>3.0</td>\n",
       "      <td>100.0</td>\n",
       "      <td>1.0</td>\n",
       "      <td>-3.302900</td>\n",
       "      <td>36.445300</td>\n",
       "    </tr>\n",
       "    <tr>\n",
       "      <th>27</th>\n",
       "      <td>3.0</td>\n",
       "      <td>70.0</td>\n",
       "      <td>1.0</td>\n",
       "      <td>-6.200000</td>\n",
       "      <td>36.417000</td>\n",
       "    </tr>\n",
       "    <tr>\n",
       "      <th>67</th>\n",
       "      <td>3.0</td>\n",
       "      <td>125.0</td>\n",
       "      <td>2.0</td>\n",
       "      <td>-10.281000</td>\n",
       "      <td>40.180200</td>\n",
       "    </tr>\n",
       "    <tr>\n",
       "      <th>59</th>\n",
       "      <td>3.0</td>\n",
       "      <td>141.0</td>\n",
       "      <td>1.0</td>\n",
       "      <td>-6.808087</td>\n",
       "      <td>39.276505</td>\n",
       "    </tr>\n",
       "    <tr>\n",
       "      <th>31</th>\n",
       "      <td>3.0</td>\n",
       "      <td>85.0</td>\n",
       "      <td>1.0</td>\n",
       "      <td>-6.797800</td>\n",
       "      <td>39.262100</td>\n",
       "    </tr>\n",
       "    <tr>\n",
       "      <th>8</th>\n",
       "      <td>3.0</td>\n",
       "      <td>85.0</td>\n",
       "      <td>1.0</td>\n",
       "      <td>-6.725500</td>\n",
       "      <td>32.055300</td>\n",
       "    </tr>\n",
       "    <tr>\n",
       "      <th>49</th>\n",
       "      <td>3.0</td>\n",
       "      <td>70.0</td>\n",
       "      <td>1.0</td>\n",
       "      <td>-9.981900</td>\n",
       "      <td>39.699600</td>\n",
       "    </tr>\n",
       "  </tbody>\n",
       "</table>\n",
       "</div>"
      ],
      "text/plain": [
       "    NUMBER_OF_ROOMS  FLOOR_AREA  HOUSE_TYPE   LATITUDE  LONGITUDE\n",
       "66              2.0        56.0         1.0 -10.642500  35.631700\n",
       "51              3.0        85.0         1.0  -9.207300  34.064100\n",
       "12              3.0       144.0         1.0  -6.797800  39.262100\n",
       "83              2.0        56.0         1.0  -4.210000  35.770000\n",
       "36              3.0       150.0         2.0  -6.723100  39.229900\n",
       "44              3.0       177.0         2.0  -6.796200  39.269300\n",
       "23              3.0        79.0         2.0  -6.200800  35.836900\n",
       "0               3.0        85.0         1.0  -9.981900  39.699600\n",
       "77              2.0        56.0         1.0  -9.239100  33.379500\n",
       "45              3.0        85.0         1.0  -5.900000  37.400000\n",
       "50              2.0        56.0         1.0  -6.200000  36.417000\n",
       "37              3.0        85.0         1.0  -4.210000  35.770000\n",
       "39              2.0        56.0         1.0  -4.871900  29.643100\n",
       "48              3.0        85.0         1.0 -10.727200  38.800600\n",
       "2               3.0       188.0         2.0  -6.779000  39.253400\n",
       "5               2.0        60.0         1.0  -3.447000  36.674100\n",
       "1               3.0        85.0         2.0  -6.200800  35.836900\n",
       "21              3.0        85.0         1.0  -5.145600  33.348600\n",
       "64              3.0       115.8         1.0  -6.181100  35.763800\n",
       "73              3.0       100.0         1.0  -3.302900  36.445300\n",
       "27              3.0        70.0         1.0  -6.200000  36.417000\n",
       "67              3.0       125.0         2.0 -10.281000  40.180200\n",
       "59              3.0       141.0         1.0  -6.808087  39.276505\n",
       "31              3.0        85.0         1.0  -6.797800  39.262100\n",
       "8               3.0        85.0         1.0  -6.725500  32.055300\n",
       "49              3.0        70.0         1.0  -9.981900  39.699600"
      ]
     },
     "execution_count": 52,
     "metadata": {},
     "output_type": "execute_result"
    }
   ],
   "source": [
    "X_test"
   ]
  },
  {
   "cell_type": "code",
   "execution_count": null,
   "metadata": {},
   "outputs": [],
   "source": []
  }
 ],
 "metadata": {
  "kernelspec": {
   "display_name": "Python 3",
   "language": "python",
   "name": "python3"
  },
  "language_info": {
   "codemirror_mode": {
    "name": "ipython",
    "version": 3
   },
   "file_extension": ".py",
   "mimetype": "text/x-python",
   "name": "python",
   "nbconvert_exporter": "python",
   "pygments_lexer": "ipython3",
   "version": "3.9.7"
  }
 },
 "nbformat": 4,
 "nbformat_minor": 2
}
