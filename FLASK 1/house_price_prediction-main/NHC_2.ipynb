{
 "cells": [
  {
   "cell_type": "code",
   "execution_count": 1,
   "metadata": {},
   "outputs": [],
   "source": [
    "#importing useful libraries\n",
    "import numpy as np\n",
    "import pandas as pd\n",
    "import matplotlib.pyplot as plt\n",
    "import seaborn as sns\n",
    "%matplotlib inline"
   ]
  },
  {
   "cell_type": "code",
   "execution_count": 2,
   "metadata": {},
   "outputs": [],
   "source": [
    "df = pd.read_excel('ALL PRICES - NHC PROJECTS.xlsx',sheet_name=1)"
   ]
  },
  {
   "cell_type": "code",
   "execution_count": 3,
   "metadata": {},
   "outputs": [
    {
     "data": {
      "text/html": [
       "<div>\n",
       "<style scoped>\n",
       "    .dataframe tbody tr th:only-of-type {\n",
       "        vertical-align: middle;\n",
       "    }\n",
       "\n",
       "    .dataframe tbody tr th {\n",
       "        vertical-align: top;\n",
       "    }\n",
       "\n",
       "    .dataframe thead th {\n",
       "        text-align: right;\n",
       "    }\n",
       "</style>\n",
       "<table border=\"1\" class=\"dataframe\">\n",
       "  <thead>\n",
       "    <tr style=\"text-align: right;\">\n",
       "      <th></th>\n",
       "      <th>PROJECT_NAME</th>\n",
       "      <th>NUMBER_OF_ROOMS</th>\n",
       "      <th>FLOOR_AREA</th>\n",
       "      <th>HOUSE_TYPE</th>\n",
       "      <th>PRICE_1</th>\n",
       "      <th>PRICE_2</th>\n",
       "      <th>LATITUDE</th>\n",
       "      <th>LONGITUDE</th>\n",
       "    </tr>\n",
       "  </thead>\n",
       "  <tbody>\n",
       "    <tr>\n",
       "      <th>0</th>\n",
       "      <td>KONGWA</td>\n",
       "      <td>2</td>\n",
       "      <td>56.0</td>\n",
       "      <td>normal</td>\n",
       "      <td>35492580.0</td>\n",
       "      <td>41881244.4</td>\n",
       "      <td>-6.2000</td>\n",
       "      <td>36.4170</td>\n",
       "    </tr>\n",
       "    <tr>\n",
       "      <th>1</th>\n",
       "      <td>KONGWA</td>\n",
       "      <td>3</td>\n",
       "      <td>70.0</td>\n",
       "      <td>normal</td>\n",
       "      <td>39835800.0</td>\n",
       "      <td>47006244.0</td>\n",
       "      <td>-6.2000</td>\n",
       "      <td>36.4170</td>\n",
       "    </tr>\n",
       "    <tr>\n",
       "      <th>2</th>\n",
       "      <td>KONGWA</td>\n",
       "      <td>3</td>\n",
       "      <td>56.0</td>\n",
       "      <td>normal</td>\n",
       "      <td>40166280.0</td>\n",
       "      <td>47396210.4</td>\n",
       "      <td>-6.2000</td>\n",
       "      <td>36.4170</td>\n",
       "    </tr>\n",
       "    <tr>\n",
       "      <th>3</th>\n",
       "      <td>MKUZO</td>\n",
       "      <td>2</td>\n",
       "      <td>56.0</td>\n",
       "      <td>normal</td>\n",
       "      <td>36310680.0</td>\n",
       "      <td>42846602.4</td>\n",
       "      <td>-10.6425</td>\n",
       "      <td>35.6317</td>\n",
       "    </tr>\n",
       "    <tr>\n",
       "      <th>4</th>\n",
       "      <td>MKUZO</td>\n",
       "      <td>3</td>\n",
       "      <td>70.0</td>\n",
       "      <td>normal</td>\n",
       "      <td>41727960.0</td>\n",
       "      <td>49238992.8</td>\n",
       "      <td>-10.6425</td>\n",
       "      <td>35.6317</td>\n",
       "    </tr>\n",
       "  </tbody>\n",
       "</table>\n",
       "</div>"
      ],
      "text/plain": [
       "  PROJECT_NAME  NUMBER_OF_ROOMS  FLOOR_AREA HOUSE_TYPE     PRICE_1  \\\n",
       "0       KONGWA                2        56.0     normal  35492580.0   \n",
       "1       KONGWA                3        70.0     normal  39835800.0   \n",
       "2       KONGWA                3        56.0     normal  40166280.0   \n",
       "3        MKUZO                2        56.0     normal  36310680.0   \n",
       "4        MKUZO                3        70.0     normal  41727960.0   \n",
       "\n",
       "      PRICE_2  LATITUDE  LONGITUDE  \n",
       "0  41881244.4   -6.2000    36.4170  \n",
       "1  47006244.0   -6.2000    36.4170  \n",
       "2  47396210.4   -6.2000    36.4170  \n",
       "3  42846602.4  -10.6425    35.6317  \n",
       "4  49238992.8  -10.6425    35.6317  "
      ]
     },
     "execution_count": 3,
     "metadata": {},
     "output_type": "execute_result"
    }
   ],
   "source": [
    "df.head()"
   ]
  },
  {
   "cell_type": "code",
   "execution_count": 4,
   "metadata": {},
   "outputs": [],
   "source": [
    "#reshuffling the data\n",
    "df_shuf=df.sample(frac=1).reset_index(drop=True)"
   ]
  },
  {
   "cell_type": "code",
   "execution_count": 5,
   "metadata": {},
   "outputs": [
    {
     "data": {
      "text/html": [
       "<div>\n",
       "<style scoped>\n",
       "    .dataframe tbody tr th:only-of-type {\n",
       "        vertical-align: middle;\n",
       "    }\n",
       "\n",
       "    .dataframe tbody tr th {\n",
       "        vertical-align: top;\n",
       "    }\n",
       "\n",
       "    .dataframe thead th {\n",
       "        text-align: right;\n",
       "    }\n",
       "</style>\n",
       "<table border=\"1\" class=\"dataframe\">\n",
       "  <thead>\n",
       "    <tr style=\"text-align: right;\">\n",
       "      <th></th>\n",
       "      <th>PROJECT_NAME</th>\n",
       "      <th>NUMBER_OF_ROOMS</th>\n",
       "      <th>FLOOR_AREA</th>\n",
       "      <th>HOUSE_TYPE</th>\n",
       "      <th>PRICE_1</th>\n",
       "      <th>PRICE_2</th>\n",
       "      <th>LATITUDE</th>\n",
       "      <th>LONGITUDE</th>\n",
       "    </tr>\n",
       "  </thead>\n",
       "  <tbody>\n",
       "    <tr>\n",
       "      <th>0</th>\n",
       "      <td>Buswelu - Mwanza</td>\n",
       "      <td>3</td>\n",
       "      <td>85.0</td>\n",
       "      <td>normal</td>\n",
       "      <td>63750000.0</td>\n",
       "      <td>75225000.0</td>\n",
       "      <td>-2.5154</td>\n",
       "      <td>32.9736</td>\n",
       "    </tr>\n",
       "    <tr>\n",
       "      <th>1</th>\n",
       "      <td>KONGWA</td>\n",
       "      <td>3</td>\n",
       "      <td>56.0</td>\n",
       "      <td>normal</td>\n",
       "      <td>40166280.0</td>\n",
       "      <td>47396210.4</td>\n",
       "      <td>-6.2000</td>\n",
       "      <td>36.4170</td>\n",
       "    </tr>\n",
       "    <tr>\n",
       "      <th>2</th>\n",
       "      <td>Longido - Arusha</td>\n",
       "      <td>3</td>\n",
       "      <td>85.0</td>\n",
       "      <td>normal</td>\n",
       "      <td>51574000.0</td>\n",
       "      <td>60857320.0</td>\n",
       "      <td>-2.7322</td>\n",
       "      <td>36.6955</td>\n",
       "    </tr>\n",
       "    <tr>\n",
       "      <th>3</th>\n",
       "      <td>Buhare - Musoma</td>\n",
       "      <td>3</td>\n",
       "      <td>85.0</td>\n",
       "      <td>normal</td>\n",
       "      <td>49850000.0</td>\n",
       "      <td>58823000.0</td>\n",
       "      <td>-1.5000</td>\n",
       "      <td>33.8000</td>\n",
       "    </tr>\n",
       "    <tr>\n",
       "      <th>4</th>\n",
       "      <td>KONGWA</td>\n",
       "      <td>3</td>\n",
       "      <td>70.0</td>\n",
       "      <td>normal</td>\n",
       "      <td>39835800.0</td>\n",
       "      <td>47006244.0</td>\n",
       "      <td>-6.2000</td>\n",
       "      <td>36.4170</td>\n",
       "    </tr>\n",
       "  </tbody>\n",
       "</table>\n",
       "</div>"
      ],
      "text/plain": [
       "       PROJECT_NAME  NUMBER_OF_ROOMS  FLOOR_AREA HOUSE_TYPE     PRICE_1  \\\n",
       "0  Buswelu - Mwanza                3        85.0     normal  63750000.0   \n",
       "1            KONGWA                3        56.0     normal  40166280.0   \n",
       "2  Longido - Arusha                3        85.0     normal  51574000.0   \n",
       "3   Buhare - Musoma                3        85.0     normal  49850000.0   \n",
       "4            KONGWA                3        70.0     normal  39835800.0   \n",
       "\n",
       "      PRICE_2  LATITUDE  LONGITUDE  \n",
       "0  75225000.0   -2.5154    32.9736  \n",
       "1  47396210.4   -6.2000    36.4170  \n",
       "2  60857320.0   -2.7322    36.6955  \n",
       "3  58823000.0   -1.5000    33.8000  \n",
       "4  47006244.0   -6.2000    36.4170  "
      ]
     },
     "execution_count": 5,
     "metadata": {},
     "output_type": "execute_result"
    }
   ],
   "source": [
    "df_shuf.head()"
   ]
  },
  {
   "cell_type": "code",
   "execution_count": 6,
   "metadata": {},
   "outputs": [
    {
     "data": {
      "text/plain": [
       "<AxesSubplot:>"
      ]
     },
     "execution_count": 6,
     "metadata": {},
     "output_type": "execute_result"
    },
    {
     "data": {
      "image/png": "[encoded data removed]",
      "text/plain": [
       "<Figure size 432x288 with 1 Axes>"
      ]
     },
     "metadata": {
      "needs_background": "light"
     },
     "output_type": "display_data"
    }
   ],
   "source": [
    "#visualizing the missing values present in the dataframe\n",
    "sns.heatmap(df_shuf.isnull(), yticklabels=False, cbar=False, cmap='viridis')"
   ]
  },
  {
   "cell_type": "code",
   "execution_count": 7,
   "metadata": {},
   "outputs": [],
   "source": [
    "#conversion of categorical data to numerical values via direct mapping\n",
    "\n",
    "scale_mapper= {'normal':1, 'Apartment':2}\n",
    "df_shuf['HOUSE_TYPE'].replace(scale_mapper, inplace=True)"
   ]
  },
  {
   "cell_type": "code",
   "execution_count": 8,
   "metadata": {},
   "outputs": [
    {
     "data": {
      "text/plain": [
       "1    60\n",
       "2    25\n",
       "Name: HOUSE_TYPE, dtype: int64"
      ]
     },
     "execution_count": 8,
     "metadata": {},
     "output_type": "execute_result"
    }
   ],
   "source": [
    "df_shuf['HOUSE_TYPE'].value_counts()"
   ]
  },
  {
   "cell_type": "code",
   "execution_count": 9,
   "metadata": {},
   "outputs": [
    {
     "data": {
      "text/html": [
       "<div>\n",
       "<style scoped>\n",
       "    .dataframe tbody tr th:only-of-type {\n",
       "        vertical-align: middle;\n",
       "    }\n",
       "\n",
       "    .dataframe tbody tr th {\n",
       "        vertical-align: top;\n",
       "    }\n",
       "\n",
       "    .dataframe thead th {\n",
       "        text-align: right;\n",
       "    }\n",
       "</style>\n",
       "<table border=\"1\" class=\"dataframe\">\n",
       "  <thead>\n",
       "    <tr style=\"text-align: right;\">\n",
       "      <th></th>\n",
       "      <th>PROJECT_NAME</th>\n",
       "      <th>NUMBER_OF_ROOMS</th>\n",
       "      <th>FLOOR_AREA</th>\n",
       "      <th>HOUSE_TYPE</th>\n",
       "      <th>PRICE_1</th>\n",
       "      <th>PRICE_2</th>\n",
       "      <th>LATITUDE</th>\n",
       "      <th>LONGITUDE</th>\n",
       "    </tr>\n",
       "  </thead>\n",
       "  <tbody>\n",
       "    <tr>\n",
       "      <th>0</th>\n",
       "      <td>Buswelu - Mwanza</td>\n",
       "      <td>3</td>\n",
       "      <td>85.0</td>\n",
       "      <td>1</td>\n",
       "      <td>63750000.0</td>\n",
       "      <td>75225000.0</td>\n",
       "      <td>-2.5154</td>\n",
       "      <td>32.9736</td>\n",
       "    </tr>\n",
       "    <tr>\n",
       "      <th>1</th>\n",
       "      <td>KONGWA</td>\n",
       "      <td>3</td>\n",
       "      <td>56.0</td>\n",
       "      <td>1</td>\n",
       "      <td>40166280.0</td>\n",
       "      <td>47396210.4</td>\n",
       "      <td>-6.2000</td>\n",
       "      <td>36.4170</td>\n",
       "    </tr>\n",
       "    <tr>\n",
       "      <th>2</th>\n",
       "      <td>Longido - Arusha</td>\n",
       "      <td>3</td>\n",
       "      <td>85.0</td>\n",
       "      <td>1</td>\n",
       "      <td>51574000.0</td>\n",
       "      <td>60857320.0</td>\n",
       "      <td>-2.7322</td>\n",
       "      <td>36.6955</td>\n",
       "    </tr>\n",
       "    <tr>\n",
       "      <th>3</th>\n",
       "      <td>Buhare - Musoma</td>\n",
       "      <td>3</td>\n",
       "      <td>85.0</td>\n",
       "      <td>1</td>\n",
       "      <td>49850000.0</td>\n",
       "      <td>58823000.0</td>\n",
       "      <td>-1.5000</td>\n",
       "      <td>33.8000</td>\n",
       "    </tr>\n",
       "    <tr>\n",
       "      <th>4</th>\n",
       "      <td>KONGWA</td>\n",
       "      <td>3</td>\n",
       "      <td>70.0</td>\n",
       "      <td>1</td>\n",
       "      <td>39835800.0</td>\n",
       "      <td>47006244.0</td>\n",
       "      <td>-6.2000</td>\n",
       "      <td>36.4170</td>\n",
       "    </tr>\n",
       "  </tbody>\n",
       "</table>\n",
       "</div>"
      ],
      "text/plain": [
       "       PROJECT_NAME  NUMBER_OF_ROOMS  FLOOR_AREA  HOUSE_TYPE     PRICE_1  \\\n",
       "0  Buswelu - Mwanza                3        85.0           1  63750000.0   \n",
       "1            KONGWA                3        56.0           1  40166280.0   \n",
       "2  Longido - Arusha                3        85.0           1  51574000.0   \n",
       "3   Buhare - Musoma                3        85.0           1  49850000.0   \n",
       "4            KONGWA                3        70.0           1  39835800.0   \n",
       "\n",
       "      PRICE_2  LATITUDE  LONGITUDE  \n",
       "0  75225000.0   -2.5154    32.9736  \n",
       "1  47396210.4   -6.2000    36.4170  \n",
       "2  60857320.0   -2.7322    36.6955  \n",
       "3  58823000.0   -1.5000    33.8000  \n",
       "4  47006244.0   -6.2000    36.4170  "
      ]
     },
     "execution_count": 9,
     "metadata": {},
     "output_type": "execute_result"
    }
   ],
   "source": [
    "df_shuf.head()"
   ]
  },
  {
   "cell_type": "code",
   "execution_count": 10,
   "metadata": {},
   "outputs": [],
   "source": [
    "#dropping string columns and additional price column\n",
    "new_df = df_shuf.drop(columns=['PROJECT_NAME','PRICE_1'], axis=1)"
   ]
  },
  {
   "cell_type": "code",
   "execution_count": 11,
   "metadata": {},
   "outputs": [
    {
     "data": {
      "text/html": [
       "<div>\n",
       "<style scoped>\n",
       "    .dataframe tbody tr th:only-of-type {\n",
       "        vertical-align: middle;\n",
       "    }\n",
       "\n",
       "    .dataframe tbody tr th {\n",
       "        vertical-align: top;\n",
       "    }\n",
       "\n",
       "    .dataframe thead th {\n",
       "        text-align: right;\n",
       "    }\n",
       "</style>\n",
       "<table border=\"1\" class=\"dataframe\">\n",
       "  <thead>\n",
       "    <tr style=\"text-align: right;\">\n",
       "      <th></th>\n",
       "      <th>NUMBER_OF_ROOMS</th>\n",
       "      <th>FLOOR_AREA</th>\n",
       "      <th>HOUSE_TYPE</th>\n",
       "      <th>PRICE_2</th>\n",
       "      <th>LATITUDE</th>\n",
       "      <th>LONGITUDE</th>\n",
       "    </tr>\n",
       "  </thead>\n",
       "  <tbody>\n",
       "    <tr>\n",
       "      <th>0</th>\n",
       "      <td>3</td>\n",
       "      <td>85.0</td>\n",
       "      <td>1</td>\n",
       "      <td>75225000.0</td>\n",
       "      <td>-2.5154</td>\n",
       "      <td>32.9736</td>\n",
       "    </tr>\n",
       "    <tr>\n",
       "      <th>1</th>\n",
       "      <td>3</td>\n",
       "      <td>56.0</td>\n",
       "      <td>1</td>\n",
       "      <td>47396210.4</td>\n",
       "      <td>-6.2000</td>\n",
       "      <td>36.4170</td>\n",
       "    </tr>\n",
       "  </tbody>\n",
       "</table>\n",
       "</div>"
      ],
      "text/plain": [
       "   NUMBER_OF_ROOMS  FLOOR_AREA  HOUSE_TYPE     PRICE_2  LATITUDE  LONGITUDE\n",
       "0                3        85.0           1  75225000.0   -2.5154    32.9736\n",
       "1                3        56.0           1  47396210.4   -6.2000    36.4170"
      ]
     },
     "execution_count": 11,
     "metadata": {},
     "output_type": "execute_result"
    }
   ],
   "source": [
    "new_df.head(2)"
   ]
  },
  {
   "cell_type": "code",
   "execution_count": 12,
   "metadata": {},
   "outputs": [],
   "source": [
    "#filling the missing numerical values using the NN imputation method\n",
    "from sklearn.impute import KNNImputer\n",
    "imputer = KNNImputer(n_neighbors=20)"
   ]
  },
  {
   "cell_type": "code",
   "execution_count": 13,
   "metadata": {},
   "outputs": [],
   "source": [
    "imput_df = imputer.fit_transform(new_df.values)\n",
    "house_df = pd.DataFrame(imput_df, columns=new_df.columns)"
   ]
  },
  {
   "cell_type": "code",
   "execution_count": 14,
   "metadata": {},
   "outputs": [
    {
     "data": {
      "text/plain": [
       "<AxesSubplot:>"
      ]
     },
     "execution_count": 14,
     "metadata": {},
     "output_type": "execute_result"
    },
    {
     "data": {
      "image/png": "[encoded data removed]",
      "text/plain": [
       "<Figure size 432x288 with 1 Axes>"
      ]
     },
     "metadata": {
      "needs_background": "light"
     },
     "output_type": "display_data"
    }
   ],
   "source": [
    "#visualizing the missing values present in the dataframe\n",
    "sns.heatmap(house_df.isnull(), yticklabels=False, cbar=False, cmap='viridis')"
   ]
  },
  {
   "cell_type": "code",
   "execution_count": 15,
   "metadata": {},
   "outputs": [],
   "source": [
    "#Standardizing the features using standard scaler for machine learning algorithms to understand\n",
    "from sklearn import preprocessing\n",
    "scaler = preprocessing.StandardScaler()\n",
    "standardized_df = scaler.fit_transform(house_df)"
   ]
  },
  {
   "cell_type": "code",
   "execution_count": 16,
   "metadata": {},
   "outputs": [],
   "source": [
    "#creating dataframe conducive for the ML algorithms\n",
    "best_df = pd.DataFrame(standardized_df, columns=new_df.columns)"
   ]
  },
  {
   "cell_type": "code",
   "execution_count": 17,
   "metadata": {},
   "outputs": [
    {
     "data": {
      "text/html": [
       "<div>\n",
       "<style scoped>\n",
       "    .dataframe tbody tr th:only-of-type {\n",
       "        vertical-align: middle;\n",
       "    }\n",
       "\n",
       "    .dataframe tbody tr th {\n",
       "        vertical-align: top;\n",
       "    }\n",
       "\n",
       "    .dataframe thead th {\n",
       "        text-align: right;\n",
       "    }\n",
       "</style>\n",
       "<table border=\"1\" class=\"dataframe\">\n",
       "  <thead>\n",
       "    <tr style=\"text-align: right;\">\n",
       "      <th></th>\n",
       "      <th>NUMBER_OF_ROOMS</th>\n",
       "      <th>FLOOR_AREA</th>\n",
       "      <th>HOUSE_TYPE</th>\n",
       "      <th>PRICE_2</th>\n",
       "      <th>LATITUDE</th>\n",
       "      <th>LONGITUDE</th>\n",
       "    </tr>\n",
       "  </thead>\n",
       "  <tbody>\n",
       "    <tr>\n",
       "      <th>0</th>\n",
       "      <td>0.245722</td>\n",
       "      <td>-0.487510</td>\n",
       "      <td>-0.645497</td>\n",
       "      <td>-0.501119</td>\n",
       "      <td>1.947024</td>\n",
       "      <td>-1.373821</td>\n",
       "    </tr>\n",
       "    <tr>\n",
       "      <th>1</th>\n",
       "      <td>0.245722</td>\n",
       "      <td>-1.100901</td>\n",
       "      <td>-0.645497</td>\n",
       "      <td>-0.637384</td>\n",
       "      <td>0.228121</td>\n",
       "      <td>-0.146139</td>\n",
       "    </tr>\n",
       "    <tr>\n",
       "      <th>2</th>\n",
       "      <td>0.245722</td>\n",
       "      <td>-0.487510</td>\n",
       "      <td>-0.645497</td>\n",
       "      <td>-0.571471</td>\n",
       "      <td>1.845885</td>\n",
       "      <td>-0.046845</td>\n",
       "    </tr>\n",
       "    <tr>\n",
       "      <th>3</th>\n",
       "      <td>0.245722</td>\n",
       "      <td>-0.487510</td>\n",
       "      <td>-0.645497</td>\n",
       "      <td>-0.581432</td>\n",
       "      <td>2.420719</td>\n",
       "      <td>-1.079183</td>\n",
       "    </tr>\n",
       "    <tr>\n",
       "      <th>4</th>\n",
       "      <td>0.245722</td>\n",
       "      <td>-0.804781</td>\n",
       "      <td>-0.645497</td>\n",
       "      <td>-0.639294</td>\n",
       "      <td>0.228121</td>\n",
       "      <td>-0.146139</td>\n",
       "    </tr>\n",
       "  </tbody>\n",
       "</table>\n",
       "</div>"
      ],
      "text/plain": [
       "   NUMBER_OF_ROOMS  FLOOR_AREA  HOUSE_TYPE   PRICE_2  LATITUDE  LONGITUDE\n",
       "0         0.245722   -0.487510   -0.645497 -0.501119  1.947024  -1.373821\n",
       "1         0.245722   -1.100901   -0.645497 -0.637384  0.228121  -0.146139\n",
       "2         0.245722   -0.487510   -0.645497 -0.571471  1.845885  -0.046845\n",
       "3         0.245722   -0.487510   -0.645497 -0.581432  2.420719  -1.079183\n",
       "4         0.245722   -0.804781   -0.645497 -0.639294  0.228121  -0.146139"
      ]
     },
     "execution_count": 17,
     "metadata": {},
     "output_type": "execute_result"
    }
   ],
   "source": [
    "best_df.head()"
   ]
  },
  {
   "cell_type": "code",
   "execution_count": 18,
   "metadata": {},
   "outputs": [
    {
     "data": {
      "text/plain": [
       "PRICE_2            1.000000\n",
       "FLOOR_AREA         0.864313\n",
       "HOUSE_TYPE         0.746561\n",
       "NUMBER_OF_ROOMS    0.533343\n",
       "LONGITUDE          0.452649\n",
       "LATITUDE          -0.011895\n",
       "Name: PRICE_2, dtype: float64"
      ]
     },
     "execution_count": 18,
     "metadata": {},
     "output_type": "execute_result"
    }
   ],
   "source": [
    "#checking correlation of each feature in relation to the price\n",
    "corr_matrix = best_df.corr()\n",
    "corr_matrix['PRICE_2'].sort_values(ascending=False)"
   ]
  },
  {
   "cell_type": "code",
   "execution_count": 19,
   "metadata": {},
   "outputs": [
    {
     "data": {
      "text/plain": [
       "<AxesSubplot:xlabel='FLOOR_AREA', ylabel='PRICE_2'>"
      ]
     },
     "execution_count": 19,
     "metadata": {},
     "output_type": "execute_result"
    },
    {
     "data": {
      "text/plain": [
       "<Figure size 1080x576 with 0 Axes>"
      ]
     },
     "metadata": {},
     "output_type": "display_data"
    },
    {
     "data": {
      "image/png": "[encoded data removed]",
      "text/plain": [
       "<Figure size 432x288 with 1 Axes>"
      ]
     },
     "metadata": {
      "needs_background": "light"
     },
     "output_type": "display_data"
    }
   ],
   "source": [
    "#plotting the most correlated feature against the price\n",
    "plt.figure(figsize=(15,8))\n",
    "house_df.plot(kind='scatter', x='FLOOR_AREA', y='PRICE_2', alpha=1)"
   ]
  },
  {
   "cell_type": "code",
   "execution_count": 20,
   "metadata": {},
   "outputs": [
    {
     "name": "stderr",
     "output_type": "stream",
     "text": [
      "/home/kb/anaconda3/lib/python3.9/site-packages/seaborn/distributions.py:2619: FutureWarning: `distplot` is a deprecated function and will be removed in a future version. Please adapt your code to use either `displot` (a figure-level function with similar flexibility) or `histplot` (an axes-level function for histograms).\n",
      "  warnings.warn(msg, FutureWarning)\n"
     ]
    },
    {
     "data": {
      "text/plain": [
       "<Figure size 864x576 with 0 Axes>"
      ]
     },
     "execution_count": 20,
     "metadata": {},
     "output_type": "execute_result"
    },
    {
     "data": {
      "image/png": "[encoded data removed]",
      "text/plain": [
       "<Figure size 432x288 with 1 Axes>"
      ]
     },
     "metadata": {
      "needs_background": "light"
     },
     "output_type": "display_data"
    },
    {
     "data": {
      "text/plain": [
       "<Figure size 864x576 with 0 Axes>"
      ]
     },
     "metadata": {},
     "output_type": "display_data"
    }
   ],
   "source": [
    "#plotting the price distribution\n",
    "sns.distplot(best_df.PRICE_2)\n",
    "plt.figure(figsize=(12,8))"
   ]
  },
  {
   "cell_type": "code",
   "execution_count": 21,
   "metadata": {},
   "outputs": [
    {
     "data": {
      "text/plain": [
       "<AxesSubplot:>"
      ]
     },
     "execution_count": 21,
     "metadata": {},
     "output_type": "execute_result"
    },
    {
     "data": {
      "image/png": "[encoded data removed]",
      "text/plain": [
       "<Figure size 432x288 with 1 Axes>"
      ]
     },
     "metadata": {
      "needs_background": "light"
     },
     "output_type": "display_data"
    }
   ],
   "source": [
    "best_df['PRICE_2'].hist(bins=15)"
   ]
  },
  {
   "cell_type": "code",
   "execution_count": 22,
   "metadata": {},
   "outputs": [
    {
     "data": {
      "text/plain": [
       "<AxesSubplot:>"
      ]
     },
     "execution_count": 22,
     "metadata": {},
     "output_type": "execute_result"
    },
    {
     "data": {
      "image/png": "[encoded data removed]",
      "text/plain": [
       "<Figure size 432x288 with 2 Axes>"
      ]
     },
     "metadata": {
      "needs_background": "light"
     },
     "output_type": "display_data"
    }
   ],
   "source": [
    "#heat map showing the correlation of features with respect to the price\n",
    "sns.heatmap(best_df.corr(), annot=True)"
   ]
  },
  {
   "cell_type": "code",
   "execution_count": 23,
   "metadata": {},
   "outputs": [],
   "source": [
    "#Assigning the features into X and Y \n",
    "X = best_df[['NUMBER_OF_ROOMS', 'FLOOR_AREA', 'HOUSE_TYPE', 'LATITUDE','LONGITUDE']]\n",
    "y = best_df['PRICE_2']"
   ]
  },
  {
   "cell_type": "code",
   "execution_count": 24,
   "metadata": {},
   "outputs": [],
   "source": [
    "#Splitting the features into training and test sets using scikit-learn library\n",
    "from sklearn.model_selection import train_test_split\n",
    "X_train, X_test, y_train, y_test = train_test_split(X, y, test_size=0.3, random_state=20)"
   ]
  },
  {
   "cell_type": "code",
   "execution_count": 25,
   "metadata": {},
   "outputs": [],
   "source": [
    "#importing evaluation metrics of linear regression models\n",
    "from sklearn import metrics"
   ]
  },
  {
   "cell_type": "code",
   "execution_count": 26,
   "metadata": {},
   "outputs": [],
   "source": [
    "#Training using the linear regression Model\n",
    "from sklearn.linear_model import LinearRegression\n",
    "linear_regression=LinearRegression()"
   ]
  },
  {
   "cell_type": "code",
   "execution_count": 27,
   "metadata": {},
   "outputs": [
    {
     "data": {
      "text/plain": [
       "LinearRegression()"
      ]
     },
     "execution_count": 27,
     "metadata": {},
     "output_type": "execute_result"
    }
   ],
   "source": [
    "linear_regression.fit(X_train,y_train)"
   ]
  },
  {
   "cell_type": "code",
   "execution_count": 28,
   "metadata": {},
   "outputs": [],
   "source": [
    "lr_pred = linear_regression.predict(X_test)"
   ]
  },
  {
   "cell_type": "code",
   "execution_count": 29,
   "metadata": {},
   "outputs": [
    {
     "name": "stdout",
     "output_type": "stream",
     "text": [
      "0.4038660754661493\n",
      "\n",
      "\n",
      "0.8750243851457974\n"
     ]
    }
   ],
   "source": [
    "print(np.sqrt(metrics.mean_squared_error(y_test, lr_pred))) #RMSE\n",
    "print('\\n')\n",
    "print(metrics.r2_score(y_test,lr_pred)) #R2"
   ]
  },
  {
   "cell_type": "code",
   "execution_count": 30,
   "metadata": {},
   "outputs": [],
   "source": [
    "#checking other model performance\n",
    "from sklearn.linear_model import Lasso, ElasticNet, LogisticRegression, Ridge"
   ]
  },
  {
   "cell_type": "code",
   "execution_count": 31,
   "metadata": {},
   "outputs": [
    {
     "data": {
      "text/plain": [
       "Lasso()"
      ]
     },
     "execution_count": 31,
     "metadata": {},
     "output_type": "execute_result"
    }
   ],
   "source": [
    "#Lasso regression\n",
    "lasso_regres = Lasso()\n",
    "lasso_regres.fit(X_train,y_train)"
   ]
  },
  {
   "cell_type": "code",
   "execution_count": 32,
   "metadata": {},
   "outputs": [],
   "source": [
    "lasso_pred = lasso_regres.predict(X_test)"
   ]
  },
  {
   "cell_type": "code",
   "execution_count": 33,
   "metadata": {},
   "outputs": [
    {
     "name": "stdout",
     "output_type": "stream",
     "text": [
      "1.1483403832439316\n",
      "\n",
      "\n",
      "-0.010396444240059477\n"
     ]
    }
   ],
   "source": [
    "print(np.sqrt(metrics.mean_squared_error(y_test, lasso_pred)))\n",
    "print('\\n')\n",
    "print(metrics.r2_score(y_test,lasso_pred))"
   ]
  },
  {
   "cell_type": "code",
   "execution_count": 34,
   "metadata": {},
   "outputs": [
    {
     "name": "stdout",
     "output_type": "stream",
     "text": [
      "0.9790257314556842\n",
      "\n",
      "\n",
      "0.2655897214733657\n"
     ]
    }
   ],
   "source": [
    "#ElasticNetRegression\n",
    "elastic = ElasticNet()\n",
    "elastic.fit(X_train,y_train)\n",
    "elastic_pred = elastic.predict(X_test)\n",
    "print(np.sqrt(metrics.mean_squared_error(y_test, elastic_pred)))\n",
    "print('\\n')\n",
    "print(metrics.r2_score(y_test,elastic_pred))"
   ]
  },
  {
   "cell_type": "code",
   "execution_count": 35,
   "metadata": {},
   "outputs": [
    {
     "name": "stdout",
     "output_type": "stream",
     "text": [
      "0.4090439030342166\n",
      "\n",
      "\n",
      "0.871799304554118\n"
     ]
    }
   ],
   "source": [
    "# Ridge regression\n",
    "ridge = Ridge()\n",
    "ridge.fit(X_train,y_train)\n",
    "ridge_pred = ridge.predict(X_test)\n",
    "print(np.sqrt(metrics.mean_squared_error(y_test, ridge_pred)))\n",
    "print('\\n')\n",
    "print(metrics.r2_score(y_test,ridge_pred))"
   ]
  },
  {
   "cell_type": "code",
   "execution_count": 36,
   "metadata": {},
   "outputs": [
    {
     "name": "stdout",
     "output_type": "stream",
     "text": [
      "0.7239802014042913\n",
      "\n",
      "\n",
      "0.598390559384854\n"
     ]
    }
   ],
   "source": [
    "#Training using the decision trees \n",
    "from sklearn.tree import DecisionTreeRegressor\n",
    "dtree = DecisionTreeRegressor()\n",
    "dtree.fit(X_train,y_train)\n",
    "dt_pred = dtree.predict(X_test)\n",
    "print(np.sqrt(metrics.mean_squared_error(y_test, dt_pred)))\n",
    "print('\\n')\n",
    "print(metrics.r2_score(y_test,dt_pred))"
   ]
  },
  {
   "cell_type": "code",
   "execution_count": 37,
   "metadata": {},
   "outputs": [
    {
     "name": "stdout",
     "output_type": "stream",
     "text": [
      "0.4887218862748412\n",
      "\n",
      "\n",
      "0.8169902994781852\n"
     ]
    }
   ],
   "source": [
    "#for random forests\n",
    "from sklearn.ensemble import RandomForestRegressor\n",
    "regressor = RandomForestRegressor(n_estimators=30, random_state=20)\n",
    "regressor.fit(X_train, y_train)\n",
    "rfr_pred = regressor.predict(X_test)\n",
    "print(np.sqrt(metrics.mean_squared_error(y_test, rfr_pred)))\n",
    "print('\\n')\n",
    "print(metrics.r2_score(y_test,rfr_pred))"
   ]
  },
  {
   "cell_type": "code",
   "execution_count": 38,
   "metadata": {},
   "outputs": [
    {
     "name": "stderr",
     "output_type": "stream",
     "text": [
      "/home/kb/anaconda3/lib/python3.9/site-packages/seaborn/distributions.py:2619: FutureWarning: `distplot` is a deprecated function and will be removed in a future version. Please adapt your code to use either `displot` (a figure-level function with similar flexibility) or `histplot` (an axes-level function for histograms).\n",
      "  warnings.warn(msg, FutureWarning)\n"
     ]
    },
    {
     "data": {
      "text/plain": [
       "<AxesSubplot:xlabel='PRICE_2', ylabel='Density'>"
      ]
     },
     "execution_count": 38,
     "metadata": {},
     "output_type": "execute_result"
    },
    {
     "data": {
      "image/png": "[encoded data removed]",
      "text/plain": [
       "<Figure size 432x288 with 1 Axes>"
      ]
     },
     "metadata": {
      "needs_background": "light"
     },
     "output_type": "display_data"
    }
   ],
   "source": [
    "sns.distplot((y_test-rfr_pred))"
   ]
  },
  {
   "cell_type": "code",
   "execution_count": 39,
   "metadata": {},
   "outputs": [
    {
     "name": "stdout",
     "output_type": "stream",
     "text": [
      "0.7997940289319168\n",
      "\n",
      "\n",
      "0.5098750075513897\n"
     ]
    }
   ],
   "source": [
    "#checking using the support vector regressor\n",
    "from sklearn.svm import SVR\n",
    "svr_regressor = SVR(kernel='rbf')\n",
    "svr_regressor.fit(X_train,y_train)\n",
    "svr_pred = svr_regressor.predict(X_test)\n",
    "print(np.sqrt(metrics.mean_squared_error(y_test, svr_pred)))\n",
    "print('\\n')\n",
    "print(metrics.r2_score(y_test,svr_pred))"
   ]
  },
  {
   "cell_type": "code",
   "execution_count": 40,
   "metadata": {},
   "outputs": [],
   "source": [
    "#Inversing the standardized features\n",
    "inv_df=scaler.inverse_transform(standardized_df, copy=None)\n",
    "nhc = pd.DataFrame(inv_df,columns=new_df.columns)"
   ]
  },
  {
   "cell_type": "code",
   "execution_count": 41,
   "metadata": {},
   "outputs": [
    {
     "data": {
      "text/html": [
       "<div>\n",
       "<style scoped>\n",
       "    .dataframe tbody tr th:only-of-type {\n",
       "        vertical-align: middle;\n",
       "    }\n",
       "\n",
       "    .dataframe tbody tr th {\n",
       "        vertical-align: top;\n",
       "    }\n",
       "\n",
       "    .dataframe thead th {\n",
       "        text-align: right;\n",
       "    }\n",
       "</style>\n",
       "<table border=\"1\" class=\"dataframe\">\n",
       "  <thead>\n",
       "    <tr style=\"text-align: right;\">\n",
       "      <th></th>\n",
       "      <th>NUMBER_OF_ROOMS</th>\n",
       "      <th>FLOOR_AREA</th>\n",
       "      <th>HOUSE_TYPE</th>\n",
       "      <th>PRICE_2</th>\n",
       "      <th>LATITUDE</th>\n",
       "      <th>LONGITUDE</th>\n",
       "    </tr>\n",
       "  </thead>\n",
       "  <tbody>\n",
       "    <tr>\n",
       "      <th>0</th>\n",
       "      <td>3.0</td>\n",
       "      <td>85.0</td>\n",
       "      <td>1.0</td>\n",
       "      <td>75225000.0</td>\n",
       "      <td>-2.5154</td>\n",
       "      <td>32.9736</td>\n",
       "    </tr>\n",
       "    <tr>\n",
       "      <th>1</th>\n",
       "      <td>3.0</td>\n",
       "      <td>56.0</td>\n",
       "      <td>1.0</td>\n",
       "      <td>47396210.4</td>\n",
       "      <td>-6.2000</td>\n",
       "      <td>36.4170</td>\n",
       "    </tr>\n",
       "    <tr>\n",
       "      <th>2</th>\n",
       "      <td>3.0</td>\n",
       "      <td>85.0</td>\n",
       "      <td>1.0</td>\n",
       "      <td>60857320.0</td>\n",
       "      <td>-2.7322</td>\n",
       "      <td>36.6955</td>\n",
       "    </tr>\n",
       "    <tr>\n",
       "      <th>3</th>\n",
       "      <td>3.0</td>\n",
       "      <td>85.0</td>\n",
       "      <td>1.0</td>\n",
       "      <td>58823000.0</td>\n",
       "      <td>-1.5000</td>\n",
       "      <td>33.8000</td>\n",
       "    </tr>\n",
       "    <tr>\n",
       "      <th>4</th>\n",
       "      <td>3.0</td>\n",
       "      <td>70.0</td>\n",
       "      <td>1.0</td>\n",
       "      <td>47006244.0</td>\n",
       "      <td>-6.2000</td>\n",
       "      <td>36.4170</td>\n",
       "    </tr>\n",
       "  </tbody>\n",
       "</table>\n",
       "</div>"
      ],
      "text/plain": [
       "   NUMBER_OF_ROOMS  FLOOR_AREA  HOUSE_TYPE     PRICE_2  LATITUDE  LONGITUDE\n",
       "0              3.0        85.0         1.0  75225000.0   -2.5154    32.9736\n",
       "1              3.0        56.0         1.0  47396210.4   -6.2000    36.4170\n",
       "2              3.0        85.0         1.0  60857320.0   -2.7322    36.6955\n",
       "3              3.0        85.0         1.0  58823000.0   -1.5000    33.8000\n",
       "4              3.0        70.0         1.0  47006244.0   -6.2000    36.4170"
      ]
     },
     "execution_count": 41,
     "metadata": {},
     "output_type": "execute_result"
    }
   ],
   "source": [
    "nhc.head()"
   ]
  },
  {
   "cell_type": "code",
   "execution_count": 42,
   "metadata": {},
   "outputs": [],
   "source": [
    "#Assigning the features into X and Y \n",
    "X_column= nhc[['NUMBER_OF_ROOMS', 'FLOOR_AREA', 'HOUSE_TYPE', 'LATITUDE','LONGITUDE']]\n",
    "y_column = nhc['PRICE_2']"
   ]
  },
  {
   "cell_type": "code",
   "execution_count": 43,
   "metadata": {},
   "outputs": [],
   "source": [
    "#Splitting the features into training and test sets\n",
    "from sklearn.model_selection import train_test_split\n",
    "X_train, X_test, y_train, y_test = train_test_split(X_column, y_column, test_size=0.3, random_state=20)"
   ]
  },
  {
   "cell_type": "code",
   "execution_count": 44,
   "metadata": {},
   "outputs": [
    {
     "name": "stdout",
     "output_type": "stream",
     "text": [
      "100810043.66559936\n",
      "\n",
      "\n",
      "0.8133024524093596\n"
     ]
    }
   ],
   "source": [
    "#for random forests\n",
    "from sklearn.ensemble import RandomForestRegressor\n",
    "regressor = RandomForestRegressor(n_estimators=30, random_state=20)\n",
    "regressor.fit(X_train, y_train)\n",
    "rfr_pred = regressor.predict(X_test)\n",
    "print(np.sqrt(metrics.mean_squared_error(y_test, rfr_pred)))\n",
    "print('\\n')\n",
    "print(metrics.r2_score(y_test,rfr_pred))"
   ]
  },
  {
   "cell_type": "code",
   "execution_count": 45,
   "metadata": {},
   "outputs": [
    {
     "data": {
      "text/plain": [
       "66    3.113276e+08\n",
       "51    3.612924e+07\n",
       "12    4.711138e+07\n",
       "Name: PRICE_2, dtype: float64"
      ]
     },
     "execution_count": 45,
     "metadata": {},
     "output_type": "execute_result"
    }
   ],
   "source": [
    "y_test[:3]"
   ]
  },
  {
   "cell_type": "code",
   "execution_count": 46,
   "metadata": {},
   "outputs": [
    {
     "data": {
      "text/plain": [
       "array([3.08028676e+08, 4.31629549e+07, 5.80859984e+07])"
      ]
     },
     "execution_count": 46,
     "metadata": {},
     "output_type": "execute_result"
    }
   ],
   "source": [
    "rfr_pred[:3]"
   ]
  },
  {
   "cell_type": "code",
   "execution_count": 47,
   "metadata": {},
   "outputs": [],
   "source": [
    "#Saving every other model\n",
    "from json5 import dump, load"
   ]
  },
  {
   "cell_type": "code",
   "execution_count": 51,
   "metadata": {},
   "outputs": [],
   "source": [
    "import pickle\n",
    "with open('regressor_pkl', 'wb') as f:\n",
    "    pickle.dump(regressor, f)"
   ]
  },
  {
   "cell_type": "code",
   "execution_count": null,
   "metadata": {},
   "outputs": [],
   "source": [
    "# pred = loaded_regressor.predict(X_test)"
   ]
  },
  {
   "cell_type": "code",
   "execution_count": null,
   "metadata": {},
   "outputs": [
    {
     "data": {
      "text/plain": [
       "array([4.40038213e+07, 4.40038213e+07, 4.62742193e+07, 2.41352745e+08,\n",
       "       5.07474867e+07])"
      ]
     },
     "execution_count": 105,
     "metadata": {},
     "output_type": "execute_result"
    }
   ],
   "source": [
    "# pred[:5]"
   ]
  },
  {
   "cell_type": "code",
   "execution_count": null,
   "metadata": {},
   "outputs": [
    {
     "data": {
      "text/html": [
       "<div>\n",
       "<style scoped>\n",
       "    .dataframe tbody tr th:only-of-type {\n",
       "        vertical-align: middle;\n",
       "    }\n",
       "\n",
       "    .dataframe tbody tr th {\n",
       "        vertical-align: top;\n",
       "    }\n",
       "\n",
       "    .dataframe thead th {\n",
       "        text-align: right;\n",
       "    }\n",
       "</style>\n",
       "<table border=\"1\" class=\"dataframe\">\n",
       "  <thead>\n",
       "    <tr style=\"text-align: right;\">\n",
       "      <th></th>\n",
       "      <th>NUMBER_OF_ROOMS</th>\n",
       "      <th>FLOOR_AREA</th>\n",
       "      <th>HOUSE_TYPE</th>\n",
       "      <th>LATITUDE</th>\n",
       "      <th>LONGITUDE</th>\n",
       "    </tr>\n",
       "  </thead>\n",
       "  <tbody>\n",
       "    <tr>\n",
       "      <th>66</th>\n",
       "      <td>2.0</td>\n",
       "      <td>60.0</td>\n",
       "      <td>1.0</td>\n",
       "      <td>-6.864000</td>\n",
       "      <td>39.388000</td>\n",
       "    </tr>\n",
       "    <tr>\n",
       "      <th>51</th>\n",
       "      <td>2.0</td>\n",
       "      <td>60.0</td>\n",
       "      <td>1.0</td>\n",
       "      <td>-6.792500</td>\n",
       "      <td>39.208700</td>\n",
       "    </tr>\n",
       "    <tr>\n",
       "      <th>12</th>\n",
       "      <td>3.0</td>\n",
       "      <td>70.0</td>\n",
       "      <td>1.0</td>\n",
       "      <td>-6.380387</td>\n",
       "      <td>34.453901</td>\n",
       "    </tr>\n",
       "    <tr>\n",
       "      <th>83</th>\n",
       "      <td>3.0</td>\n",
       "      <td>144.0</td>\n",
       "      <td>1.0</td>\n",
       "      <td>-6.797800</td>\n",
       "      <td>39.262100</td>\n",
       "    </tr>\n",
       "    <tr>\n",
       "      <th>36</th>\n",
       "      <td>3.0</td>\n",
       "      <td>85.0</td>\n",
       "      <td>1.0</td>\n",
       "      <td>-6.864000</td>\n",
       "      <td>39.388000</td>\n",
       "    </tr>\n",
       "    <tr>\n",
       "      <th>44</th>\n",
       "      <td>4.0</td>\n",
       "      <td>244.0</td>\n",
       "      <td>2.0</td>\n",
       "      <td>-6.723100</td>\n",
       "      <td>39.229900</td>\n",
       "    </tr>\n",
       "    <tr>\n",
       "      <th>23</th>\n",
       "      <td>3.0</td>\n",
       "      <td>85.0</td>\n",
       "      <td>1.0</td>\n",
       "      <td>-6.302900</td>\n",
       "      <td>37.444600</td>\n",
       "    </tr>\n",
       "    <tr>\n",
       "      <th>0</th>\n",
       "      <td>2.0</td>\n",
       "      <td>56.0</td>\n",
       "      <td>1.0</td>\n",
       "      <td>-6.302900</td>\n",
       "      <td>37.444600</td>\n",
       "    </tr>\n",
       "    <tr>\n",
       "      <th>77</th>\n",
       "      <td>3.0</td>\n",
       "      <td>85.0</td>\n",
       "      <td>1.0</td>\n",
       "      <td>-10.658900</td>\n",
       "      <td>35.646000</td>\n",
       "    </tr>\n",
       "    <tr>\n",
       "      <th>45</th>\n",
       "      <td>3.0</td>\n",
       "      <td>79.0</td>\n",
       "      <td>2.0</td>\n",
       "      <td>-6.200800</td>\n",
       "      <td>35.836900</td>\n",
       "    </tr>\n",
       "    <tr>\n",
       "      <th>50</th>\n",
       "      <td>2.0</td>\n",
       "      <td>56.0</td>\n",
       "      <td>1.0</td>\n",
       "      <td>-4.210000</td>\n",
       "      <td>35.770000</td>\n",
       "    </tr>\n",
       "    <tr>\n",
       "      <th>37</th>\n",
       "      <td>3.0</td>\n",
       "      <td>115.8</td>\n",
       "      <td>1.0</td>\n",
       "      <td>-6.181100</td>\n",
       "      <td>35.763800</td>\n",
       "    </tr>\n",
       "    <tr>\n",
       "      <th>39</th>\n",
       "      <td>3.0</td>\n",
       "      <td>85.0</td>\n",
       "      <td>1.0</td>\n",
       "      <td>-9.239100</td>\n",
       "      <td>33.379500</td>\n",
       "    </tr>\n",
       "    <tr>\n",
       "      <th>48</th>\n",
       "      <td>3.0</td>\n",
       "      <td>150.0</td>\n",
       "      <td>2.0</td>\n",
       "      <td>-6.723100</td>\n",
       "      <td>39.229900</td>\n",
       "    </tr>\n",
       "    <tr>\n",
       "      <th>2</th>\n",
       "      <td>3.0</td>\n",
       "      <td>85.0</td>\n",
       "      <td>1.0</td>\n",
       "      <td>-5.088800</td>\n",
       "      <td>39.102300</td>\n",
       "    </tr>\n",
       "    <tr>\n",
       "      <th>5</th>\n",
       "      <td>3.0</td>\n",
       "      <td>70.0</td>\n",
       "      <td>1.0</td>\n",
       "      <td>-10.642500</td>\n",
       "      <td>35.631700</td>\n",
       "    </tr>\n",
       "    <tr>\n",
       "      <th>1</th>\n",
       "      <td>3.0</td>\n",
       "      <td>168.0</td>\n",
       "      <td>2.0</td>\n",
       "      <td>-6.796200</td>\n",
       "      <td>39.269300</td>\n",
       "    </tr>\n",
       "    <tr>\n",
       "      <th>21</th>\n",
       "      <td>3.0</td>\n",
       "      <td>85.0</td>\n",
       "      <td>1.0</td>\n",
       "      <td>-10.642500</td>\n",
       "      <td>35.631700</td>\n",
       "    </tr>\n",
       "    <tr>\n",
       "      <th>64</th>\n",
       "      <td>3.0</td>\n",
       "      <td>85.0</td>\n",
       "      <td>1.0</td>\n",
       "      <td>-1.895500</td>\n",
       "      <td>31.537000</td>\n",
       "    </tr>\n",
       "    <tr>\n",
       "      <th>73</th>\n",
       "      <td>3.0</td>\n",
       "      <td>115.0</td>\n",
       "      <td>2.0</td>\n",
       "      <td>-6.200800</td>\n",
       "      <td>35.836900</td>\n",
       "    </tr>\n",
       "    <tr>\n",
       "      <th>27</th>\n",
       "      <td>2.0</td>\n",
       "      <td>56.0</td>\n",
       "      <td>1.0</td>\n",
       "      <td>-9.981900</td>\n",
       "      <td>39.699600</td>\n",
       "    </tr>\n",
       "    <tr>\n",
       "      <th>67</th>\n",
       "      <td>3.0</td>\n",
       "      <td>144.0</td>\n",
       "      <td>1.0</td>\n",
       "      <td>-6.864000</td>\n",
       "      <td>39.388000</td>\n",
       "    </tr>\n",
       "    <tr>\n",
       "      <th>59</th>\n",
       "      <td>3.0</td>\n",
       "      <td>85.0</td>\n",
       "      <td>1.0</td>\n",
       "      <td>-6.797800</td>\n",
       "      <td>39.262100</td>\n",
       "    </tr>\n",
       "    <tr>\n",
       "      <th>31</th>\n",
       "      <td>3.0</td>\n",
       "      <td>168.0</td>\n",
       "      <td>2.0</td>\n",
       "      <td>-6.796200</td>\n",
       "      <td>39.269300</td>\n",
       "    </tr>\n",
       "    <tr>\n",
       "      <th>8</th>\n",
       "      <td>2.0</td>\n",
       "      <td>60.0</td>\n",
       "      <td>1.0</td>\n",
       "      <td>-3.447000</td>\n",
       "      <td>36.674100</td>\n",
       "    </tr>\n",
       "    <tr>\n",
       "      <th>49</th>\n",
       "      <td>3.0</td>\n",
       "      <td>85.0</td>\n",
       "      <td>1.0</td>\n",
       "      <td>-1.500000</td>\n",
       "      <td>33.800000</td>\n",
       "    </tr>\n",
       "  </tbody>\n",
       "</table>\n",
       "</div>"
      ],
      "text/plain": [
       "    NUMBER_OF_ROOMS  FLOOR_AREA  HOUSE_TYPE   LATITUDE  LONGITUDE\n",
       "66              2.0        60.0         1.0  -6.864000  39.388000\n",
       "51              2.0        60.0         1.0  -6.792500  39.208700\n",
       "12              3.0        70.0         1.0  -6.380387  34.453901\n",
       "83              3.0       144.0         1.0  -6.797800  39.262100\n",
       "36              3.0        85.0         1.0  -6.864000  39.388000\n",
       "44              4.0       244.0         2.0  -6.723100  39.229900\n",
       "23              3.0        85.0         1.0  -6.302900  37.444600\n",
       "0               2.0        56.0         1.0  -6.302900  37.444600\n",
       "77              3.0        85.0         1.0 -10.658900  35.646000\n",
       "45              3.0        79.0         2.0  -6.200800  35.836900\n",
       "50              2.0        56.0         1.0  -4.210000  35.770000\n",
       "37              3.0       115.8         1.0  -6.181100  35.763800\n",
       "39              3.0        85.0         1.0  -9.239100  33.379500\n",
       "48              3.0       150.0         2.0  -6.723100  39.229900\n",
       "2               3.0        85.0         1.0  -5.088800  39.102300\n",
       "5               3.0        70.0         1.0 -10.642500  35.631700\n",
       "1               3.0       168.0         2.0  -6.796200  39.269300\n",
       "21              3.0        85.0         1.0 -10.642500  35.631700\n",
       "64              3.0        85.0         1.0  -1.895500  31.537000\n",
       "73              3.0       115.0         2.0  -6.200800  35.836900\n",
       "27              2.0        56.0         1.0  -9.981900  39.699600\n",
       "67              3.0       144.0         1.0  -6.864000  39.388000\n",
       "59              3.0        85.0         1.0  -6.797800  39.262100\n",
       "31              3.0       168.0         2.0  -6.796200  39.269300\n",
       "8               2.0        60.0         1.0  -3.447000  36.674100\n",
       "49              3.0        85.0         1.0  -1.500000  33.800000"
      ]
     },
     "execution_count": 106,
     "metadata": {},
     "output_type": "execute_result"
    }
   ],
   "source": [
    "X_test"
   ]
  },
  {
   "cell_type": "code",
   "execution_count": null,
   "metadata": {},
   "outputs": [],
   "source": []
  }
 ],
 "metadata": {
  "kernelspec": {
   "display_name": "Python 3",
   "language": "python",
   "name": "python3"
  },
  "language_info": {
   "codemirror_mode": {
    "name": "ipython",
    "version": 3
   },
   "file_extension": ".py",
   "mimetype": "text/x-python",
   "name": "python",
   "nbconvert_exporter": "python",
   "pygments_lexer": "ipython3",
   "version": "3.9.7"
  }
 },
 "nbformat": 4,
 "nbformat_minor": 2
}
