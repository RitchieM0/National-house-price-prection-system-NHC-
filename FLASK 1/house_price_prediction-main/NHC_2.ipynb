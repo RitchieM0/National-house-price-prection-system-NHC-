{
 "cells": [
  {
   "cell_type": "code",
   "execution_count": 1,
   "metadata": {},
   "outputs": [],
   "source": [
    "#importing useful libraries\n",
    "import numpy as np\n",
    "import pandas as pd\n",
    "import matplotlib.pyplot as plt\n",
    "import seaborn as sns\n",
    "%matplotlib inline"
   ]
  },
  {
   "cell_type": "code",
   "execution_count": 2,
   "metadata": {},
   "outputs": [],
   "source": [
    "df = pd.read_excel('ALL PRICES - NHC PROJECTS.xlsx',sheet_name=1)"
   ]
  },
  {
   "cell_type": "code",
   "execution_count": 3,
   "metadata": {},
   "outputs": [
    {
     "data": {
      "text/html": [
       "<div>\n",
       "<style scoped>\n",
       "    .dataframe tbody tr th:only-of-type {\n",
       "        vertical-align: middle;\n",
       "    }\n",
       "\n",
       "    .dataframe tbody tr th {\n",
       "        vertical-align: top;\n",
       "    }\n",
       "\n",
       "    .dataframe thead th {\n",
       "        text-align: right;\n",
       "    }\n",
       "</style>\n",
       "<table border=\"1\" class=\"dataframe\">\n",
       "  <thead>\n",
       "    <tr style=\"text-align: right;\">\n",
       "      <th></th>\n",
       "      <th>PROJECT_NAME</th>\n",
       "      <th>NUMBER_OF_ROOMS</th>\n",
       "      <th>FLOOR_AREA</th>\n",
       "      <th>HOUSE_TYPE</th>\n",
       "      <th>PRICE_1</th>\n",
       "      <th>PRICE_2</th>\n",
       "      <th>LATITUDE</th>\n",
       "      <th>LONGITUDE</th>\n",
       "    </tr>\n",
       "  </thead>\n",
       "  <tbody>\n",
       "    <tr>\n",
       "      <th>0</th>\n",
       "      <td>KONGWA</td>\n",
       "      <td>2</td>\n",
       "      <td>56.0</td>\n",
       "      <td>normal</td>\n",
       "      <td>35492580.0</td>\n",
       "      <td>41881244.4</td>\n",
       "      <td>-6.2000</td>\n",
       "      <td>36.4170</td>\n",
       "    </tr>\n",
       "    <tr>\n",
       "      <th>1</th>\n",
       "      <td>KONGWA</td>\n",
       "      <td>3</td>\n",
       "      <td>70.0</td>\n",
       "      <td>normal</td>\n",
       "      <td>39835800.0</td>\n",
       "      <td>47006244.0</td>\n",
       "      <td>-6.2000</td>\n",
       "      <td>36.4170</td>\n",
       "    </tr>\n",
       "    <tr>\n",
       "      <th>2</th>\n",
       "      <td>KONGWA</td>\n",
       "      <td>3</td>\n",
       "      <td>56.0</td>\n",
       "      <td>normal</td>\n",
       "      <td>40166280.0</td>\n",
       "      <td>47396210.4</td>\n",
       "      <td>-6.2000</td>\n",
       "      <td>36.4170</td>\n",
       "    </tr>\n",
       "    <tr>\n",
       "      <th>3</th>\n",
       "      <td>MKUZO</td>\n",
       "      <td>2</td>\n",
       "      <td>56.0</td>\n",
       "      <td>normal</td>\n",
       "      <td>36310680.0</td>\n",
       "      <td>42846602.4</td>\n",
       "      <td>-10.6425</td>\n",
       "      <td>35.6317</td>\n",
       "    </tr>\n",
       "    <tr>\n",
       "      <th>4</th>\n",
       "      <td>MKUZO</td>\n",
       "      <td>3</td>\n",
       "      <td>70.0</td>\n",
       "      <td>normal</td>\n",
       "      <td>41727960.0</td>\n",
       "      <td>49238992.8</td>\n",
       "      <td>-10.6425</td>\n",
       "      <td>35.6317</td>\n",
       "    </tr>\n",
       "  </tbody>\n",
       "</table>\n",
       "</div>"
      ],
      "text/plain": [
       "  PROJECT_NAME  NUMBER_OF_ROOMS  FLOOR_AREA HOUSE_TYPE     PRICE_1  \\\n",
       "0       KONGWA                2        56.0     normal  35492580.0   \n",
       "1       KONGWA                3        70.0     normal  39835800.0   \n",
       "2       KONGWA                3        56.0     normal  40166280.0   \n",
       "3        MKUZO                2        56.0     normal  36310680.0   \n",
       "4        MKUZO                3        70.0     normal  41727960.0   \n",
       "\n",
       "      PRICE_2  LATITUDE  LONGITUDE  \n",
       "0  41881244.4   -6.2000    36.4170  \n",
       "1  47006244.0   -6.2000    36.4170  \n",
       "2  47396210.4   -6.2000    36.4170  \n",
       "3  42846602.4  -10.6425    35.6317  \n",
       "4  49238992.8  -10.6425    35.6317  "
      ]
     },
     "execution_count": 3,
     "metadata": {},
     "output_type": "execute_result"
    }
   ],
   "source": [
    "df.head()"
   ]
  },
  {
   "cell_type": "code",
   "execution_count": 4,
   "metadata": {},
   "outputs": [],
   "source": [
    "#reshuffling the data\n",
    "df_shuf=df.sample(frac=1).reset_index(drop=True)"
   ]
  },
  {
   "cell_type": "code",
   "execution_count": 5,
   "metadata": {},
   "outputs": [
    {
     "data": {
      "text/html": [
       "<div>\n",
       "<style scoped>\n",
       "    .dataframe tbody tr th:only-of-type {\n",
       "        vertical-align: middle;\n",
       "    }\n",
       "\n",
       "    .dataframe tbody tr th {\n",
       "        vertical-align: top;\n",
       "    }\n",
       "\n",
       "    .dataframe thead th {\n",
       "        text-align: right;\n",
       "    }\n",
       "</style>\n",
       "<table border=\"1\" class=\"dataframe\">\n",
       "  <thead>\n",
       "    <tr style=\"text-align: right;\">\n",
       "      <th></th>\n",
       "      <th>PROJECT_NAME</th>\n",
       "      <th>NUMBER_OF_ROOMS</th>\n",
       "      <th>FLOOR_AREA</th>\n",
       "      <th>HOUSE_TYPE</th>\n",
       "      <th>PRICE_1</th>\n",
       "      <th>PRICE_2</th>\n",
       "      <th>LATITUDE</th>\n",
       "      <th>LONGITUDE</th>\n",
       "    </tr>\n",
       "  </thead>\n",
       "  <tbody>\n",
       "    <tr>\n",
       "      <th>0</th>\n",
       "      <td>Morocco Square - Dar es Salaam</td>\n",
       "      <td>3</td>\n",
       "      <td>154.0</td>\n",
       "      <td>Apartment</td>\n",
       "      <td>5.400000e+08</td>\n",
       "      <td>637200000.0</td>\n",
       "      <td>-6.776012</td>\n",
       "      <td>39.178326</td>\n",
       "    </tr>\n",
       "    <tr>\n",
       "      <th>1</th>\n",
       "      <td>Seven Eleven - Dar es Salaam</td>\n",
       "      <td>2</td>\n",
       "      <td>140.0</td>\n",
       "      <td>Apartment</td>\n",
       "      <td>3.465000e+08</td>\n",
       "      <td>408870000.0</td>\n",
       "      <td>-6.723100</td>\n",
       "      <td>39.229900</td>\n",
       "    </tr>\n",
       "    <tr>\n",
       "      <th>2</th>\n",
       "      <td>Momba - Mbeya</td>\n",
       "      <td>3</td>\n",
       "      <td>151.0</td>\n",
       "      <td>normal</td>\n",
       "      <td>1.494900e+08</td>\n",
       "      <td>176398200.0</td>\n",
       "      <td>-8.148100</td>\n",
       "      <td>33.259400</td>\n",
       "    </tr>\n",
       "    <tr>\n",
       "      <th>3</th>\n",
       "      <td>Morocco Square - Dar es Salaam</td>\n",
       "      <td>3</td>\n",
       "      <td>154.0</td>\n",
       "      <td>Apartment</td>\n",
       "      <td>5.317875e+08</td>\n",
       "      <td>627509250.0</td>\n",
       "      <td>-6.776012</td>\n",
       "      <td>39.178326</td>\n",
       "    </tr>\n",
       "    <tr>\n",
       "      <th>4</th>\n",
       "      <td>MKUZO</td>\n",
       "      <td>3</td>\n",
       "      <td>85.0</td>\n",
       "      <td>normal</td>\n",
       "      <td>4.439124e+07</td>\n",
       "      <td>52381663.0</td>\n",
       "      <td>-10.642500</td>\n",
       "      <td>35.631700</td>\n",
       "    </tr>\n",
       "  </tbody>\n",
       "</table>\n",
       "</div>"
      ],
      "text/plain": [
       "                     PROJECT_NAME  NUMBER_OF_ROOMS  FLOOR_AREA HOUSE_TYPE  \\\n",
       "0  Morocco Square - Dar es Salaam                3       154.0  Apartment   \n",
       "1    Seven Eleven - Dar es Salaam                2       140.0  Apartment   \n",
       "2                   Momba - Mbeya                3       151.0     normal   \n",
       "3  Morocco Square - Dar es Salaam                3       154.0  Apartment   \n",
       "4                           MKUZO                3        85.0     normal   \n",
       "\n",
       "        PRICE_1      PRICE_2   LATITUDE  LONGITUDE  \n",
       "0  5.400000e+08  637200000.0  -6.776012  39.178326  \n",
       "1  3.465000e+08  408870000.0  -6.723100  39.229900  \n",
       "2  1.494900e+08  176398200.0  -8.148100  33.259400  \n",
       "3  5.317875e+08  627509250.0  -6.776012  39.178326  \n",
       "4  4.439124e+07   52381663.0 -10.642500  35.631700  "
      ]
     },
     "execution_count": 5,
     "metadata": {},
     "output_type": "execute_result"
    }
   ],
   "source": [
    "df_shuf.head()"
   ]
  },
  {
   "cell_type": "code",
   "execution_count": 6,
   "metadata": {},
   "outputs": [
    {
     "data": {
      "text/plain": [
       "<AxesSubplot:>"
      ]
     },
     "execution_count": 6,
     "metadata": {},
     "output_type": "execute_result"
    },
    {
     "data": {
      "image/png": "[encoded data removed]",
      "text/plain": [
       "<Figure size 432x288 with 1 Axes>"
      ]
     },
     "metadata": {
      "needs_background": "light"
     },
     "output_type": "display_data"
    }
   ],
   "source": [
    "#visualizing the missing values present in the dataframe\n",
    "sns.heatmap(df_shuf.isnull(), yticklabels=False, cbar=False, cmap='viridis')"
   ]
  },
  {
   "cell_type": "code",
   "execution_count": 7,
   "metadata": {},
   "outputs": [],
   "source": [
    "#conversion of categorical data to numerical values via direct mapping\n",
    "\n",
    "scale_mapper= {'normal':1, 'Apartment':2}\n",
    "df_shuf['HOUSE_TYPE'].replace(scale_mapper, inplace=True)"
   ]
  },
  {
   "cell_type": "code",
   "execution_count": 8,
   "metadata": {},
   "outputs": [
    {
     "data": {
      "text/plain": [
       "1    60\n",
       "2    25\n",
       "Name: HOUSE_TYPE, dtype: int64"
      ]
     },
     "execution_count": 8,
     "metadata": {},
     "output_type": "execute_result"
    }
   ],
   "source": [
    "df_shuf['HOUSE_TYPE'].value_counts()"
   ]
  },
  {
   "cell_type": "code",
   "execution_count": 9,
   "metadata": {},
   "outputs": [
    {
     "data": {
      "text/html": [
       "<div>\n",
       "<style scoped>\n",
       "    .dataframe tbody tr th:only-of-type {\n",
       "        vertical-align: middle;\n",
       "    }\n",
       "\n",
       "    .dataframe tbody tr th {\n",
       "        vertical-align: top;\n",
       "    }\n",
       "\n",
       "    .dataframe thead th {\n",
       "        text-align: right;\n",
       "    }\n",
       "</style>\n",
       "<table border=\"1\" class=\"dataframe\">\n",
       "  <thead>\n",
       "    <tr style=\"text-align: right;\">\n",
       "      <th></th>\n",
       "      <th>PROJECT_NAME</th>\n",
       "      <th>NUMBER_OF_ROOMS</th>\n",
       "      <th>FLOOR_AREA</th>\n",
       "      <th>HOUSE_TYPE</th>\n",
       "      <th>PRICE_1</th>\n",
       "      <th>PRICE_2</th>\n",
       "      <th>LATITUDE</th>\n",
       "      <th>LONGITUDE</th>\n",
       "    </tr>\n",
       "  </thead>\n",
       "  <tbody>\n",
       "    <tr>\n",
       "      <th>0</th>\n",
       "      <td>Morocco Square - Dar es Salaam</td>\n",
       "      <td>3</td>\n",
       "      <td>154.0</td>\n",
       "      <td>2</td>\n",
       "      <td>5.400000e+08</td>\n",
       "      <td>637200000.0</td>\n",
       "      <td>-6.776012</td>\n",
       "      <td>39.178326</td>\n",
       "    </tr>\n",
       "    <tr>\n",
       "      <th>1</th>\n",
       "      <td>Seven Eleven - Dar es Salaam</td>\n",
       "      <td>2</td>\n",
       "      <td>140.0</td>\n",
       "      <td>2</td>\n",
       "      <td>3.465000e+08</td>\n",
       "      <td>408870000.0</td>\n",
       "      <td>-6.723100</td>\n",
       "      <td>39.229900</td>\n",
       "    </tr>\n",
       "    <tr>\n",
       "      <th>2</th>\n",
       "      <td>Momba - Mbeya</td>\n",
       "      <td>3</td>\n",
       "      <td>151.0</td>\n",
       "      <td>1</td>\n",
       "      <td>1.494900e+08</td>\n",
       "      <td>176398200.0</td>\n",
       "      <td>-8.148100</td>\n",
       "      <td>33.259400</td>\n",
       "    </tr>\n",
       "    <tr>\n",
       "      <th>3</th>\n",
       "      <td>Morocco Square - Dar es Salaam</td>\n",
       "      <td>3</td>\n",
       "      <td>154.0</td>\n",
       "      <td>2</td>\n",
       "      <td>5.317875e+08</td>\n",
       "      <td>627509250.0</td>\n",
       "      <td>-6.776012</td>\n",
       "      <td>39.178326</td>\n",
       "    </tr>\n",
       "    <tr>\n",
       "      <th>4</th>\n",
       "      <td>MKUZO</td>\n",
       "      <td>3</td>\n",
       "      <td>85.0</td>\n",
       "      <td>1</td>\n",
       "      <td>4.439124e+07</td>\n",
       "      <td>52381663.0</td>\n",
       "      <td>-10.642500</td>\n",
       "      <td>35.631700</td>\n",
       "    </tr>\n",
       "  </tbody>\n",
       "</table>\n",
       "</div>"
      ],
      "text/plain": [
       "                     PROJECT_NAME  NUMBER_OF_ROOMS  FLOOR_AREA  HOUSE_TYPE  \\\n",
       "0  Morocco Square - Dar es Salaam                3       154.0           2   \n",
       "1    Seven Eleven - Dar es Salaam                2       140.0           2   \n",
       "2                   Momba - Mbeya                3       151.0           1   \n",
       "3  Morocco Square - Dar es Salaam                3       154.0           2   \n",
       "4                           MKUZO                3        85.0           1   \n",
       "\n",
       "        PRICE_1      PRICE_2   LATITUDE  LONGITUDE  \n",
       "0  5.400000e+08  637200000.0  -6.776012  39.178326  \n",
       "1  3.465000e+08  408870000.0  -6.723100  39.229900  \n",
       "2  1.494900e+08  176398200.0  -8.148100  33.259400  \n",
       "3  5.317875e+08  627509250.0  -6.776012  39.178326  \n",
       "4  4.439124e+07   52381663.0 -10.642500  35.631700  "
      ]
     },
     "execution_count": 9,
     "metadata": {},
     "output_type": "execute_result"
    }
   ],
   "source": [
    "df_shuf.head()"
   ]
  },
  {
   "cell_type": "code",
   "execution_count": 10,
   "metadata": {},
   "outputs": [],
   "source": [
    "#dropping string columns and additional price column\n",
    "new_df = df_shuf.drop(columns=['PROJECT_NAME','PRICE_1'], axis=1)"
   ]
  },
  {
   "cell_type": "code",
   "execution_count": 11,
   "metadata": {},
   "outputs": [
    {
     "data": {
      "text/html": [
       "<div>\n",
       "<style scoped>\n",
       "    .dataframe tbody tr th:only-of-type {\n",
       "        vertical-align: middle;\n",
       "    }\n",
       "\n",
       "    .dataframe tbody tr th {\n",
       "        vertical-align: top;\n",
       "    }\n",
       "\n",
       "    .dataframe thead th {\n",
       "        text-align: right;\n",
       "    }\n",
       "</style>\n",
       "<table border=\"1\" class=\"dataframe\">\n",
       "  <thead>\n",
       "    <tr style=\"text-align: right;\">\n",
       "      <th></th>\n",
       "      <th>NUMBER_OF_ROOMS</th>\n",
       "      <th>FLOOR_AREA</th>\n",
       "      <th>HOUSE_TYPE</th>\n",
       "      <th>PRICE_2</th>\n",
       "      <th>LATITUDE</th>\n",
       "      <th>LONGITUDE</th>\n",
       "    </tr>\n",
       "  </thead>\n",
       "  <tbody>\n",
       "    <tr>\n",
       "      <th>0</th>\n",
       "      <td>3</td>\n",
       "      <td>154.0</td>\n",
       "      <td>2</td>\n",
       "      <td>637200000.0</td>\n",
       "      <td>-6.776012</td>\n",
       "      <td>39.178326</td>\n",
       "    </tr>\n",
       "    <tr>\n",
       "      <th>1</th>\n",
       "      <td>2</td>\n",
       "      <td>140.0</td>\n",
       "      <td>2</td>\n",
       "      <td>408870000.0</td>\n",
       "      <td>-6.723100</td>\n",
       "      <td>39.229900</td>\n",
       "    </tr>\n",
       "  </tbody>\n",
       "</table>\n",
       "</div>"
      ],
      "text/plain": [
       "   NUMBER_OF_ROOMS  FLOOR_AREA  HOUSE_TYPE      PRICE_2  LATITUDE  LONGITUDE\n",
       "0                3       154.0           2  637200000.0 -6.776012  39.178326\n",
       "1                2       140.0           2  408870000.0 -6.723100  39.229900"
      ]
     },
     "execution_count": 11,
     "metadata": {},
     "output_type": "execute_result"
    }
   ],
   "source": [
    "new_df.head(2)"
   ]
  },
  {
   "cell_type": "code",
   "execution_count": 12,
   "metadata": {},
   "outputs": [],
   "source": [
    "#filling the missing numerical values using the NN imputation method\n",
    "from sklearn.impute import KNNImputer\n",
    "imputer = KNNImputer(n_neighbors=20)"
   ]
  },
  {
   "cell_type": "code",
   "execution_count": 13,
   "metadata": {},
   "outputs": [],
   "source": [
    "imput_df = imputer.fit_transform(new_df.values)\n",
    "house_df = pd.DataFrame(imput_df, columns=new_df.columns)"
   ]
  },
  {
   "cell_type": "code",
   "execution_count": 14,
   "metadata": {},
   "outputs": [
    {
     "data": {
      "text/plain": [
       "<AxesSubplot:>"
      ]
     },
     "execution_count": 14,
     "metadata": {},
     "output_type": "execute_result"
    },
    {
     "data": {
      "image/png": "[encoded data removed]",
      "text/plain": [
       "<Figure size 432x288 with 1 Axes>"
      ]
     },
     "metadata": {
      "needs_background": "light"
     },
     "output_type": "display_data"
    }
   ],
   "source": [
    "#visualizing the missing values present in the dataframe\n",
    "sns.heatmap(house_df.isnull(), yticklabels=False, cbar=False, cmap='viridis')"
   ]
  },
  {
   "cell_type": "code",
   "execution_count": 15,
   "metadata": {},
   "outputs": [],
   "source": [
    "#Standardizing the features using standard scaler for machine learning algorithms to understand\n",
    "from sklearn import preprocessing\n",
    "scaler = preprocessing.StandardScaler()\n",
    "standardized_df = scaler.fit_transform(house_df)"
   ]
  },
  {
   "cell_type": "code",
   "execution_count": 16,
   "metadata": {},
   "outputs": [],
   "source": [
    "#creating dataframe conducive for the ML algorithms\n",
    "best_df = pd.DataFrame(standardized_df, columns=new_df.columns)"
   ]
  },
  {
   "cell_type": "code",
   "execution_count": 17,
   "metadata": {},
   "outputs": [
    {
     "data": {
      "text/html": [
       "<div>\n",
       "<style scoped>\n",
       "    .dataframe tbody tr th:only-of-type {\n",
       "        vertical-align: middle;\n",
       "    }\n",
       "\n",
       "    .dataframe tbody tr th {\n",
       "        vertical-align: top;\n",
       "    }\n",
       "\n",
       "    .dataframe thead th {\n",
       "        text-align: right;\n",
       "    }\n",
       "</style>\n",
       "<table border=\"1\" class=\"dataframe\">\n",
       "  <thead>\n",
       "    <tr style=\"text-align: right;\">\n",
       "      <th></th>\n",
       "      <th>NUMBER_OF_ROOMS</th>\n",
       "      <th>FLOOR_AREA</th>\n",
       "      <th>HOUSE_TYPE</th>\n",
       "      <th>PRICE_2</th>\n",
       "      <th>LATITUDE</th>\n",
       "      <th>LONGITUDE</th>\n",
       "    </tr>\n",
       "  </thead>\n",
       "  <tbody>\n",
       "    <tr>\n",
       "      <th>0</th>\n",
       "      <td>0.245722</td>\n",
       "      <td>0.971937</td>\n",
       "      <td>1.549193</td>\n",
       "      <td>2.250620</td>\n",
       "      <td>-0.040594</td>\n",
       "      <td>0.838362</td>\n",
       "    </tr>\n",
       "    <tr>\n",
       "      <th>1</th>\n",
       "      <td>-1.653038</td>\n",
       "      <td>0.675817</td>\n",
       "      <td>1.549193</td>\n",
       "      <td>1.132591</td>\n",
       "      <td>-0.015910</td>\n",
       "      <td>0.856750</td>\n",
       "    </tr>\n",
       "    <tr>\n",
       "      <th>2</th>\n",
       "      <td>0.245722</td>\n",
       "      <td>0.908483</td>\n",
       "      <td>-0.645497</td>\n",
       "      <td>-0.005719</td>\n",
       "      <td>-0.680687</td>\n",
       "      <td>-1.271925</td>\n",
       "    </tr>\n",
       "    <tr>\n",
       "      <th>3</th>\n",
       "      <td>0.245722</td>\n",
       "      <td>0.971937</td>\n",
       "      <td>1.549193</td>\n",
       "      <td>2.203169</td>\n",
       "      <td>-0.040594</td>\n",
       "      <td>0.838362</td>\n",
       "    </tr>\n",
       "    <tr>\n",
       "      <th>4</th>\n",
       "      <td>0.245722</td>\n",
       "      <td>-0.487510</td>\n",
       "      <td>-0.645497</td>\n",
       "      <td>-0.612973</td>\n",
       "      <td>-1.844350</td>\n",
       "      <td>-0.426124</td>\n",
       "    </tr>\n",
       "  </tbody>\n",
       "</table>\n",
       "</div>"
      ],
      "text/plain": [
       "   NUMBER_OF_ROOMS  FLOOR_AREA  HOUSE_TYPE   PRICE_2  LATITUDE  LONGITUDE\n",
       "0         0.245722    0.971937    1.549193  2.250620 -0.040594   0.838362\n",
       "1        -1.653038    0.675817    1.549193  1.132591 -0.015910   0.856750\n",
       "2         0.245722    0.908483   -0.645497 -0.005719 -0.680687  -1.271925\n",
       "3         0.245722    0.971937    1.549193  2.203169 -0.040594   0.838362\n",
       "4         0.245722   -0.487510   -0.645497 -0.612973 -1.844350  -0.426124"
      ]
     },
     "execution_count": 17,
     "metadata": {},
     "output_type": "execute_result"
    }
   ],
   "source": [
    "best_df.head()"
   ]
  },
  {
   "cell_type": "code",
   "execution_count": 18,
   "metadata": {},
   "outputs": [
    {
     "data": {
      "text/plain": [
       "PRICE_2            1.000000\n",
       "FLOOR_AREA         0.864313\n",
       "HOUSE_TYPE         0.746561\n",
       "NUMBER_OF_ROOMS    0.533343\n",
       "LONGITUDE          0.452649\n",
       "LATITUDE          -0.011895\n",
       "Name: PRICE_2, dtype: float64"
      ]
     },
     "execution_count": 18,
     "metadata": {},
     "output_type": "execute_result"
    }
   ],
   "source": [
    "#checking correlation of each feature in relation to the price\n",
    "corr_matrix = best_df.corr()\n",
    "corr_matrix['PRICE_2'].sort_values(ascending=False)"
   ]
  },
  {
   "cell_type": "code",
   "execution_count": 19,
   "metadata": {},
   "outputs": [
    {
     "data": {
      "text/plain": [
       "<AxesSubplot:xlabel='FLOOR_AREA', ylabel='PRICE_2'>"
      ]
     },
     "execution_count": 19,
     "metadata": {},
     "output_type": "execute_result"
    },
    {
     "data": {
      "text/plain": [
       "<Figure size 1080x576 with 0 Axes>"
      ]
     },
     "metadata": {},
     "output_type": "display_data"
    },
    {
     "data": {
      "image/png": "[encoded data removed]",
      "text/plain": [
       "<Figure size 432x288 with 1 Axes>"
      ]
     },
     "metadata": {
      "needs_background": "light"
     },
     "output_type": "display_data"
    }
   ],
   "source": [
    "#plotting the most correlated feature against the price\n",
    "plt.figure(figsize=(15,8))\n",
    "house_df.plot(kind='scatter', x='FLOOR_AREA', y='PRICE_2', alpha=1)"
   ]
  },
  {
   "cell_type": "code",
   "execution_count": 20,
   "metadata": {},
   "outputs": [
    {
     "name": "stderr",
     "output_type": "stream",
     "text": [
      "/home/kb/anaconda3/lib/python3.9/site-packages/seaborn/distributions.py:2619: FutureWarning: `distplot` is a deprecated function and will be removed in a future version. Please adapt your code to use either `displot` (a figure-level function with similar flexibility) or `histplot` (an axes-level function for histograms).\n",
      "  warnings.warn(msg, FutureWarning)\n"
     ]
    },
    {
     "data": {
      "text/plain": [
       "<Figure size 864x576 with 0 Axes>"
      ]
     },
     "execution_count": 20,
     "metadata": {},
     "output_type": "execute_result"
    },
    {
     "data": {
      "image/png": "[encoded data removed]",
      "text/plain": [
       "<Figure size 432x288 with 1 Axes>"
      ]
     },
     "metadata": {
      "needs_background": "light"
     },
     "output_type": "display_data"
    },
    {
     "data": {
      "text/plain": [
       "<Figure size 864x576 with 0 Axes>"
      ]
     },
     "metadata": {},
     "output_type": "display_data"
    }
   ],
   "source": [
    "#plotting the price distribution\n",
    "sns.distplot(best_df.PRICE_2)\n",
    "plt.figure(figsize=(12,8))"
   ]
  },
  {
   "cell_type": "code",
   "execution_count": 21,
   "metadata": {},
   "outputs": [
    {
     "data": {
      "image/png": "[encoded data removed]",
      "text/plain": [
       "<Figure size 864x720 with 6 Axes>"
      ]
     },
     "metadata": {
      "needs_background": "light"
     },
     "output_type": "display_data"
    }
   ],
   "source": [
    "df.hist(figsize=(12,10))\n",
    "plt.show()"
   ]
  },
  {
   "cell_type": "code",
   "execution_count": 22,
   "metadata": {},
   "outputs": [
    {
     "data": {
      "text/html": [
       "<div>\n",
       "<style scoped>\n",
       "    .dataframe tbody tr th:only-of-type {\n",
       "        vertical-align: middle;\n",
       "    }\n",
       "\n",
       "    .dataframe tbody tr th {\n",
       "        vertical-align: top;\n",
       "    }\n",
       "\n",
       "    .dataframe thead th {\n",
       "        text-align: right;\n",
       "    }\n",
       "</style>\n",
       "<table border=\"1\" class=\"dataframe\">\n",
       "  <thead>\n",
       "    <tr style=\"text-align: right;\">\n",
       "      <th></th>\n",
       "      <th>A</th>\n",
       "      <th>B</th>\n",
       "      <th>C</th>\n",
       "    </tr>\n",
       "  </thead>\n",
       "  <tbody>\n",
       "    <tr>\n",
       "      <th>0</th>\n",
       "      <td>0.036270</td>\n",
       "      <td>0.436778</td>\n",
       "      <td>0.541297</td>\n",
       "    </tr>\n",
       "    <tr>\n",
       "      <th>1</th>\n",
       "      <td>0.348569</td>\n",
       "      <td>0.326047</td>\n",
       "      <td>0.635616</td>\n",
       "    </tr>\n",
       "    <tr>\n",
       "      <th>2</th>\n",
       "      <td>0.537312</td>\n",
       "      <td>0.260884</td>\n",
       "      <td>0.454777</td>\n",
       "    </tr>\n",
       "    <tr>\n",
       "      <th>3</th>\n",
       "      <td>0.211519</td>\n",
       "      <td>0.434759</td>\n",
       "      <td>0.061797</td>\n",
       "    </tr>\n",
       "    <tr>\n",
       "      <th>4</th>\n",
       "      <td>0.328303</td>\n",
       "      <td>0.900737</td>\n",
       "      <td>0.747830</td>\n",
       "    </tr>\n",
       "  </tbody>\n",
       "</table>\n",
       "</div>"
      ],
      "text/plain": [
       "          A         B         C\n",
       "0  0.036270  0.436778  0.541297\n",
       "1  0.348569  0.326047  0.635616\n",
       "2  0.537312  0.260884  0.454777\n",
       "3  0.211519  0.434759  0.061797\n",
       "4  0.328303  0.900737  0.747830"
      ]
     },
     "execution_count": 22,
     "metadata": {},
     "output_type": "execute_result"
    }
   ],
   "source": [
    "df = pd.DataFrame(np.random.rand(50, 3), columns=['A', 'B', 'C'])\n",
    "df.head()"
   ]
  },
  {
   "cell_type": "code",
   "execution_count": 23,
   "metadata": {},
   "outputs": [
    {
     "data": {
      "image/png": "[encoded data removed]",
      "text/plain": [
       "<Figure size 432x288 with 1 Axes>"
      ]
     },
     "metadata": {
      "needs_background": "light"
     },
     "output_type": "display_data"
    }
   ],
   "source": [
    "df.plot.box(title='Boxplot of price');\n"
   ]
  },
  {
   "cell_type": "code",
   "execution_count": 24,
   "metadata": {},
   "outputs": [
    {
     "data": {
      "text/plain": [
       "<AxesSubplot:>"
      ]
     },
     "execution_count": 24,
     "metadata": {},
     "output_type": "execute_result"
    },
    {
     "data": {
      "image/png": "[encoded data removed]",
      "text/plain": [
       "<Figure size 432x288 with 1 Axes>"
      ]
     },
     "metadata": {
      "needs_background": "light"
     },
     "output_type": "display_data"
    }
   ],
   "source": [
    "best_df['PRICE_2'].hist(bins=15)"
   ]
  },
  {
   "cell_type": "code",
   "execution_count": 25,
   "metadata": {},
   "outputs": [
    {
     "data": {
      "text/plain": [
       "<AxesSubplot:>"
      ]
     },
     "execution_count": 25,
     "metadata": {},
     "output_type": "execute_result"
    },
    {
     "data": {
      "image/png": "[encoded data removed]",
      "text/plain": [
       "<Figure size 432x288 with 2 Axes>"
      ]
     },
     "metadata": {
      "needs_background": "light"
     },
     "output_type": "display_data"
    }
   ],
   "source": [
    "#heat map showing the correlation of features with respect to the price\n",
    "sns.heatmap(best_df.corr(), annot=True)"
   ]
  },
  {
   "cell_type": "code",
   "execution_count": 26,
   "metadata": {},
   "outputs": [],
   "source": [
    "#Assigning the features into X and Y \n",
    "X = best_df[['NUMBER_OF_ROOMS', 'FLOOR_AREA', 'HOUSE_TYPE', 'LATITUDE','LONGITUDE']]\n",
    "y = best_df['PRICE_2']"
   ]
  },
  {
   "cell_type": "code",
   "execution_count": 27,
   "metadata": {},
   "outputs": [],
   "source": [
    "#Splitting the features into training and test sets using scikit-learn library\n",
    "from sklearn.model_selection import train_test_split\n",
    "X_train, X_test, y_train, y_test = train_test_split(X, y, test_size=0.3, random_state=20)"
   ]
  },
  {
   "cell_type": "code",
   "execution_count": 28,
   "metadata": {},
   "outputs": [],
   "source": [
    "#importing evaluation metrics of linear regression models\n",
    "from sklearn import metrics"
   ]
  },
  {
   "cell_type": "code",
   "execution_count": 29,
   "metadata": {},
   "outputs": [],
   "source": [
    "#Training using the linear regression Model\n",
    "from sklearn.linear_model import LinearRegression\n",
    "linear_regression=LinearRegression()"
   ]
  },
  {
   "cell_type": "code",
   "execution_count": 30,
   "metadata": {},
   "outputs": [
    {
     "data": {
      "text/plain": [
       "LinearRegression()"
      ]
     },
     "execution_count": 30,
     "metadata": {},
     "output_type": "execute_result"
    }
   ],
   "source": [
    "linear_regression.fit(X_train,y_train)"
   ]
  },
  {
   "cell_type": "code",
   "execution_count": 31,
   "metadata": {},
   "outputs": [],
   "source": [
    "lr_pred = linear_regression.predict(X_test)"
   ]
  },
  {
   "cell_type": "code",
   "execution_count": 32,
   "metadata": {},
   "outputs": [
    {
     "name": "stdout",
     "output_type": "stream",
     "text": [
      "0.5561978825302116\n",
      "\n",
      "\n",
      "0.6404381269062689\n"
     ]
    }
   ],
   "source": [
    "print(np.sqrt(metrics.mean_squared_error(y_test, lr_pred))) #RMSE\n",
    "print('\\n')\n",
    "print(metrics.r2_score(y_test,lr_pred)) #R2"
   ]
  },
  {
   "cell_type": "code",
   "execution_count": 33,
   "metadata": {},
   "outputs": [],
   "source": [
    "#checking other model performance\n",
    "from sklearn.linear_model import Lasso, ElasticNet, LogisticRegression, Ridge"
   ]
  },
  {
   "cell_type": "code",
   "execution_count": 34,
   "metadata": {},
   "outputs": [
    {
     "data": {
      "text/plain": [
       "Lasso()"
      ]
     },
     "execution_count": 34,
     "metadata": {},
     "output_type": "execute_result"
    }
   ],
   "source": [
    "#Lasso regression\n",
    "lasso_regres = Lasso()\n",
    "lasso_regres.fit(X_train,y_train)"
   ]
  },
  {
   "cell_type": "code",
   "execution_count": 35,
   "metadata": {},
   "outputs": [],
   "source": [
    "lasso_pred = lasso_regres.predict(X_test)"
   ]
  },
  {
   "cell_type": "code",
   "execution_count": 36,
   "metadata": {},
   "outputs": [
    {
     "name": "stdout",
     "output_type": "stream",
     "text": [
      "0.9400737595421733\n",
      "\n",
      "\n",
      "-0.027161735666002107\n"
     ]
    }
   ],
   "source": [
    "print(np.sqrt(metrics.mean_squared_error(y_test, lasso_pred)))\n",
    "print('\\n')\n",
    "print(metrics.r2_score(y_test,lasso_pred))"
   ]
  },
  {
   "cell_type": "code",
   "execution_count": 37,
   "metadata": {},
   "outputs": [
    {
     "name": "stdout",
     "output_type": "stream",
     "text": [
      "0.7384687628869814\n",
      "\n",
      "\n",
      "0.36616060153996033\n"
     ]
    }
   ],
   "source": [
    "#ElasticNetRegression\n",
    "elastic = ElasticNet()\n",
    "elastic.fit(X_train,y_train)\n",
    "elastic_pred = elastic.predict(X_test)\n",
    "print(np.sqrt(metrics.mean_squared_error(y_test, elastic_pred)))\n",
    "print('\\n')\n",
    "print(metrics.r2_score(y_test,elastic_pred))"
   ]
  },
  {
   "cell_type": "code",
   "execution_count": 38,
   "metadata": {},
   "outputs": [
    {
     "name": "stdout",
     "output_type": "stream",
     "text": [
      "0.5581917399703078\n",
      "\n",
      "\n",
      "0.6378555923926195\n"
     ]
    }
   ],
   "source": [
    "# Ridge regression\n",
    "ridge = Ridge()\n",
    "ridge.fit(X_train,y_train)\n",
    "ridge_pred = ridge.predict(X_test)\n",
    "print(np.sqrt(metrics.mean_squared_error(y_test, ridge_pred)))\n",
    "print('\\n')\n",
    "print(metrics.r2_score(y_test,ridge_pred))"
   ]
  },
  {
   "cell_type": "code",
   "execution_count": 39,
   "metadata": {},
   "outputs": [
    {
     "name": "stdout",
     "output_type": "stream",
     "text": [
      "0.4746206522070749\n",
      "\n",
      "\n",
      "0.7381767343306798\n"
     ]
    }
   ],
   "source": [
    "#Training using the decision trees \n",
    "from sklearn.tree import DecisionTreeRegressor\n",
    "dtree = DecisionTreeRegressor()\n",
    "dtree.fit(X_train,y_train)\n",
    "dt_pred = dtree.predict(X_test)\n",
    "print(np.sqrt(metrics.mean_squared_error(y_test, dt_pred)))\n",
    "print('\\n')\n",
    "print(metrics.r2_score(y_test,dt_pred))"
   ]
  },
  {
   "cell_type": "code",
   "execution_count": 40,
   "metadata": {},
   "outputs": [
    {
     "name": "stdout",
     "output_type": "stream",
     "text": [
      "0.38903877743749815\n",
      "\n",
      "\n",
      "0.8240858576016541\n"
     ]
    }
   ],
   "source": [
    "#for random forests\n",
    "from sklearn.ensemble import RandomForestRegressor\n",
    "regressor = RandomForestRegressor(n_estimators=30, random_state=20)\n",
    "regressor.fit(X_train, y_train)\n",
    "rfr_pred = regressor.predict(X_test)\n",
    "print(np.sqrt(metrics.mean_squared_error(y_test, rfr_pred)))\n",
    "print('\\n')\n",
    "print(metrics.r2_score(y_test,rfr_pred))"
   ]
  },
  {
   "cell_type": "code",
   "execution_count": 41,
   "metadata": {},
   "outputs": [
    {
     "name": "stderr",
     "output_type": "stream",
     "text": [
      "/home/kb/anaconda3/lib/python3.9/site-packages/seaborn/distributions.py:2619: FutureWarning: `distplot` is a deprecated function and will be removed in a future version. Please adapt your code to use either `displot` (a figure-level function with similar flexibility) or `histplot` (an axes-level function for histograms).\n",
      "  warnings.warn(msg, FutureWarning)\n"
     ]
    },
    {
     "data": {
      "text/plain": [
       "<AxesSubplot:xlabel='PRICE_2', ylabel='Density'>"
      ]
     },
     "execution_count": 41,
     "metadata": {},
     "output_type": "execute_result"
    },
    {
     "data": {
      "image/png": "[encoded data removed]",
      "text/plain": [
       "<Figure size 432x288 with 1 Axes>"
      ]
     },
     "metadata": {
      "needs_background": "light"
     },
     "output_type": "display_data"
    }
   ],
   "source": [
    "sns.distplot((y_test-rfr_pred))"
   ]
  },
  {
   "cell_type": "code",
   "execution_count": 42,
   "metadata": {},
   "outputs": [
    {
     "name": "stdout",
     "output_type": "stream",
     "text": [
      "0.6122830264669512\n",
      "\n",
      "\n",
      "0.564268043386885\n"
     ]
    }
   ],
   "source": [
    "#checking using the support vector regressor\n",
    "from sklearn.svm import SVR\n",
    "svr_regressor = SVR(kernel='rbf')\n",
    "svr_regressor.fit(X_train,y_train)\n",
    "svr_pred = svr_regressor.predict(X_test)\n",
    "print(np.sqrt(metrics.mean_squared_error(y_test, svr_pred)))\n",
    "print('\\n')\n",
    "print(metrics.r2_score(y_test,svr_pred))"
   ]
  },
  {
   "cell_type": "code",
   "execution_count": 43,
   "metadata": {},
   "outputs": [],
   "source": [
    "#Inversing the standardized features\n",
    "inv_df=scaler.inverse_transform(standardized_df, copy=None)\n",
    "nhc = pd.DataFrame(inv_df,columns=new_df.columns)"
   ]
  },
  {
   "cell_type": "code",
   "execution_count": 44,
   "metadata": {},
   "outputs": [
    {
     "data": {
      "text/html": [
       "<div>\n",
       "<style scoped>\n",
       "    .dataframe tbody tr th:only-of-type {\n",
       "        vertical-align: middle;\n",
       "    }\n",
       "\n",
       "    .dataframe tbody tr th {\n",
       "        vertical-align: top;\n",
       "    }\n",
       "\n",
       "    .dataframe thead th {\n",
       "        text-align: right;\n",
       "    }\n",
       "</style>\n",
       "<table border=\"1\" class=\"dataframe\">\n",
       "  <thead>\n",
       "    <tr style=\"text-align: right;\">\n",
       "      <th></th>\n",
       "      <th>NUMBER_OF_ROOMS</th>\n",
       "      <th>FLOOR_AREA</th>\n",
       "      <th>HOUSE_TYPE</th>\n",
       "      <th>PRICE_2</th>\n",
       "      <th>LATITUDE</th>\n",
       "      <th>LONGITUDE</th>\n",
       "    </tr>\n",
       "  </thead>\n",
       "  <tbody>\n",
       "    <tr>\n",
       "      <th>0</th>\n",
       "      <td>3.0</td>\n",
       "      <td>154.0</td>\n",
       "      <td>2.0</td>\n",
       "      <td>637200000.0</td>\n",
       "      <td>-6.776012</td>\n",
       "      <td>39.178326</td>\n",
       "    </tr>\n",
       "    <tr>\n",
       "      <th>1</th>\n",
       "      <td>2.0</td>\n",
       "      <td>140.0</td>\n",
       "      <td>2.0</td>\n",
       "      <td>408870000.0</td>\n",
       "      <td>-6.723100</td>\n",
       "      <td>39.229900</td>\n",
       "    </tr>\n",
       "    <tr>\n",
       "      <th>2</th>\n",
       "      <td>3.0</td>\n",
       "      <td>151.0</td>\n",
       "      <td>1.0</td>\n",
       "      <td>176398200.0</td>\n",
       "      <td>-8.148100</td>\n",
       "      <td>33.259400</td>\n",
       "    </tr>\n",
       "    <tr>\n",
       "      <th>3</th>\n",
       "      <td>3.0</td>\n",
       "      <td>154.0</td>\n",
       "      <td>2.0</td>\n",
       "      <td>627509250.0</td>\n",
       "      <td>-6.776012</td>\n",
       "      <td>39.178326</td>\n",
       "    </tr>\n",
       "    <tr>\n",
       "      <th>4</th>\n",
       "      <td>3.0</td>\n",
       "      <td>85.0</td>\n",
       "      <td>1.0</td>\n",
       "      <td>52381663.0</td>\n",
       "      <td>-10.642500</td>\n",
       "      <td>35.631700</td>\n",
       "    </tr>\n",
       "  </tbody>\n",
       "</table>\n",
       "</div>"
      ],
      "text/plain": [
       "   NUMBER_OF_ROOMS  FLOOR_AREA  HOUSE_TYPE      PRICE_2   LATITUDE  LONGITUDE\n",
       "0              3.0       154.0         2.0  637200000.0  -6.776012  39.178326\n",
       "1              2.0       140.0         2.0  408870000.0  -6.723100  39.229900\n",
       "2              3.0       151.0         1.0  176398200.0  -8.148100  33.259400\n",
       "3              3.0       154.0         2.0  627509250.0  -6.776012  39.178326\n",
       "4              3.0        85.0         1.0   52381663.0 -10.642500  35.631700"
      ]
     },
     "execution_count": 44,
     "metadata": {},
     "output_type": "execute_result"
    }
   ],
   "source": [
    "nhc.head()"
   ]
  },
  {
   "cell_type": "code",
   "execution_count": 45,
   "metadata": {},
   "outputs": [],
   "source": [
    "#Assigning the features into X and Y \n",
    "X_column= nhc[['NUMBER_OF_ROOMS', 'FLOOR_AREA', 'HOUSE_TYPE', 'LATITUDE','LONGITUDE']]\n",
    "y_column = nhc['PRICE_2']"
   ]
  },
  {
   "cell_type": "code",
   "execution_count": 46,
   "metadata": {},
   "outputs": [],
   "source": [
    "#Splitting the features into training and test sets\n",
    "from sklearn.model_selection import train_test_split\n",
    "X_train, X_test, y_train, y_test = train_test_split(X_column, y_column, test_size=0.3, random_state=20)"
   ]
  },
  {
   "cell_type": "code",
   "execution_count": 47,
   "metadata": {},
   "outputs": [
    {
     "name": "stdout",
     "output_type": "stream",
     "text": [
      "77382184.47148551\n",
      "\n",
      "\n",
      "0.8331303262847728\n"
     ]
    }
   ],
   "source": [
    "#for random forests\n",
    "from sklearn.ensemble import RandomForestRegressor\n",
    "regressor = RandomForestRegressor(n_estimators=30, random_state=20)\n",
    "regressor.fit(X_train, y_train)\n",
    "rfr_pred = regressor.predict(X_test)\n",
    "print(np.sqrt(metrics.mean_squared_error(y_test, rfr_pred)))\n",
    "print('\\n')\n",
    "print(metrics.r2_score(y_test,rfr_pred))"
   ]
  },
  {
   "cell_type": "code",
   "execution_count": 48,
   "metadata": {},
   "outputs": [
    {
     "data": {
      "text/plain": [
       "66    5.928615e+08\n",
       "51    4.779000e+08\n",
       "12    2.764176e+08\n",
       "Name: PRICE_2, dtype: float64"
      ]
     },
     "execution_count": 48,
     "metadata": {},
     "output_type": "execute_result"
    }
   ],
   "source": [
    "y_test[:3]"
   ]
  },
  {
   "cell_type": "code",
   "execution_count": 49,
   "metadata": {},
   "outputs": [
    {
     "data": {
      "text/plain": [
       "array([5.40010737e+08, 4.75287155e+08, 2.97042198e+08])"
      ]
     },
     "execution_count": 49,
     "metadata": {},
     "output_type": "execute_result"
    }
   ],
   "source": [
    "rfr_pred[:3]"
   ]
  },
  {
   "cell_type": "code",
   "execution_count": 50,
   "metadata": {},
   "outputs": [],
   "source": [
    "#Saving every other model\n",
    "from json5 import dump, load"
   ]
  },
  {
   "cell_type": "code",
   "execution_count": 51,
   "metadata": {},
   "outputs": [],
   "source": [
    "import pickle\n",
    "with open('regressor_pkl', 'wb') as f:\n",
    "    pickle.dump(regressor, f)"
   ]
  },
  {
   "cell_type": "code",
   "execution_count": 52,
   "metadata": {},
   "outputs": [],
   "source": [
    "# pred = loaded_regressor.predict(X_test)"
   ]
  },
  {
   "cell_type": "code",
   "execution_count": 53,
   "metadata": {},
   "outputs": [],
   "source": [
    "# pred[:5]"
   ]
  },
  {
   "cell_type": "code",
   "execution_count": 54,
   "metadata": {},
   "outputs": [
    {
     "data": {
      "text/html": [
       "<div>\n",
       "<style scoped>\n",
       "    .dataframe tbody tr th:only-of-type {\n",
       "        vertical-align: middle;\n",
       "    }\n",
       "\n",
       "    .dataframe tbody tr th {\n",
       "        vertical-align: top;\n",
       "    }\n",
       "\n",
       "    .dataframe thead th {\n",
       "        text-align: right;\n",
       "    }\n",
       "</style>\n",
       "<table border=\"1\" class=\"dataframe\">\n",
       "  <thead>\n",
       "    <tr style=\"text-align: right;\">\n",
       "      <th></th>\n",
       "      <th>NUMBER_OF_ROOMS</th>\n",
       "      <th>FLOOR_AREA</th>\n",
       "      <th>HOUSE_TYPE</th>\n",
       "      <th>LATITUDE</th>\n",
       "      <th>LONGITUDE</th>\n",
       "    </tr>\n",
       "  </thead>\n",
       "  <tbody>\n",
       "    <tr>\n",
       "      <th>66</th>\n",
       "      <td>3.0</td>\n",
       "      <td>154.0</td>\n",
       "      <td>2.0</td>\n",
       "      <td>-6.776012</td>\n",
       "      <td>39.178326</td>\n",
       "    </tr>\n",
       "    <tr>\n",
       "      <th>51</th>\n",
       "      <td>3.0</td>\n",
       "      <td>150.0</td>\n",
       "      <td>2.0</td>\n",
       "      <td>-6.723100</td>\n",
       "      <td>39.229900</td>\n",
       "    </tr>\n",
       "    <tr>\n",
       "      <th>12</th>\n",
       "      <td>3.0</td>\n",
       "      <td>168.0</td>\n",
       "      <td>2.0</td>\n",
       "      <td>-6.796200</td>\n",
       "      <td>39.269300</td>\n",
       "    </tr>\n",
       "    <tr>\n",
       "      <th>83</th>\n",
       "      <td>3.0</td>\n",
       "      <td>130.0</td>\n",
       "      <td>1.0</td>\n",
       "      <td>-2.515400</td>\n",
       "      <td>32.973600</td>\n",
       "    </tr>\n",
       "    <tr>\n",
       "      <th>36</th>\n",
       "      <td>3.0</td>\n",
       "      <td>70.0</td>\n",
       "      <td>1.0</td>\n",
       "      <td>-10.658900</td>\n",
       "      <td>35.646000</td>\n",
       "    </tr>\n",
       "    <tr>\n",
       "      <th>44</th>\n",
       "      <td>3.0</td>\n",
       "      <td>85.0</td>\n",
       "      <td>1.0</td>\n",
       "      <td>-2.732200</td>\n",
       "      <td>36.695500</td>\n",
       "    </tr>\n",
       "    <tr>\n",
       "      <th>23</th>\n",
       "      <td>3.0</td>\n",
       "      <td>100.0</td>\n",
       "      <td>1.0</td>\n",
       "      <td>-3.302900</td>\n",
       "      <td>36.445300</td>\n",
       "    </tr>\n",
       "    <tr>\n",
       "      <th>0</th>\n",
       "      <td>3.0</td>\n",
       "      <td>154.0</td>\n",
       "      <td>2.0</td>\n",
       "      <td>-6.776012</td>\n",
       "      <td>39.178326</td>\n",
       "    </tr>\n",
       "    <tr>\n",
       "      <th>77</th>\n",
       "      <td>3.0</td>\n",
       "      <td>110.0</td>\n",
       "      <td>1.0</td>\n",
       "      <td>-10.265800</td>\n",
       "      <td>40.184600</td>\n",
       "    </tr>\n",
       "    <tr>\n",
       "      <th>45</th>\n",
       "      <td>2.0</td>\n",
       "      <td>56.0</td>\n",
       "      <td>1.0</td>\n",
       "      <td>-10.642500</td>\n",
       "      <td>35.631700</td>\n",
       "    </tr>\n",
       "    <tr>\n",
       "      <th>50</th>\n",
       "      <td>3.0</td>\n",
       "      <td>85.0</td>\n",
       "      <td>1.0</td>\n",
       "      <td>-5.088800</td>\n",
       "      <td>39.102300</td>\n",
       "    </tr>\n",
       "    <tr>\n",
       "      <th>37</th>\n",
       "      <td>2.0</td>\n",
       "      <td>56.0</td>\n",
       "      <td>1.0</td>\n",
       "      <td>-5.900000</td>\n",
       "      <td>37.400000</td>\n",
       "    </tr>\n",
       "    <tr>\n",
       "      <th>39</th>\n",
       "      <td>3.0</td>\n",
       "      <td>79.0</td>\n",
       "      <td>2.0</td>\n",
       "      <td>-6.200800</td>\n",
       "      <td>35.836900</td>\n",
       "    </tr>\n",
       "    <tr>\n",
       "      <th>48</th>\n",
       "      <td>3.0</td>\n",
       "      <td>188.0</td>\n",
       "      <td>2.0</td>\n",
       "      <td>-6.779000</td>\n",
       "      <td>39.253400</td>\n",
       "    </tr>\n",
       "    <tr>\n",
       "      <th>2</th>\n",
       "      <td>3.0</td>\n",
       "      <td>151.0</td>\n",
       "      <td>1.0</td>\n",
       "      <td>-8.148100</td>\n",
       "      <td>33.259400</td>\n",
       "    </tr>\n",
       "    <tr>\n",
       "      <th>5</th>\n",
       "      <td>2.0</td>\n",
       "      <td>65.0</td>\n",
       "      <td>1.0</td>\n",
       "      <td>-6.797800</td>\n",
       "      <td>39.262100</td>\n",
       "    </tr>\n",
       "    <tr>\n",
       "      <th>1</th>\n",
       "      <td>2.0</td>\n",
       "      <td>140.0</td>\n",
       "      <td>2.0</td>\n",
       "      <td>-6.723100</td>\n",
       "      <td>39.229900</td>\n",
       "    </tr>\n",
       "    <tr>\n",
       "      <th>21</th>\n",
       "      <td>3.0</td>\n",
       "      <td>115.0</td>\n",
       "      <td>2.0</td>\n",
       "      <td>-6.200800</td>\n",
       "      <td>35.836900</td>\n",
       "    </tr>\n",
       "    <tr>\n",
       "      <th>64</th>\n",
       "      <td>3.0</td>\n",
       "      <td>184.0</td>\n",
       "      <td>2.0</td>\n",
       "      <td>-6.723100</td>\n",
       "      <td>39.229900</td>\n",
       "    </tr>\n",
       "    <tr>\n",
       "      <th>73</th>\n",
       "      <td>3.0</td>\n",
       "      <td>144.0</td>\n",
       "      <td>1.0</td>\n",
       "      <td>-6.797800</td>\n",
       "      <td>39.262100</td>\n",
       "    </tr>\n",
       "    <tr>\n",
       "      <th>27</th>\n",
       "      <td>3.0</td>\n",
       "      <td>85.0</td>\n",
       "      <td>1.0</td>\n",
       "      <td>-9.981900</td>\n",
       "      <td>39.699600</td>\n",
       "    </tr>\n",
       "    <tr>\n",
       "      <th>67</th>\n",
       "      <td>3.0</td>\n",
       "      <td>85.0</td>\n",
       "      <td>1.0</td>\n",
       "      <td>-6.797800</td>\n",
       "      <td>39.262100</td>\n",
       "    </tr>\n",
       "    <tr>\n",
       "      <th>59</th>\n",
       "      <td>3.0</td>\n",
       "      <td>125.0</td>\n",
       "      <td>2.0</td>\n",
       "      <td>-10.281000</td>\n",
       "      <td>40.180200</td>\n",
       "    </tr>\n",
       "    <tr>\n",
       "      <th>31</th>\n",
       "      <td>3.0</td>\n",
       "      <td>85.0</td>\n",
       "      <td>2.0</td>\n",
       "      <td>-6.200800</td>\n",
       "      <td>35.836900</td>\n",
       "    </tr>\n",
       "    <tr>\n",
       "      <th>8</th>\n",
       "      <td>3.0</td>\n",
       "      <td>100.0</td>\n",
       "      <td>1.0</td>\n",
       "      <td>-6.797800</td>\n",
       "      <td>39.262100</td>\n",
       "    </tr>\n",
       "    <tr>\n",
       "      <th>49</th>\n",
       "      <td>3.0</td>\n",
       "      <td>70.0</td>\n",
       "      <td>1.0</td>\n",
       "      <td>-6.380387</td>\n",
       "      <td>34.453902</td>\n",
       "    </tr>\n",
       "  </tbody>\n",
       "</table>\n",
       "</div>"
      ],
      "text/plain": [
       "    NUMBER_OF_ROOMS  FLOOR_AREA  HOUSE_TYPE   LATITUDE  LONGITUDE\n",
       "66              3.0       154.0         2.0  -6.776012  39.178326\n",
       "51              3.0       150.0         2.0  -6.723100  39.229900\n",
       "12              3.0       168.0         2.0  -6.796200  39.269300\n",
       "83              3.0       130.0         1.0  -2.515400  32.973600\n",
       "36              3.0        70.0         1.0 -10.658900  35.646000\n",
       "44              3.0        85.0         1.0  -2.732200  36.695500\n",
       "23              3.0       100.0         1.0  -3.302900  36.445300\n",
       "0               3.0       154.0         2.0  -6.776012  39.178326\n",
       "77              3.0       110.0         1.0 -10.265800  40.184600\n",
       "45              2.0        56.0         1.0 -10.642500  35.631700\n",
       "50              3.0        85.0         1.0  -5.088800  39.102300\n",
       "37              2.0        56.0         1.0  -5.900000  37.400000\n",
       "39              3.0        79.0         2.0  -6.200800  35.836900\n",
       "48              3.0       188.0         2.0  -6.779000  39.253400\n",
       "2               3.0       151.0         1.0  -8.148100  33.259400\n",
       "5               2.0        65.0         1.0  -6.797800  39.262100\n",
       "1               2.0       140.0         2.0  -6.723100  39.229900\n",
       "21              3.0       115.0         2.0  -6.200800  35.836900\n",
       "64              3.0       184.0         2.0  -6.723100  39.229900\n",
       "73              3.0       144.0         1.0  -6.797800  39.262100\n",
       "27              3.0        85.0         1.0  -9.981900  39.699600\n",
       "67              3.0        85.0         1.0  -6.797800  39.262100\n",
       "59              3.0       125.0         2.0 -10.281000  40.180200\n",
       "31              3.0        85.0         2.0  -6.200800  35.836900\n",
       "8               3.0       100.0         1.0  -6.797800  39.262100\n",
       "49              3.0        70.0         1.0  -6.380387  34.453902"
      ]
     },
     "execution_count": 54,
     "metadata": {},
     "output_type": "execute_result"
    }
   ],
   "source": [
    "X_test"
   ]
  },
  {
   "cell_type": "code",
   "execution_count": null,
   "metadata": {},
   "outputs": [],
   "source": []
  }
 ],
 "metadata": {
  "kernelspec": {
   "display_name": "Python 3 (ipykernel)",
   "language": "python",
   "name": "python3"
  },
  "language_info": {
   "codemirror_mode": {
    "name": "ipython",
    "version": 3
   },
   "file_extension": ".py",
   "mimetype": "text/x-python",
   "name": "python",
   "nbconvert_exporter": "python",
   "pygments_lexer": "ipython3",
   "version": "3.9.7"
  }
 },
 "nbformat": 4,
 "nbformat_minor": 2
}
